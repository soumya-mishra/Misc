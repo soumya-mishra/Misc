{
 "cells": [
  {
   "cell_type": "code",
   "execution_count": 1,
   "metadata": {
    "scrolled": false
   },
   "outputs": [],
   "source": [
    "# !pip install rasa"
   ]
  },
  {
   "cell_type": "code",
   "execution_count": 3,
   "metadata": {},
   "outputs": [
    {
     "ename": "KeyboardInterrupt",
     "evalue": "",
     "output_type": "error",
     "traceback": [
      "\u001b[1;31m---------------------------------------------------------------------------\u001b[0m",
      "\u001b[1;31mKeyboardInterrupt\u001b[0m                         Traceback (most recent call last)",
      "\u001b[1;32m<ipython-input-3-76a01d9c502b>\u001b[0m in \u001b[0;36m<module>\u001b[1;34m\u001b[0m\n\u001b[1;32m----> 1\u001b[1;33m \u001b[1;32mimport\u001b[0m \u001b[0mspacy\u001b[0m\u001b[1;33m\u001b[0m\u001b[1;33m\u001b[0m\u001b[0m\n\u001b[0m",
      "\u001b[1;32m~\\Anaconda3\\lib\\site-packages\\spacy\\__init__.py\u001b[0m in \u001b[0;36m<module>\u001b[1;34m\u001b[0m\n\u001b[0;32m     10\u001b[0m \u001b[1;32mfrom\u001b[0m \u001b[0mthinc\u001b[0m\u001b[1;33m.\u001b[0m\u001b[0mneural\u001b[0m\u001b[1;33m.\u001b[0m\u001b[0mutil\u001b[0m \u001b[1;32mimport\u001b[0m \u001b[0mprefer_gpu\u001b[0m\u001b[1;33m,\u001b[0m \u001b[0mrequire_gpu\u001b[0m\u001b[1;33m\u001b[0m\u001b[1;33m\u001b[0m\u001b[0m\n\u001b[0;32m     11\u001b[0m \u001b[1;33m\u001b[0m\u001b[0m\n\u001b[1;32m---> 12\u001b[1;33m \u001b[1;32mfrom\u001b[0m \u001b[1;33m.\u001b[0m \u001b[1;32mimport\u001b[0m \u001b[0mpipeline\u001b[0m\u001b[1;33m\u001b[0m\u001b[1;33m\u001b[0m\u001b[0m\n\u001b[0m\u001b[0;32m     13\u001b[0m \u001b[1;32mfrom\u001b[0m \u001b[1;33m.\u001b[0m\u001b[0mcli\u001b[0m\u001b[1;33m.\u001b[0m\u001b[0minfo\u001b[0m \u001b[1;32mimport\u001b[0m \u001b[0minfo\u001b[0m \u001b[1;32mas\u001b[0m \u001b[0mcli_info\u001b[0m\u001b[1;33m\u001b[0m\u001b[1;33m\u001b[0m\u001b[0m\n\u001b[0;32m     14\u001b[0m \u001b[1;32mfrom\u001b[0m \u001b[1;33m.\u001b[0m\u001b[0mglossary\u001b[0m \u001b[1;32mimport\u001b[0m \u001b[0mexplain\u001b[0m\u001b[1;33m\u001b[0m\u001b[1;33m\u001b[0m\u001b[0m\n",
      "\u001b[1;32m~\\Anaconda3\\lib\\site-packages\\spacy\\pipeline\\__init__.py\u001b[0m in \u001b[0;36m<module>\u001b[1;34m\u001b[0m\n\u001b[0;32m      4\u001b[0m \u001b[1;32mfrom\u001b[0m \u001b[1;33m.\u001b[0m\u001b[0mpipes\u001b[0m \u001b[1;32mimport\u001b[0m \u001b[0mTagger\u001b[0m\u001b[1;33m,\u001b[0m \u001b[0mDependencyParser\u001b[0m\u001b[1;33m,\u001b[0m \u001b[0mEntityRecognizer\u001b[0m\u001b[1;33m,\u001b[0m \u001b[0mEntityLinker\u001b[0m\u001b[1;33m\u001b[0m\u001b[1;33m\u001b[0m\u001b[0m\n\u001b[0;32m      5\u001b[0m \u001b[1;32mfrom\u001b[0m \u001b[1;33m.\u001b[0m\u001b[0mpipes\u001b[0m \u001b[1;32mimport\u001b[0m \u001b[0mTextCategorizer\u001b[0m\u001b[1;33m,\u001b[0m \u001b[0mTensorizer\u001b[0m\u001b[1;33m,\u001b[0m \u001b[0mPipe\u001b[0m\u001b[1;33m,\u001b[0m \u001b[0mSentencizer\u001b[0m\u001b[1;33m\u001b[0m\u001b[1;33m\u001b[0m\u001b[0m\n\u001b[1;32m----> 6\u001b[1;33m \u001b[1;32mfrom\u001b[0m \u001b[1;33m.\u001b[0m\u001b[0mmorphologizer\u001b[0m \u001b[1;32mimport\u001b[0m \u001b[0mMorphologizer\u001b[0m\u001b[1;33m\u001b[0m\u001b[1;33m\u001b[0m\u001b[0m\n\u001b[0m\u001b[0;32m      7\u001b[0m \u001b[1;32mfrom\u001b[0m \u001b[1;33m.\u001b[0m\u001b[0mentityruler\u001b[0m \u001b[1;32mimport\u001b[0m \u001b[0mEntityRuler\u001b[0m\u001b[1;33m\u001b[0m\u001b[1;33m\u001b[0m\u001b[0m\n\u001b[0;32m      8\u001b[0m \u001b[1;32mfrom\u001b[0m \u001b[1;33m.\u001b[0m\u001b[0mhooks\u001b[0m \u001b[1;32mimport\u001b[0m \u001b[0mSentenceSegmenter\u001b[0m\u001b[1;33m,\u001b[0m \u001b[0mSimilarityHook\u001b[0m\u001b[1;33m\u001b[0m\u001b[1;33m\u001b[0m\u001b[0m\n",
      "\u001b[1;32m~\\Anaconda3\\lib\\importlib\\_bootstrap.py\u001b[0m in \u001b[0;36mparent\u001b[1;34m(self)\u001b[0m\n",
      "\u001b[1;31mKeyboardInterrupt\u001b[0m: "
     ]
    }
   ],
   "source": [
    "import spacy"
   ]
  },
  {
   "cell_type": "code",
   "execution_count": 5,
   "metadata": {},
   "outputs": [],
   "source": [
    "import rasa"
   ]
  },
  {
   "cell_type": "code",
   "execution_count": 1,
   "metadata": {},
   "outputs": [],
   "source": [
    "import spacy\n",
    "import nltk\n",
    "import pandas as pd\n",
    "import numpy as np\n",
    "from sklearn.feature_extraction.text import CountVectorizer,TfidfVectorizer\n",
    "from nltk.corpus import stopwords\n",
    "import warnings\n",
    "warnings.filterwarnings(\"ignore\")\n",
    "import seaborn as sns\n",
    "import matplotlib.pyplot as plt\n",
    "%matplotlib inline\n",
    "pd.set_option('display.max_rows', 500)\n",
    "pd.set_option('display.max_columns', 100)"
   ]
  },
  {
   "cell_type": "code",
   "execution_count": 2,
   "metadata": {},
   "outputs": [],
   "source": [
    "train = pd.read_csv(r'C:\\Users\\I324158\\Downloads\\train\\train.csv')"
   ]
  },
  {
   "cell_type": "code",
   "execution_count": 3,
   "metadata": {},
   "outputs": [
    {
     "data": {
      "text/html": [
       "<div>\n",
       "<style scoped>\n",
       "    .dataframe tbody tr th:only-of-type {\n",
       "        vertical-align: middle;\n",
       "    }\n",
       "\n",
       "    .dataframe tbody tr th {\n",
       "        vertical-align: top;\n",
       "    }\n",
       "\n",
       "    .dataframe thead th {\n",
       "        text-align: right;\n",
       "    }\n",
       "</style>\n",
       "<table border=\"1\" class=\"dataframe\">\n",
       "  <thead>\n",
       "    <tr style=\"text-align: right;\">\n",
       "      <th></th>\n",
       "      <th>id</th>\n",
       "      <th>text</th>\n",
       "      <th>author</th>\n",
       "    </tr>\n",
       "  </thead>\n",
       "  <tbody>\n",
       "    <tr>\n",
       "      <th>0</th>\n",
       "      <td>id26305</td>\n",
       "      <td>This process, however, afforded me no means of...</td>\n",
       "      <td>EAP</td>\n",
       "    </tr>\n",
       "    <tr>\n",
       "      <th>1</th>\n",
       "      <td>id17569</td>\n",
       "      <td>It never once occurred to me that the fumbling...</td>\n",
       "      <td>HPL</td>\n",
       "    </tr>\n",
       "    <tr>\n",
       "      <th>2</th>\n",
       "      <td>id11008</td>\n",
       "      <td>In his left hand was a gold snuff box, from wh...</td>\n",
       "      <td>EAP</td>\n",
       "    </tr>\n",
       "    <tr>\n",
       "      <th>3</th>\n",
       "      <td>id27763</td>\n",
       "      <td>How lovely is spring As we looked from Windsor...</td>\n",
       "      <td>MWS</td>\n",
       "    </tr>\n",
       "    <tr>\n",
       "      <th>4</th>\n",
       "      <td>id12958</td>\n",
       "      <td>Finding nothing else, not even gold, the Super...</td>\n",
       "      <td>HPL</td>\n",
       "    </tr>\n",
       "  </tbody>\n",
       "</table>\n",
       "</div>"
      ],
      "text/plain": [
       "        id                                               text author\n",
       "0  id26305  This process, however, afforded me no means of...    EAP\n",
       "1  id17569  It never once occurred to me that the fumbling...    HPL\n",
       "2  id11008  In his left hand was a gold snuff box, from wh...    EAP\n",
       "3  id27763  How lovely is spring As we looked from Windsor...    MWS\n",
       "4  id12958  Finding nothing else, not even gold, the Super...    HPL"
      ]
     },
     "execution_count": 3,
     "metadata": {},
     "output_type": "execute_result"
    }
   ],
   "source": [
    "train.head()"
   ]
  },
  {
   "cell_type": "code",
   "execution_count": 4,
   "metadata": {},
   "outputs": [
    {
     "data": {
      "text/plain": [
       "'This process, however, afforded me no means of ascertaining the dimensions of my dungeon; as I might make its circuit, and return to the point whence I set out, without being aware of the fact; so perfectly uniform seemed the wall.'"
      ]
     },
     "execution_count": 4,
     "metadata": {},
     "output_type": "execute_result"
    }
   ],
   "source": [
    "train[\"text\"][0]"
   ]
  },
  {
   "cell_type": "code",
   "execution_count": 5,
   "metadata": {},
   "outputs": [
    {
     "data": {
      "text/plain": [
       "0"
      ]
     },
     "execution_count": 5,
     "metadata": {},
     "output_type": "execute_result"
    }
   ],
   "source": [
    "train.author.isnull().sum()"
   ]
  },
  {
   "cell_type": "code",
   "execution_count": 6,
   "metadata": {},
   "outputs": [
    {
     "data": {
      "text/plain": [
       "0     EAP\n",
       "1     HPL\n",
       "2     EAP\n",
       "3     MWS\n",
       "4     HPL\n",
       "5     MWS\n",
       "6     EAP\n",
       "7     EAP\n",
       "8     EAP\n",
       "9     MWS\n",
       "10    MWS\n",
       "11    EAP\n",
       "12    HPL\n",
       "13    HPL\n",
       "14    EAP\n",
       "15    MWS\n",
       "16    EAP\n",
       "17    MWS\n",
       "18    EAP\n",
       "19    HPL\n",
       "Name: author, dtype: object"
      ]
     },
     "execution_count": 6,
     "metadata": {},
     "output_type": "execute_result"
    }
   ],
   "source": [
    "train[\"author\"].head(20)"
   ]
  },
  {
   "cell_type": "code",
   "execution_count": 7,
   "metadata": {},
   "outputs": [],
   "source": [
    "train[\"split_text\"] = train[\"text\"].apply(lambda x:x.split())"
   ]
  },
  {
   "cell_type": "code",
   "execution_count": 8,
   "metadata": {},
   "outputs": [],
   "source": [
    "train[\"word_count\"] = train[\"split_text\"].apply(lambda x:len(x))"
   ]
  },
  {
   "cell_type": "code",
   "execution_count": 9,
   "metadata": {},
   "outputs": [
    {
     "data": {
      "text/plain": [
       "count    19579.000000\n",
       "mean        26.730477\n",
       "std         19.048353\n",
       "min          2.000000\n",
       "25%         15.000000\n",
       "50%         23.000000\n",
       "75%         34.000000\n",
       "max        861.000000\n",
       "Name: word_count, dtype: float64"
      ]
     },
     "execution_count": 9,
     "metadata": {},
     "output_type": "execute_result"
    }
   ],
   "source": [
    "train[\"word_count\"].describe()"
   ]
  },
  {
   "cell_type": "code",
   "execution_count": 10,
   "metadata": {},
   "outputs": [
    {
     "data": {
      "image/png": "[encoded data removed]",
      "text/plain": [
       "<Figure size 720x576 with 1 Axes>"
      ]
     },
     "metadata": {
      "needs_background": "light"
     },
     "output_type": "display_data"
    }
   ],
   "source": [
    "plt.figure(figsize=(10,8))\n",
    "sns.distplot(train[\"word_count\"],)\n",
    "plt.show()"
   ]
  },
  {
   "cell_type": "code",
   "execution_count": 11,
   "metadata": {},
   "outputs": [
    {
     "data": {
      "text/plain": [
       "<matplotlib.axes._subplots.AxesSubplot at 0x16415a76f08>"
      ]
     },
     "execution_count": 11,
     "metadata": {},
     "output_type": "execute_result"
    },
    {
     "data": {
      "image/png": "[encoded data removed]",
      "text/plain": [
       "<Figure size 432x288 with 1 Axes>"
      ]
     },
     "metadata": {
      "needs_background": "light"
     },
     "output_type": "display_data"
    }
   ],
   "source": [
    "sns.boxplot(np.log(train[\"word_count\"]))"
   ]
  },
  {
   "cell_type": "code",
   "execution_count": 1,
   "metadata": {},
   "outputs": [
    {
     "ename": "NameError",
     "evalue": "name 'train' is not defined",
     "output_type": "error",
     "traceback": [
      "\u001b[1;31m---------------------------------------------------------------------------\u001b[0m",
      "\u001b[1;31mNameError\u001b[0m                                 Traceback (most recent call last)",
      "\u001b[1;32m<ipython-input-1-76c0e0982439>\u001b[0m in \u001b[0;36m<module>\u001b[1;34m\u001b[0m\n\u001b[1;32m----> 1\u001b[1;33m \u001b[0mtrain\u001b[0m\u001b[1;33m.\u001b[0m\u001b[0mloc\u001b[0m\u001b[1;33m[\u001b[0m\u001b[0mtrain\u001b[0m\u001b[1;33m[\u001b[0m\u001b[1;34m\"word_count\"\u001b[0m\u001b[1;33m]\u001b[0m\u001b[1;33m<=\u001b[0m\u001b[1;36m4\u001b[0m\u001b[1;33m,\u001b[0m \u001b[1;33m[\u001b[0m\u001b[1;34m\"text\"\u001b[0m\u001b[1;33m,\u001b[0m\u001b[1;34m\"author\"\u001b[0m\u001b[1;33m]\u001b[0m\u001b[1;33m]\u001b[0m\u001b[1;33m.\u001b[0m\u001b[0mhead\u001b[0m\u001b[1;33m(\u001b[0m\u001b[1;33m)\u001b[0m\u001b[1;33m\u001b[0m\u001b[1;33m\u001b[0m\u001b[0m\n\u001b[0m",
      "\u001b[1;31mNameError\u001b[0m: name 'train' is not defined"
     ]
    }
   ],
   "source": [
    "train.loc[train[\"word_count\"]<=4, [\"text\",\"author\"]].head()"
   ]
  },
  {
   "cell_type": "code",
   "execution_count": 13,
   "metadata": {},
   "outputs": [
    {
     "data": {
      "text/plain": [
       "<matplotlib.axes._subplots.AxesSubplot at 0x16416336788>"
      ]
     },
     "execution_count": 13,
     "metadata": {},
     "output_type": "execute_result"
    },
    {
     "data": {
      "image/png": "[encoded data removed]",
      "text/plain": [
       "<Figure size 432x288 with 1 Axes>"
      ]
     },
     "metadata": {
      "needs_background": "light"
     },
     "output_type": "display_data"
    }
   ],
   "source": [
    "train[\"author\"].value_counts(normalize=True).plot.bar()"
   ]
  },
  {
   "cell_type": "code",
   "execution_count": 14,
   "metadata": {},
   "outputs": [],
   "source": [
    "nlp = spacy.load(\"en_core_web_sm\")\n",
    "\n",
    "train = train[:50]"
   ]
  },
  {
   "cell_type": "code",
   "execution_count": 15,
   "metadata": {},
   "outputs": [],
   "source": [
    "train[\"spacy_doc\"] = train[\"text\"].apply(lambda x:nlp(x))\n",
    "my_text = \"\"\"The economic situation of the country is on edge , as the stock \n",
    "market crashed causing loss of millions. Citizens who had their main investment \n",
    "in the share-market are facing a great loss. Many companies might lay off \n",
    "thousands of people to reduce labor cost\"\"\""
   ]
  },
  {
   "cell_type": "code",
   "execution_count": 16,
   "metadata": {},
   "outputs": [
    {
     "data": {
      "text/plain": [
       "['process',\n",
       " 'afforded',\n",
       " 'means',\n",
       " 'ascertaining',\n",
       " 'dimensions',\n",
       " 'dungeon',\n",
       " 'circuit',\n",
       " 'return',\n",
       " 'point',\n",
       " 'set',\n",
       " 'aware',\n",
       " 'fact',\n",
       " 'perfectly',\n",
       " 'uniform',\n",
       " 'wall']"
      ]
     },
     "execution_count": 16,
     "metadata": {},
     "output_type": "execute_result"
    }
   ],
   "source": [
    "train[\"clean_text\"] = train[\"spacy_doc\"].apply(lambda x: [i.text for i in x if i.is_stop!=True and i.is_punct!=True])\n",
    "train[\"clean_text\"][0]"
   ]
  },
  {
   "cell_type": "code",
   "execution_count": 17,
   "metadata": {},
   "outputs": [],
   "source": [
    "train[\"lemma_text\"] = train[\"spacy_doc\"].apply(lambda x: [i.lemma_ for i in x if i.is_stop!=True and i.is_punct!=True])"
   ]
  },
  {
   "cell_type": "code",
   "execution_count": 18,
   "metadata": {},
   "outputs": [
    {
     "data": {
      "text/html": [
       "<div>\n",
       "<style scoped>\n",
       "    .dataframe tbody tr th:only-of-type {\n",
       "        vertical-align: middle;\n",
       "    }\n",
       "\n",
       "    .dataframe tbody tr th {\n",
       "        vertical-align: top;\n",
       "    }\n",
       "\n",
       "    .dataframe thead th {\n",
       "        text-align: right;\n",
       "    }\n",
       "</style>\n",
       "<table border=\"1\" class=\"dataframe\">\n",
       "  <thead>\n",
       "    <tr style=\"text-align: right;\">\n",
       "      <th></th>\n",
       "      <th>id</th>\n",
       "      <th>text</th>\n",
       "      <th>author</th>\n",
       "      <th>split_text</th>\n",
       "      <th>word_count</th>\n",
       "      <th>spacy_doc</th>\n",
       "      <th>clean_text</th>\n",
       "      <th>lemma_text</th>\n",
       "    </tr>\n",
       "  </thead>\n",
       "  <tbody>\n",
       "    <tr>\n",
       "      <th>0</th>\n",
       "      <td>id26305</td>\n",
       "      <td>This process, however, afforded me no means of...</td>\n",
       "      <td>EAP</td>\n",
       "      <td>[This, process,, however,, afforded, me, no, m...</td>\n",
       "      <td>41</td>\n",
       "      <td>(This, process, ,, however, ,, afforded, me, n...</td>\n",
       "      <td>[process, afforded, means, ascertaining, dimen...</td>\n",
       "      <td>[process, afford, means, ascertain, dimension,...</td>\n",
       "    </tr>\n",
       "    <tr>\n",
       "      <th>1</th>\n",
       "      <td>id17569</td>\n",
       "      <td>It never once occurred to me that the fumbling...</td>\n",
       "      <td>HPL</td>\n",
       "      <td>[It, never, once, occurred, to, me, that, the,...</td>\n",
       "      <td>14</td>\n",
       "      <td>(It, never, once, occurred, to, me, that, the,...</td>\n",
       "      <td>[occurred, fumbling, mere, mistake]</td>\n",
       "      <td>[occur, fumbling, mere, mistake]</td>\n",
       "    </tr>\n",
       "    <tr>\n",
       "      <th>2</th>\n",
       "      <td>id11008</td>\n",
       "      <td>In his left hand was a gold snuff box, from wh...</td>\n",
       "      <td>EAP</td>\n",
       "      <td>[In, his, left, hand, was, a, gold, snuff, box...</td>\n",
       "      <td>36</td>\n",
       "      <td>(In, his, left, hand, was, a, gold, snuff, box...</td>\n",
       "      <td>[left, hand, gold, snuff, box, capered, hill, ...</td>\n",
       "      <td>[left, hand, gold, snuff, box, caper, hill, cu...</td>\n",
       "    </tr>\n",
       "    <tr>\n",
       "      <th>3</th>\n",
       "      <td>id27763</td>\n",
       "      <td>How lovely is spring As we looked from Windsor...</td>\n",
       "      <td>MWS</td>\n",
       "      <td>[How, lovely, is, spring, As, we, looked, from...</td>\n",
       "      <td>34</td>\n",
       "      <td>(How, lovely, is, spring, As, we, looked, from...</td>\n",
       "      <td>[lovely, spring, looked, Windsor, Terrace, six...</td>\n",
       "      <td>[lovely, spring, look, Windsor, Terrace, sixte...</td>\n",
       "    </tr>\n",
       "    <tr>\n",
       "      <th>4</th>\n",
       "      <td>id12958</td>\n",
       "      <td>Finding nothing else, not even gold, the Super...</td>\n",
       "      <td>HPL</td>\n",
       "      <td>[Finding, nothing, else,, not, even, gold,, th...</td>\n",
       "      <td>27</td>\n",
       "      <td>(Finding, nothing, else, ,, not, even, gold, ,...</td>\n",
       "      <td>[Finding, gold, Superintendent, abandoned, att...</td>\n",
       "      <td>[find, gold, Superintendent, abandon, attempt,...</td>\n",
       "    </tr>\n",
       "  </tbody>\n",
       "</table>\n",
       "</div>"
      ],
      "text/plain": [
       "        id                                               text author  \\\n",
       "0  id26305  This process, however, afforded me no means of...    EAP   \n",
       "1  id17569  It never once occurred to me that the fumbling...    HPL   \n",
       "2  id11008  In his left hand was a gold snuff box, from wh...    EAP   \n",
       "3  id27763  How lovely is spring As we looked from Windsor...    MWS   \n",
       "4  id12958  Finding nothing else, not even gold, the Super...    HPL   \n",
       "\n",
       "                                          split_text  word_count  \\\n",
       "0  [This, process,, however,, afforded, me, no, m...          41   \n",
       "1  [It, never, once, occurred, to, me, that, the,...          14   \n",
       "2  [In, his, left, hand, was, a, gold, snuff, box...          36   \n",
       "3  [How, lovely, is, spring, As, we, looked, from...          34   \n",
       "4  [Finding, nothing, else,, not, even, gold,, th...          27   \n",
       "\n",
       "                                           spacy_doc  \\\n",
       "0  (This, process, ,, however, ,, afforded, me, n...   \n",
       "1  (It, never, once, occurred, to, me, that, the,...   \n",
       "2  (In, his, left, hand, was, a, gold, snuff, box...   \n",
       "3  (How, lovely, is, spring, As, we, looked, from...   \n",
       "4  (Finding, nothing, else, ,, not, even, gold, ,...   \n",
       "\n",
       "                                          clean_text  \\\n",
       "0  [process, afforded, means, ascertaining, dimen...   \n",
       "1                [occurred, fumbling, mere, mistake]   \n",
       "2  [left, hand, gold, snuff, box, capered, hill, ...   \n",
       "3  [lovely, spring, looked, Windsor, Terrace, six...   \n",
       "4  [Finding, gold, Superintendent, abandoned, att...   \n",
       "\n",
       "                                          lemma_text  \n",
       "0  [process, afford, means, ascertain, dimension,...  \n",
       "1                   [occur, fumbling, mere, mistake]  \n",
       "2  [left, hand, gold, snuff, box, caper, hill, cu...  \n",
       "3  [lovely, spring, look, Windsor, Terrace, sixte...  \n",
       "4  [find, gold, Superintendent, abandon, attempt,...  "
      ]
     },
     "execution_count": 18,
     "metadata": {},
     "output_type": "execute_result"
    }
   ],
   "source": [
    "train.head()"
   ]
  },
  {
   "cell_type": "code",
   "execution_count": 19,
   "metadata": {},
   "outputs": [],
   "source": [
    "def calc_hash(x):\n",
    "    l1 = list()\n",
    "    for i in x:\n",
    "        l1.append(nlp.vocab.strings[i])\n",
    "    return l1\n",
    "train[\"hash_value\"] = train[\"lemma_text\"].apply(calc_hash)"
   ]
  },
  {
   "cell_type": "code",
   "execution_count": 1,
   "metadata": {},
   "outputs": [
    {
     "data": {
      "text/plain": [
       "['siku']"
      ]
     },
     "execution_count": 1,
     "metadata": {},
     "output_type": "execute_result"
    }
   ],
   "source": [
    "import re\n",
    "re.findall(\"siku?\", \"sikuaimain\")\n",
    "# a = re.finditer(\"ai\",\"sikuaimain\")"
   ]
  },
  {
   "cell_type": "code",
   "execution_count": 2,
   "metadata": {},
   "outputs": [
    {
     "name": "stdout",
     "output_type": "stream",
     "text": [
      "<re.Match object; span=(12, 17), match='spain'>\n"
     ]
    }
   ],
   "source": [
    "print(re.search(\"spain$\",\"The rain in spain\"))"
   ]
  },
  {
   "cell_type": "code",
   "execution_count": 3,
   "metadata": {},
   "outputs": [
    {
     "data": {
      "text/plain": [
       "<re.Match object; span=(10, 12), match='13'>"
      ]
     },
     "execution_count": 3,
     "metadata": {},
     "output_type": "execute_result"
    }
   ],
   "source": [
    "re.search(\"\\d\\d*\",\"soumyaiter13@gmail123siku\")"
   ]
  },
  {
   "cell_type": "markdown",
   "metadata": {},
   "source": [
    "- findall(reg,txt)\n",
    "- search(reg,txt) - match 1st instance of string and returns match object\n",
    "- split(reg,txt)\n",
    "- sub(oldstring,newstring,txt) -  substitute old with new \n",
    "- finditer(reg,txt)\n",
    "- re.compile(pattern)<br>\n",
    "- re.match(reg,txt) - Matches only at the begining \n",
    "\n",
    "`\n",
    "a = re.compile(\"a\")\n",
    "a.search(\"abcb\")\n",
    "<re.Match object; span=(0, 1), match='a'> `\n",
    "\n",
    "\n",
    "`\n",
    "a.match(\"abcd\")\n",
    "<re.Match object; span=(0, 1), match='a'> `\n",
    "\n",
    "`pattern = re.compile(\"d\")\n",
    "pattern.search(\"dog\")\n",
    "pattern.match()|findall()|finditer() etc.also works ` \n",
    "\n",
    "`\n",
    "match.group(0)\n",
    "match.groups()\n",
    "match.start()\n",
    "match.end()\n",
    "match.span() # (0,2) `\n",
    "\n",
    "`\n",
    "^ - start of a string ^abc\n",
    "$ - end of a string  siku$\n",
    ". - matches any char \n",
    "\\  escape sequence\n",
    "A|B  - or \n",
    "+ -  matches the expression to its left 1 or more times `\n"
   ]
  },
  {
   "cell_type": "code",
   "execution_count": 4,
   "metadata": {},
   "outputs": [
    {
     "data": {
      "text/plain": [
       "<re.Match object; span=(0, 1), match='a'>"
      ]
     },
     "execution_count": 4,
     "metadata": {},
     "output_type": "execute_result"
    }
   ],
   "source": [
    "a = re.compile(\"a\")\n",
    "a.search(\"abcb\")\n"
   ]
  },
  {
   "cell_type": "code",
   "execution_count": 5,
   "metadata": {},
   "outputs": [
    {
     "data": {
      "text/plain": [
       "<re.Match object; span=(0, 1), match='a'>"
      ]
     },
     "execution_count": 5,
     "metadata": {},
     "output_type": "execute_result"
    }
   ],
   "source": [
    "a.match(\"abcd\")"
   ]
  },
  {
   "cell_type": "code",
   "execution_count": 6,
   "metadata": {},
   "outputs": [
    {
     "data": {
      "text/plain": [
       "'so'"
      ]
     },
     "execution_count": 6,
     "metadata": {},
     "output_type": "execute_result"
    }
   ],
   "source": [
    "p1 = re.compile(\"so\")\n",
    "m1=p1.search(\"so it is very hot.we are so so lucky to have you\")\n",
    "m1.group(0)"
   ]
  },
  {
   "cell_type": "code",
   "execution_count": 7,
   "metadata": {},
   "outputs": [
    {
     "data": {
      "text/plain": [
       "(0, 2)"
      ]
     },
     "execution_count": 7,
     "metadata": {},
     "output_type": "execute_result"
    }
   ],
   "source": [
    "m1.span()"
   ]
  },
  {
   "cell_type": "code",
   "execution_count": null,
   "metadata": {},
   "outputs": [],
   "source": []
  },
  {
   "cell_type": "code",
   "execution_count": 32,
   "metadata": {},
   "outputs": [],
   "source": [
    "a = re.search(\"is\",\"siku is a bad boy\")"
   ]
  },
  {
   "cell_type": "code",
   "execution_count": 33,
   "metadata": {},
   "outputs": [
    {
     "data": {
      "text/plain": [
       "<re.Match object; span=(5, 7), match='is'>"
      ]
     },
     "execution_count": 33,
     "metadata": {},
     "output_type": "execute_result"
    }
   ],
   "source": [
    "a"
   ]
  },
  {
   "cell_type": "code",
   "execution_count": 34,
   "metadata": {},
   "outputs": [
    {
     "data": {
      "text/plain": [
       "'is'"
      ]
     },
     "execution_count": 34,
     "metadata": {},
     "output_type": "execute_result"
    }
   ],
   "source": [
    "a.group()"
   ]
  },
  {
   "cell_type": "code",
   "execution_count": 38,
   "metadata": {},
   "outputs": [
    {
     "data": {
      "text/plain": [
       "<re.Match object; span=(0, 6), match='101100'>"
      ]
     },
     "execution_count": 38,
     "metadata": {},
     "output_type": "execute_result"
    }
   ],
   "source": [
    "re.search(\"101*0*\", \"101100\")"
   ]
  },
  {
   "cell_type": "code",
   "execution_count": 43,
   "metadata": {},
   "outputs": [
    {
     "data": {
      "text/plain": [
       "['abbb']"
      ]
     },
     "execution_count": 43,
     "metadata": {},
     "output_type": "execute_result"
    }
   ],
   "source": [
    "re.findall(r'ab{3,}?', 'abbbbbbbbb')"
   ]
  },
  {
   "cell_type": "code",
   "execution_count": 2,
   "metadata": {},
   "outputs": [],
   "source": [
    "from nltk import regexp_tokenize"
   ]
  },
  {
   "cell_type": "code",
   "execution_count": 7,
   "metadata": {},
   "outputs": [
    {
     "data": {
      "text/plain": [
       "['@upgrad', '@iiitb']"
      ]
     },
     "execution_count": 7,
     "metadata": {},
     "output_type": "execute_result"
    }
   ],
   "source": [
    "from nltk import regexp_tokenize\n",
    "sent = \"So excited to be a part of machine learning and artificial intelligence program made by @upgrad and @iiitb\"\n",
    "pattern = \"@[\\w]*\"\n",
    "regexp_tokenize(sent,pattern)"
   ]
  },
  {
   "cell_type": "code",
   "execution_count": 16,
   "metadata": {},
   "outputs": [
    {
     "data": {
      "text/plain": [
       "['So',\n",
       " 'excited',\n",
       " 'to',\n",
       " 'be',\n",
       " 'a',\n",
       " 'part',\n",
       " 'of',\n",
       " 'machine',\n",
       " 'learning',\n",
       " 'and',\n",
       " 'artificial',\n",
       " 'intelligence',\n",
       " 'program',\n",
       " 'made',\n",
       " 'by',\n",
       " '@upgrad',\n",
       " 'and',\n",
       " '@iiitb']"
      ]
     },
     "execution_count": 16,
     "metadata": {},
     "output_type": "execute_result"
    }
   ],
   "source": [
    "from nltk import TweetTokenizer\n",
    "tokenizer = TweetTokenizer()\n",
    "tokens.tokenize(sent)"
   ]
  },
  {
   "cell_type": "code",
   "execution_count": 24,
   "metadata": {},
   "outputs": [],
   "source": [
    "Doc1= \"there was a place on my ankle that was itching\"\n",
    "Doc2 = \"but I did not scratch it\"\n",
    "Doc3=\"and then my ear began to itch\"\n",
    "Doc4 = \"and next my back\"\n",
    "\n",
    "l1 = Doc1.split()\n"
   ]
  },
  {
   "cell_type": "code",
   "execution_count": 25,
   "metadata": {},
   "outputs": [],
   "source": [
    "l1.extend(Doc2.split())\n",
    "l1.extend(Doc3.split())\n",
    "l1.extend(Doc4.split())"
   ]
  },
  {
   "cell_type": "code",
   "execution_count": 32,
   "metadata": {},
   "outputs": [
    {
     "data": {
      "text/plain": [
       "27"
      ]
     },
     "execution_count": 32,
     "metadata": {},
     "output_type": "execute_result"
    }
   ],
   "source": [
    "len(l1)"
   ]
  },
  {
   "cell_type": "code",
   "execution_count": 34,
   "metadata": {},
   "outputs": [],
   "source": [
    "finaldoc = [Doc1,Doc2,Doc3,Doc4]"
   ]
  },
  {
   "cell_type": "code",
   "execution_count": 35,
   "metadata": {},
   "outputs": [],
   "source": [
    "from collections import Counter"
   ]
  },
  {
   "cell_type": "code",
   "execution_count": 36,
   "metadata": {},
   "outputs": [
    {
     "data": {
      "text/plain": [
       "Counter({'there': 1,\n",
       "         'was': 2,\n",
       "         'a': 1,\n",
       "         'place': 1,\n",
       "         'on': 1,\n",
       "         'my': 3,\n",
       "         'ankle': 1,\n",
       "         'that': 1,\n",
       "         'itching': 1,\n",
       "         'but': 1,\n",
       "         'I': 1,\n",
       "         'did': 1,\n",
       "         'not': 1,\n",
       "         'scratch': 1,\n",
       "         'it': 1,\n",
       "         'and': 2,\n",
       "         'then': 1,\n",
       "         'ear': 1,\n",
       "         'began': 1,\n",
       "         'to': 1,\n",
       "         'itch': 1,\n",
       "         'next': 1,\n",
       "         'back': 1})"
      ]
     },
     "execution_count": 36,
     "metadata": {},
     "output_type": "execute_result"
    }
   ],
   "source": [
    "Counter(l1)"
   ]
  },
  {
   "cell_type": "code",
   "execution_count": 2,
   "metadata": {},
   "outputs": [],
   "source": [
    "doc1 = \"Vapour, Bangalore has a really great terrace seating and an awesome view of the Bangalore skyline\"\n",
    "doc2 = \"The beer at Vapour, Bangalore was amazing. My favourites are the wheat beer and the ale beer.\"\n",
    "doc3= \"Vapour, Bangalore has the best view in Bangalore.\"\n"
   ]
  },
  {
   "cell_type": "code",
   "execution_count": 75,
   "metadata": {},
   "outputs": [],
   "source": [
    "l1 = [doc1,doc2,doc3]"
   ]
  },
  {
   "cell_type": "code",
   "execution_count": 76,
   "metadata": {},
   "outputs": [
    {
     "data": {
      "text/plain": [
       "['Vapour, Bangalore has a really great terrace seating and an awesome view of the Bangalore skyline',\n",
       " 'The beer at Vapour, Bangalore was amazing. My favourites are the wheat beer and the ale beer.',\n",
       " 'Vapour, Bangalore has the best view in Bangalore.']"
      ]
     },
     "execution_count": 76,
     "metadata": {},
     "output_type": "execute_result"
    }
   ],
   "source": [
    "l1"
   ]
  },
  {
   "cell_type": "code",
   "execution_count": 77,
   "metadata": {},
   "outputs": [],
   "source": [
    "from nltk.corpus import stopwords\n",
    "from nltk.tokenize import word_tokenize"
   ]
  },
  {
   "cell_type": "code",
   "execution_count": 78,
   "metadata": {},
   "outputs": [],
   "source": [
    "stopwords = stopwords.words(\"english\")\n"
   ]
  },
  {
   "cell_type": "code",
   "execution_count": 79,
   "metadata": {},
   "outputs": [
    {
     "data": {
      "text/plain": [
       "['Vapour, Bangalore has a really great terrace seating and an awesome view of the Bangalore skyline',\n",
       " 'The beer at Vapour, Bangalore was amazing. My favourites are the wheat beer and the ale beer.',\n",
       " 'Vapour, Bangalore has the best view in Bangalore.']"
      ]
     },
     "execution_count": 79,
     "metadata": {},
     "output_type": "execute_result"
    }
   ],
   "source": [
    "l1"
   ]
  },
  {
   "cell_type": "code",
   "execution_count": 90,
   "metadata": {
    "scrolled": false
   },
   "outputs": [
    {
     "data": {
      "text/plain": [
       "['Vapour',\n",
       " ',',\n",
       " 'Bangalore',\n",
       " 'has',\n",
       " 'a',\n",
       " 'really',\n",
       " 'great',\n",
       " 'terrace',\n",
       " 'seating',\n",
       " 'and',\n",
       " 'an',\n",
       " 'awesome',\n",
       " 'view',\n",
       " 'of',\n",
       " 'the',\n",
       " 'Bangalore',\n",
       " 'skyline',\n",
       " 'The',\n",
       " 'beer',\n",
       " 'at',\n",
       " 'Vapour',\n",
       " ',',\n",
       " 'Bangalore',\n",
       " 'was',\n",
       " 'amazing',\n",
       " '.',\n",
       " 'My',\n",
       " 'favourites',\n",
       " 'are',\n",
       " 'the',\n",
       " 'wheat',\n",
       " 'beer',\n",
       " 'and',\n",
       " 'the',\n",
       " 'ale',\n",
       " 'beer',\n",
       " '.',\n",
       " 'Vapour',\n",
       " ',',\n",
       " 'Bangalore',\n",
       " 'has',\n",
       " 'the',\n",
       " 'best',\n",
       " 'view',\n",
       " 'in',\n",
       " 'Bangalore',\n",
       " '.']"
      ]
     },
     "execution_count": 90,
     "metadata": {},
     "output_type": "execute_result"
    }
   ],
   "source": [
    "tokens = word_tokenize(doc1)\n",
    "tokens.extend(word_tokenize(doc2))\n",
    "tokens.extend(word_tokenize(doc3))\n",
    "tokens"
   ]
  },
  {
   "cell_type": "code",
   "execution_count": 91,
   "metadata": {},
   "outputs": [
    {
     "data": {
      "text/plain": [
       "47"
      ]
     },
     "execution_count": 91,
     "metadata": {},
     "output_type": "execute_result"
    }
   ],
   "source": [
    "len(tokens)"
   ]
  },
  {
   "cell_type": "code",
   "execution_count": 92,
   "metadata": {},
   "outputs": [],
   "source": [
    "t1 = [word for word in tokens if word not in stopwords]"
   ]
  },
  {
   "cell_type": "code",
   "execution_count": 93,
   "metadata": {},
   "outputs": [
    {
     "data": {
      "text/plain": [
       "32"
      ]
     },
     "execution_count": 93,
     "metadata": {},
     "output_type": "execute_result"
    }
   ],
   "source": [
    "len(t1)"
   ]
  },
  {
   "cell_type": "code",
   "execution_count": 94,
   "metadata": {},
   "outputs": [],
   "source": [
    "from sklearn.feature_extraction.text import TfidfVectorizer"
   ]
  },
  {
   "cell_type": "code",
   "execution_count": 95,
   "metadata": {},
   "outputs": [],
   "source": [
    "tf1 = TfidfVectorizer(stop_words=\"english\")"
   ]
  },
  {
   "cell_type": "code",
   "execution_count": 96,
   "metadata": {},
   "outputs": [],
   "source": [
    "array = tf1.fit_transform(tokens)"
   ]
  },
  {
   "cell_type": "code",
   "execution_count": 97,
   "metadata": {
    "scrolled": false
   },
   "outputs": [
    {
     "data": {
      "text/plain": [
       "array([[0., 0., 0., 0., 0., 0., 0., 0., 0., 0., 0., 0., 1., 0., 0.],\n",
       "       [0., 0., 0., 0., 0., 0., 0., 0., 0., 0., 0., 0., 0., 0., 0.],\n",
       "       [0., 0., 0., 1., 0., 0., 0., 0., 0., 0., 0., 0., 0., 0., 0.],\n",
       "       [0., 0., 0., 0., 0., 0., 0., 0., 0., 0., 0., 0., 0., 0., 0.],\n",
       "       [0., 0., 0., 0., 0., 0., 0., 0., 0., 0., 0., 0., 0., 0., 0.],\n",
       "       [0., 0., 0., 0., 0., 0., 0., 0., 1., 0., 0., 0., 0., 0., 0.],\n",
       "       [0., 0., 0., 0., 0., 0., 0., 1., 0., 0., 0., 0., 0., 0., 0.],\n",
       "       [0., 0., 0., 0., 0., 0., 0., 0., 0., 0., 0., 1., 0., 0., 0.],\n",
       "       [0., 0., 0., 0., 0., 0., 0., 0., 0., 1., 0., 0., 0., 0., 0.],\n",
       "       [0., 0., 0., 0., 0., 0., 0., 0., 0., 0., 0., 0., 0., 0., 0.],\n",
       "       [0., 0., 0., 0., 0., 0., 0., 0., 0., 0., 0., 0., 0., 0., 0.],\n",
       "       [0., 0., 1., 0., 0., 0., 0., 0., 0., 0., 0., 0., 0., 0., 0.],\n",
       "       [0., 0., 0., 0., 0., 0., 0., 0., 0., 0., 0., 0., 0., 1., 0.],\n",
       "       [0., 0., 0., 0., 0., 0., 0., 0., 0., 0., 0., 0., 0., 0., 0.],\n",
       "       [0., 0., 0., 0., 0., 0., 0., 0., 0., 0., 0., 0., 0., 0., 0.],\n",
       "       [0., 0., 0., 1., 0., 0., 0., 0., 0., 0., 0., 0., 0., 0., 0.],\n",
       "       [0., 0., 0., 0., 0., 0., 0., 0., 0., 0., 1., 0., 0., 0., 0.],\n",
       "       [0., 0., 0., 0., 0., 0., 0., 0., 0., 0., 0., 0., 0., 0., 0.],\n",
       "       [0., 0., 0., 0., 1., 0., 0., 0., 0., 0., 0., 0., 0., 0., 0.],\n",
       "       [0., 0., 0., 0., 0., 0., 0., 0., 0., 0., 0., 0., 0., 0., 0.],\n",
       "       [0., 0., 0., 0., 0., 0., 0., 0., 0., 0., 0., 0., 1., 0., 0.],\n",
       "       [0., 0., 0., 0., 0., 0., 0., 0., 0., 0., 0., 0., 0., 0., 0.],\n",
       "       [0., 0., 0., 1., 0., 0., 0., 0., 0., 0., 0., 0., 0., 0., 0.],\n",
       "       [0., 0., 0., 0., 0., 0., 0., 0., 0., 0., 0., 0., 0., 0., 0.],\n",
       "       [0., 1., 0., 0., 0., 0., 0., 0., 0., 0., 0., 0., 0., 0., 0.],\n",
       "       [0., 0., 0., 0., 0., 0., 0., 0., 0., 0., 0., 0., 0., 0., 0.],\n",
       "       [0., 0., 0., 0., 0., 0., 0., 0., 0., 0., 0., 0., 0., 0., 0.],\n",
       "       [0., 0., 0., 0., 0., 0., 1., 0., 0., 0., 0., 0., 0., 0., 0.],\n",
       "       [0., 0., 0., 0., 0., 0., 0., 0., 0., 0., 0., 0., 0., 0., 0.],\n",
       "       [0., 0., 0., 0., 0., 0., 0., 0., 0., 0., 0., 0., 0., 0., 0.],\n",
       "       [0., 0., 0., 0., 0., 0., 0., 0., 0., 0., 0., 0., 0., 0., 1.],\n",
       "       [0., 0., 0., 0., 1., 0., 0., 0., 0., 0., 0., 0., 0., 0., 0.],\n",
       "       [0., 0., 0., 0., 0., 0., 0., 0., 0., 0., 0., 0., 0., 0., 0.],\n",
       "       [0., 0., 0., 0., 0., 0., 0., 0., 0., 0., 0., 0., 0., 0., 0.],\n",
       "       [1., 0., 0., 0., 0., 0., 0., 0., 0., 0., 0., 0., 0., 0., 0.],\n",
       "       [0., 0., 0., 0., 1., 0., 0., 0., 0., 0., 0., 0., 0., 0., 0.],\n",
       "       [0., 0., 0., 0., 0., 0., 0., 0., 0., 0., 0., 0., 0., 0., 0.],\n",
       "       [0., 0., 0., 0., 0., 0., 0., 0., 0., 0., 0., 0., 1., 0., 0.],\n",
       "       [0., 0., 0., 0., 0., 0., 0., 0., 0., 0., 0., 0., 0., 0., 0.],\n",
       "       [0., 0., 0., 1., 0., 0., 0., 0., 0., 0., 0., 0., 0., 0., 0.],\n",
       "       [0., 0., 0., 0., 0., 0., 0., 0., 0., 0., 0., 0., 0., 0., 0.],\n",
       "       [0., 0., 0., 0., 0., 0., 0., 0., 0., 0., 0., 0., 0., 0., 0.],\n",
       "       [0., 0., 0., 0., 0., 1., 0., 0., 0., 0., 0., 0., 0., 0., 0.],\n",
       "       [0., 0., 0., 0., 0., 0., 0., 0., 0., 0., 0., 0., 0., 1., 0.],\n",
       "       [0., 0., 0., 0., 0., 0., 0., 0., 0., 0., 0., 0., 0., 0., 0.],\n",
       "       [0., 0., 0., 1., 0., 0., 0., 0., 0., 0., 0., 0., 0., 0., 0.],\n",
       "       [0., 0., 0., 0., 0., 0., 0., 0., 0., 0., 0., 0., 0., 0., 0.]])"
      ]
     },
     "execution_count": 97,
     "metadata": {},
     "output_type": "execute_result"
    }
   ],
   "source": [
    "array.toarray()"
   ]
  },
  {
   "cell_type": "code",
   "execution_count": 98,
   "metadata": {},
   "outputs": [
    {
     "data": {
      "text/plain": [
       "{'vapour': 12,\n",
       " 'bangalore': 3,\n",
       " 'really': 8,\n",
       " 'great': 7,\n",
       " 'terrace': 11,\n",
       " 'seating': 9,\n",
       " 'awesome': 2,\n",
       " 'view': 13,\n",
       " 'skyline': 10,\n",
       " 'beer': 4,\n",
       " 'amazing': 1,\n",
       " 'favourites': 6,\n",
       " 'wheat': 14,\n",
       " 'ale': 0,\n",
       " 'best': 5}"
      ]
     },
     "execution_count": 98,
     "metadata": {},
     "output_type": "execute_result"
    }
   ],
   "source": [
    "tf1.vocabulary_"
   ]
  },
  {
   "cell_type": "code",
   "execution_count": 102,
   "metadata": {},
   "outputs": [
    {
     "data": {
      "text/plain": [
       "'my name is soumya'"
      ]
     },
     "execution_count": 102,
     "metadata": {},
     "output_type": "execute_result"
    }
   ],
   "source": [
    "s = \"my name is soumya\"\n",
    "\" \".join(s.split())"
   ]
  },
  {
   "cell_type": "code",
   "execution_count": 21,
   "metadata": {},
   "outputs": [],
   "source": [
    "import pandas as pd\n",
    "import nltk\n",
    "import random\n",
    "from  nltk.tokenize import word_tokenize\n",
    "from nltk.stem.porter import PorterStemmer\n",
    "from nltk.stem.snowball import SnowballStemmer\n",
    "from nltk.stem import WordNetLemmatizer\n",
    "from nltk.corpus import stopwords"
   ]
  },
  {
   "cell_type": "code",
   "execution_count": 5,
   "metadata": {},
   "outputs": [],
   "source": [
    "data = pd.read_csv(r\"C:\\Users\\I324158\\Downloads\\SMSSpamCollection.txt\",sep = \"\\t\", names=[\"label\", \"message\"])"
   ]
  },
  {
   "cell_type": "code",
   "execution_count": 6,
   "metadata": {
    "scrolled": true
   },
   "outputs": [
    {
     "data": {
      "text/html": [
       "<div>\n",
       "<style scoped>\n",
       "    .dataframe tbody tr th:only-of-type {\n",
       "        vertical-align: middle;\n",
       "    }\n",
       "\n",
       "    .dataframe tbody tr th {\n",
       "        vertical-align: top;\n",
       "    }\n",
       "\n",
       "    .dataframe thead th {\n",
       "        text-align: right;\n",
       "    }\n",
       "</style>\n",
       "<table border=\"1\" class=\"dataframe\">\n",
       "  <thead>\n",
       "    <tr style=\"text-align: right;\">\n",
       "      <th></th>\n",
       "      <th>label</th>\n",
       "      <th>message</th>\n",
       "    </tr>\n",
       "  </thead>\n",
       "  <tbody>\n",
       "    <tr>\n",
       "      <th>0</th>\n",
       "      <td>ham</td>\n",
       "      <td>Go until jurong point, crazy.. Available only ...</td>\n",
       "    </tr>\n",
       "    <tr>\n",
       "      <th>1</th>\n",
       "      <td>ham</td>\n",
       "      <td>Ok lar... Joking wif u oni...</td>\n",
       "    </tr>\n",
       "    <tr>\n",
       "      <th>2</th>\n",
       "      <td>spam</td>\n",
       "      <td>Free entry in 2 a wkly comp to win FA Cup fina...</td>\n",
       "    </tr>\n",
       "    <tr>\n",
       "      <th>3</th>\n",
       "      <td>ham</td>\n",
       "      <td>U dun say so early hor... U c already then say...</td>\n",
       "    </tr>\n",
       "    <tr>\n",
       "      <th>4</th>\n",
       "      <td>ham</td>\n",
       "      <td>Nah I don't think he goes to usf, he lives aro...</td>\n",
       "    </tr>\n",
       "    <tr>\n",
       "      <th>...</th>\n",
       "      <td>...</td>\n",
       "      <td>...</td>\n",
       "    </tr>\n",
       "    <tr>\n",
       "      <th>5567</th>\n",
       "      <td>spam</td>\n",
       "      <td>This is the 2nd time we have tried 2 contact u...</td>\n",
       "    </tr>\n",
       "    <tr>\n",
       "      <th>5568</th>\n",
       "      <td>ham</td>\n",
       "      <td>Will ü b going to esplanade fr home?</td>\n",
       "    </tr>\n",
       "    <tr>\n",
       "      <th>5569</th>\n",
       "      <td>ham</td>\n",
       "      <td>Pity, * was in mood for that. So...any other s...</td>\n",
       "    </tr>\n",
       "    <tr>\n",
       "      <th>5570</th>\n",
       "      <td>ham</td>\n",
       "      <td>The guy did some bitching but I acted like i'd...</td>\n",
       "    </tr>\n",
       "    <tr>\n",
       "      <th>5571</th>\n",
       "      <td>ham</td>\n",
       "      <td>Rofl. Its true to its name</td>\n",
       "    </tr>\n",
       "  </tbody>\n",
       "</table>\n",
       "<p>5572 rows × 2 columns</p>\n",
       "</div>"
      ],
      "text/plain": [
       "     label                                            message\n",
       "0      ham  Go until jurong point, crazy.. Available only ...\n",
       "1      ham                      Ok lar... Joking wif u oni...\n",
       "2     spam  Free entry in 2 a wkly comp to win FA Cup fina...\n",
       "3      ham  U dun say so early hor... U c already then say...\n",
       "4      ham  Nah I don't think he goes to usf, he lives aro...\n",
       "...    ...                                                ...\n",
       "5567  spam  This is the 2nd time we have tried 2 contact u...\n",
       "5568   ham               Will ü b going to esplanade fr home?\n",
       "5569   ham  Pity, * was in mood for that. So...any other s...\n",
       "5570   ham  The guy did some bitching but I acted like i'd...\n",
       "5571   ham                         Rofl. Its true to its name\n",
       "\n",
       "[5572 rows x 2 columns]"
      ]
     },
     "execution_count": 6,
     "metadata": {},
     "output_type": "execute_result"
    }
   ],
   "source": [
    "data"
   ]
  },
  {
   "cell_type": "code",
   "execution_count": 8,
   "metadata": {},
   "outputs": [
    {
     "data": {
      "text/plain": [
       "(0,\n",
       " label                                                    ham\n",
       " message    Go until jurong point, crazy.. Available only ...\n",
       " Name: 0, dtype: object)"
      ]
     },
     "execution_count": 8,
     "metadata": {},
     "output_type": "execute_result"
    }
   ],
   "source": [
    "next(data.iterrows())"
   ]
  },
  {
   "cell_type": "code",
   "execution_count": 10,
   "metadata": {},
   "outputs": [],
   "source": [
    "dataset= []\n",
    "for index,row in data.iterrows():\n",
    "    dataset.append((row[\"message\"],row[\"label\"]))\n",
    "    \n",
    "    "
   ]
  },
  {
   "cell_type": "code",
   "execution_count": 14,
   "metadata": {},
   "outputs": [
    {
     "data": {
      "text/plain": [
       "[('Go until jurong point, crazy.. Available only in bugis n great world la e buffet... Cine there got amore wat...',\n",
       "  'ham'),\n",
       " ('Ok lar... Joking wif u oni...', 'ham')]"
      ]
     },
     "execution_count": 14,
     "metadata": {},
     "output_type": "execute_result"
    }
   ],
   "source": [
    "dataset[0:2]"
   ]
  },
  {
   "cell_type": "code",
   "execution_count": 22,
   "metadata": {},
   "outputs": [],
   "source": [
    "stemmer = PorterStemmer()\n",
    "stops = stopwords.words(\"english\")\n",
    "wordnet = WordNetLemmatizer()"
   ]
  },
  {
   "cell_type": "code",
   "execution_count": 24,
   "metadata": {},
   "outputs": [],
   "source": [
    "def preprocess(document,stem=True):\n",
    "    document = document.lower()\n",
    "    words = word_tokenize(document)\n",
    "    words = [word for word in words if word not in stops]\n",
    "    if stem:\n",
    "        words = [stemmer.stem(word) for word in words]\n",
    "    else:\n",
    "        words = [wordnet.lemmatize(word) for word in words]\n",
    "    document = \" \".join(words)\n",
    "    return document"
   ]
  },
  {
   "cell_type": "code",
   "execution_count": 27,
   "metadata": {},
   "outputs": [],
   "source": [
    "message_set = []\n",
    "for message,label in dataset:\n",
    "    filtered = [e.lower() for e in preprocess(message,stem=False).split() if len(e)>=3]\n",
    "    message_set.append((filtered,label))"
   ]
  },
  {
   "cell_type": "code",
   "execution_count": 29,
   "metadata": {},
   "outputs": [
    {
     "data": {
      "text/plain": [
       "[(['jurong',\n",
       "   'point',\n",
       "   'crazy..',\n",
       "   'available',\n",
       "   'bugis',\n",
       "   'great',\n",
       "   'world',\n",
       "   'buffet',\n",
       "   '...',\n",
       "   'cine',\n",
       "   'got',\n",
       "   'amore',\n",
       "   'wat',\n",
       "   '...'],\n",
       "  'ham'),\n",
       " (['lar', '...', 'joking', 'wif', 'oni', '...'], 'ham')]"
      ]
     },
     "execution_count": 29,
     "metadata": {},
     "output_type": "execute_result"
    }
   ],
   "source": [
    "message_set[:2]"
   ]
  },
  {
   "cell_type": "code",
   "execution_count": 30,
   "metadata": {},
   "outputs": [],
   "source": [
    "def get_words_in_messages(messages):\n",
    "    all_words = []\n",
    "    for (message, label) in messages:\n",
    "      all_words.extend(message)\n",
    "    return all_words"
   ]
  },
  {
   "cell_type": "code",
   "execution_count": 36,
   "metadata": {},
   "outputs": [],
   "source": [
    "mset=get_words_in_messages(message_set)"
   ]
  },
  {
   "cell_type": "code",
   "execution_count": 39,
   "metadata": {
    "scrolled": true
   },
   "outputs": [],
   "source": [
    "wordlist = nltk.FreqDist(mset)\n",
    "word_features = wordlist.keys()"
   ]
  },
  {
   "cell_type": "code",
   "execution_count": 40,
   "metadata": {},
   "outputs": [
    {
     "data": {
      "text/plain": [
       "dict_keys(['jurong', 'point', 'crazy..', 'available', 'bugis', 'great', 'world', 'buffet', '...', 'cine', 'got', 'amore', 'wat', 'lar', 'joking', 'wif', 'oni', 'free', 'entry', 'wkly', 'comp', 'win', 'cup', 'final', 'tkts', '21st', 'may', '2005.', 'text', '87121', 'receive', 'question', 'std', 'txt', 'rate', 'apply', '08452810075over18', 'dun', 'say', 'early', 'hor', 'already', 'nah', \"n't\", 'think', 'usf', 'life', 'around', 'though', 'freemsg', 'hey', 'darling', 'week', 'word', 'back', 'like', 'fun', 'still', 'xxx', 'chgs', 'send', '£1.50', 'rcv', 'even', 'brother', 'speak', 'treat', 'aid', 'patent', 'per', 'request', \"'melle\", 'melle', 'oru', 'minnaminunginte', 'nurungu', 'vettam', 'set', 'callertune', 'caller', 'press', 'copy', 'friend', 'winner', 'valued', 'network', 'customer', 'selected', 'receivea', '£900', 'prize', 'reward', 'claim', 'call', '09061701461.', 'code', 'kl341', 'valid', 'hour', 'mobile', 'month', 'entitled', 'update', 'latest', 'colour', 'camera', '08002986030', 'gon', 'home', 'soon', 'want', 'talk', 'stuff', 'anymore', 'tonight', \"'ve\", 'cried', 'enough', 'today', 'six', 'chance', 'cash', '100', '20,000', 'pound', 'csh11', '87575.', 'cost', '150p/day', '6days', '16+', 'tsandcs', 'reply', 'info', 'urgent', 'membership', '£100,000', 'jackpot', '81010', 'www.dbuk.net', 'lccltd', 'pobox', '4403ldnw1a7rw18', 'searching', 'right', 'thank', 'breather', 'promise', 'wont', 'take', 'help', 'granted', 'fulfil', 'wonderful', 'blessing', 'time', 'date', 'sunday', 'xxxmobilemovieclub', 'use', 'credit', 'click', 'wap', 'link', 'next', 'message', 'http', '//wap', 'xxxmobilemovieclub.com', 'n=qjkgighjjgcbl', 'watching', 'remember', 'spell', 'name', 'yes', 'naughty', 'make', 'wet', 'fine', 'that\\x92s', 'way', 'feel', 'gota', 'england', 'macedonia', 'dont', 'miss', 'goals/team', 'news', 'national', 'team', '87077', 'try', 'wale', 'scotland', '4txt/ú1.20', 'poboxox36504w45wq', 'seriously', 'going', 'pay', 'first', 'stock', 'comin', 'aft', 'finish', 'lunch', 'str', 'lor', 'ard', 'smth', 'ffffffffff', 'alright', 'meet', 'sooner', 'forced', 'eat', 'slice', 'really', 'hungry', 'tho', 'suck', 'mark', 'getting', 'worried', 'know', 'sick', 'turn', 'pizza', 'lol', 'always', 'convincing', 'catch', 'bus', 'frying', 'egg', 'tea', 'eating', 'mom', 'left', 'dinner', 'love', 'amp', \"'re\", 'packing', 'car', \"'ll\", 'let', 'room', 'ahhh', 'work', 'vaguely', 'wait', 'clear', 'sure', 'sarcastic', 'live', 'yeah', 'apologetic', 'fallen', 'actin', 'spoilt', 'child', 'caught', 'till', 'badly', 'cheer', 'tell', 'anything', 'fear', 'fainting', 'housework', 'quick', 'cuppa', 'thanks', 'subscription', 'ringtone', 'charged', '£5/month', 'please', 'confirm', 'replying', 'yup', 'look', 'timing', 'msg', 'xuhui', 'learn', '2nd', 'lesson', '8am', 'oops', 'roommate', 'done', 'see', 'letter', 'decide', 'hello', 'saturday', 'texting', 'decided', 'tomo', 'trying', 'invite', 'pls', 'ahead', 'watt', 'wanted', 'weekend', 'abiola', 'forget', 'need', 'crave', 'sweet', 'arabian', 'steed', 'mmmmmm', 'yummy', '07732584351', 'rodger', 'burn', 'tried', 'nokia', 'camcorder', '08000930705', 'delivery', 'tomorrow', 'seeing', 'hope', 'man', 'well', 'endowed', 'inch', 'calls..messages..missed', 'get', 'hep', 'immunisation', 'nigeria', 'fair', 'hopefully', 'tyler', 'could', 'maybe', 'ask', 'bit', 'stubborn', 'hospital', 'kept', 'telling', 'weak', 'sucker', 'thinked', 'saw', 'class', 'gram', 'usually', 'run', 'half', 'eighth', 'smarter', 'almost', 'whole', 'second', 'fyi', 'ride', 'morning', 'crashing', 'place', 'wow', 'never', 'realized', 'embarassed', 'accomodations', 'thought', 'liked', 'since', 'best', 'seemed', 'happy', 'cave', 'sorry', 'give', 'offered', 'embarassing', 'sptv', 'new', 'jersey', 'devil', 'detroit', 'red', 'wing', 'play', 'ice', 'hockey', 'correct', 'incorrect', 'end', 'mallika', 'sherawat', 'yesterday', 'find', 'url', 'congrats', 'year', 'special', 'cinema', 'pas', '09061209465', 'suprman', 'matrix3', 'starwars3', 'etc', 'bx420-ip4-5we', '150pm', 'later', 'meeting', 'reached', 'yes..gauti', 'sehwag', 'odi', 'series', 'pick', 'burger', 'move', 'pain', 'killing', 'good', 'joke', 'girl', 'situation', 'seeker', 'part', 'checking', 'took', 'forever', 'come', 'double', 'check', 'hair', 'dresser', 'said', 'wun', 'cut', 'short', 'nice', 'pleased', 'advise', 'following', 'recent', 'review', 'mob', 'awarded', '£1500', 'bonus', '09066364589', 'song', 'dedicated', 'day..', 'dedicate', 'valuable', 'frnds', 'rply', 'complimentary', 'trip', 'eurodisinc', 'trav', 'aco', 'entry41', '£1000', 'dis', '18+6*£1.50', 'morefrmmob', 'shracomorsglsuplt', 'ls1', '3aj', 'hear', 'divorce', 'barbie', 'ken', 'plane', 'wah', 'lucky', 'save', 'money', 'hee', 'finished', 'babe', 'wan', 'something', 'k..k', 'performed', 'waiting', 'machan', 'thats', 'cool', 'gentleman', 'dignity', 'respect', 'people', 'much', 'shy', 'operate', 'looking', 'job', 'earn', 'stop', 'urgnt', 'real', 'ticket', 'one', 'jacket', 'used', 'multis', 'started', 'came', 'bed', 'coin', 'factory', 'nitros', 'ela', 'kano.', 'download', 'wen', 'free..', 'stand', 'close', 'tho-', 'another', 'night', 'spent', 'late', 'afternoon', 'casualty', 'mean', 'stuff42moro', 'includes', 'sheet', 'smile', 'pleasure', 'trouble', 'pours', 'rain', 'sum1', 'hurt', 'becoz', 'someone', 'smiling', 'service', 'representative', '0800', '169', '6031', '10am-9pm', 'guaranteed', '£5000', 'havent', 'planning', 'buy', 'lido', '530', 'show', 'collected', 'simply', 'password', 'mix', '85069', 'verify', 'usher', 'britney', 'fml', 'box', '5249', 'mk17', '92h', '450ppw', 'telugu', 'movie..wat', 'abt', 'load', 'loan', 'hols', 'forgot', 'hairdresser', 'appointment', 'four', 'shower', 'beforehand', 'cause', 'prob', 'coffee', 'animation', 'nothing', 'else', 'okay', 'price', 'long', 'legal', 'ave', 'gone', '4the', 'driving', 'test', 'yet', 'guess', 'gave', 'boston', 'men', 'changed', 'search', 'location', 'nyc', 'cuz', 'signin', 'page', 'umma', 'vava', 'lot', 'dear', 'wish', 'birthday', 'making', 'truly', 'memorable', 'aight', 'hit', 'would', 'address', 'considering', 'computer', 'minecraft', 'server', 'grumpy', 'old', 'better', 'lying', 'worry', 'busy', 'plural', 'noun', 'research', 'dinner.msg', 'thing', 'scared', 'mah', 'loud', 'gent', 'contact', 'last', 'draw', '09064012160.', 'k52', '12hrs', '150ppm', 'openin', 'sentence', 'formal', 'anyway', 'juz', 'eatin', 'puttin', 'weight', 'haha', 'anythin', 'happened', 'entered', 'cabin', \"b'day\", 'bos', 'felt', 'askd', 'invited', 'apartment', 'went', 'specially', 'holiday', 'flight', 'inc', 'operator', '0871277810910p/min', '18+', 'goodo', 'must', 'friday', 'egg-potato', 'ratio', 'tortilla', 'needed', 'hmm', 'uncle', 'informed', 'paying', 'school', 'directly', 'food', 'private', '2004', 'account', 'statement', '07742676969', '786', 'unredeemed', '08719180248', 'identifier', '45239', 'expires', '£2000', '5/9/03', 'landline', '09064019788', 'box42wr29c', '-apples', 'pair', 'malarky', 'voda', 'number', 'ending', '7548', '350', 'award', 'match', '08712300220', 'quoting', '4041', 'standard', 'app', 'sao', 'predict', 'buying', 'yetunde', 'sent', 'bother', 'sending', 'involve', 'imposed', 'apologise', 'del', 'bak', 'sum', 'lucyxx', 'tmorrow.pls', 'accomodate', 'answer', 'sunshine', 'quiz', 'top', 'sony', 'dvd', 'player', 'country', 'algarve', 'ansr', '82277', 'tyrone', 'laid', 'dogging', 'direct', 'join', 'largest', 'txting', 'gravel', '69888', 'ec2a', '31p.msg', '150p', 'haf', 'msn', 'yijue', 'hotmail.com', 'befor', 'activity', 'chat', 'svc', 'hardcore', '69988', 'age', 'lazy', 'type', 'lect', 'pouch', 'sir', 'mail', 'swt', 'nver', 'tired', 'little', 'lovable', 'persons..', 'coz..somtimes', 'occupy', 'biggest', 'hearts..', 'gud', 'ni8', 'open', 'dot', 'whats', 'staff', 'taking', 'replied', 'randy', 'sexy', 'female', 'local', 'luv', 'netcollex', 'ltd', '08700621170150p', 'ummma.will', 'in.our', 'begin', 'qatar', 'pray', 'hard', 'k..i', 'deleted', 'sindu', 'birla', 'soft', 'wine', 'flowing', 'nevering..', 'thk', 'plaza', 'typical', 'everywhere', 'dirt', 'floor', 'window', 'shirt', 'sometimes', 'mouth', 'dream', 'without', 'chore', 'joy', 'i.ll', 'exist', 'hail', 'mist', 'become', 'aaooooright', 'leaving', 'house', 'interview', 'boy', 'missing', 'annoncement', '07046744435', 'arrange', '0871277810810', 'keep', 'safe', 'envy', 'everyone', 'parent', 'hand', 'excited', 'day', 'spend', '-pls', 'bootydelious', '32/f', 'inviting', 'yes-434', 'no-434', 'www.sms.ac/u/bootydelious', 'frnd', '62468', 'bangbabes', 'order', 'content', 'goto', 'bangb', 'internet/service', 'menu', 'culture', 'module', '09061701939.', 's89', 'avoid', 'missunderstding', 'wit', 'beloved', 'escape', 'fancy', 'bridge', 'lager', 'completely', 'form', 'clark', 'also', 'utter', 'waste', 'axis', 'bank', 'hmmm..', 'hop', 'muz', 'discus', 'liao', 'coming', 'bloody', 'hell', 'cant', 'believe', 'surname', 'ill', 'clue', 'spanish', 'bath', 'carlos', 'mall', 'staying', 'til', 'smoke', 'worth', 'doesnt', 'log', 'spoke', 'maneesha', 'satisfied', 'experience', 'toll', 'lifted', 'offer', 'especially', 'approach', 'studying', 'anyways', 'gr8', 'trust', 'ok.', 'guy', 'great.bye', 'handsome', 'finding', 'working', 'towards', 'net', 'mummy', 'boytoy', 'awesome', 'minute', 'freephone', '0808', '145', '4742', '9am-11pm', 'xmas', 'radio', 'jus', 'bathe', 'using', 'unique', '30th', 'august', 'www.areyouunique.co.uk', 'joined', 'league', 'touch', 'deal', 'personal', 'week.|', 'finally', 'completed', 'course', 'however', 'suggest', 'stay', 'able', 'every', 'stool', 'settled', 'wishin', 'mrng', 'hav', 'person', 'story', 'hamster', 'dead', 'tmr', '1pm', 'orchard', 'mrt', 'kate', 'evening', 'babyjontet', 'found', 'enc', 'buck', 'darlin', 'ive', 'college', 'refilled', 'successfully', 'inr', 'decimal', 'keralacircle', 'prepaid', 'balance', 'transaction', 'goodmorning', 'sleeping', 'alter', 'dat', 'ericsson', 'oso', 'oredi', 'straight', 'dogg', 'connection', 'refund', 'bill', 'shoot', 'big', 'ready', 'bruv', 'break', 'rewarding', 'semester', 'study', 'noe', 'leh', 'sound', 'heading', 'prediction', 'slept', 'past', 'easy', 'sen', 'good..', 'exam', 'march', 'atm', 'register', 'called', 'ubandu', 'installing', 'disk', 'important', 'file', 'system', 'repair', 'shop..', 'happen', 'romantic', 'nite', 'scenery', '500', '89545', 'collect', 'www.4-tc.biz', '2optout', '087187262701.50gbp/mtmsg18', 'appreciate', 'partner', 'career', 'flyng', 'start', 'horo', 'followed', 'star', 'sign', 'aries', 'company', 'elama', 'mudyadhu', 'strict', 'teacher', 'bcoz', 'teach', 'conduct', 'gandhipuram', 'walk', 'cross', 'road', 'side', 'street', 'rubber', 'battery', 'died', 'place..', 'flirt', '10p', 'sam', '-msg', 'recd', 'thirtyeight', 'penny', 'printed', 'upstairs', 'closer', 'wil', 'reach', 'theory', 'argument', 'loses', 'argue', 'just..', 'kick', '447801259231', 'secret', 'admirer', 'u-find', 'r*reveal', 'special-call', '09058094597', 'tomarrow', 'hearing', 'laptop', 'case', 'pleassssssseeeeee', 'tel', 'avent', 'sportsx', 'shining', 'meant', 'signing', 'although', 'told', 'baig', 'face', 'watch', 'thanx', 'everything', 'touched', 'commercial', 'website', 'slipper', 'asked', 'kallis', 'bat', 'inning', 'didnt', 'goodnight', 'fix', 'wake', 'dearly', 'missed', 'sleep', 'congratulation', 'voucher', '125gift', 'music', '87066', 'tncs', 'www.ldew.com1win150ppmx3age16', 'ranjith', 'cal', 'drpd', 'deeraj', 'deepak', '5min', 'hold', 'bcums', 'angry', 'wid', 'dnt', 'seriously..', 'coz', 'childish', 'true', 'showing', 'deep', 'affection', 'care', 'kettoda', 'manda', 'ups', '3days', 'shipping', '2wks', 'usps', 'lag', 'bribe', 'nipost', 'lem', 'necessarily', 'expect', 'headin', 'mmm', 'jolt', 'suzy', 'lover', 'video', 'handset', '750', 'anytime', 'min', 'unlimited', 'parked', 'mini', 'shopping', 'disturb', 'luton', '0125698789', 'ring', 'horny', 'naked', 'hot', '69698', 'unsubscribe', 'dint', 'wana', 'plan', 'sometme', 'club4mobiles.com', 'choose', 'club', '87070', '150p/wk', 'club4', 'box1146', 'mk45', '2wt', 'evo', 'flash', 'jealous', 'single', 'chart', 'quality', 'charge', 'sorting', 'narcotic', 'ended', 'sunny', 'ray', 'leaf', 'blue', 'bay', 'hmv', 'genuine', '86688', 'www.100percent-real.com', 'might', 'objection', 'rob', 'mack', 'theater', 'handed', 'celebration', 'full', 'swing', 'tool', 'definitely', 'keep-in-touch', 'gdeve..', 'far', 'okie', 'usual', 'passed', 'ahold', 'anybody', 'throw', 'ok..', 'baby', 'cruisin', 'fone', 'jenny', 'shall', 'tonite.busy', 'tonite.things', 'ok.varunnathu', 'edukkukayee', 'raksha', 'ollu.but', 'sense', 'gautham', 'stupid', 'cam', 'buzy', 'accidentally', 'resend', 't-mobile', 'phone', 'upgrade', 'sim', 'card', 'loyalty', '0845', '021', '3680.offer', '28thfeb.t', 'unless', 'gurl', 'appropriate', 'tease', 'cry', 'die', 'plz', 'rose', 'grave', 'u..', 'bslvyl', 'somebody', 'high', 'diesel', 'shit', 'shocking', 'scary', 'imagine', 'def', 'somewhere', 'crash', 'taxi', 'fridge', 'meal', 'womdarfull', 'actor', 'blind', 'rodds1', '21/m', 'aberdeen', 'united', 'kingdom', '//img', 'ac/w/icmb3cktz8r7', 'hide', 'remb', 'book', 'jos', 'friendship', 'hanging', 'thread', 'themob', 'newest', 'selection', 'game', 'tone', 'gossip', 'sport', 'fit', 'funky', '82468', 'garage', 'key', 'bookshelf', 'accept', 'day..u', 'sister', 'dear1', 'best1', 'clos1', 'lvblefrnd', 'jstfrnd', 'cutefrnd', 'lifpartnr', 'belovd', 'swtheart', 'bstfrnd', 'enemy', 'smart', '£200', 'weekly', '85222', 'winnersclub', 'm26', '3uz', 'gbp1.50/week', '2day', 'normal', 'rest', 'mylife', 'wot', 'lost', 'made', 'k.k', 'advance', 'pongal', 'hmmm', 'power', 'yoga', 'dunno', 'tahan', 'anot', 'dude', 'afraid', 'december', '11mths+', '08002986906', 'cake', 'merry', 'christmas', '*kisses*', 'cud', 'ppl', 'gona', 'waitin', 'pete', 'guild', 'bristol', 'problem', 'track', 'record', 'reading', 'woman', 'read', 'light', 'apo', 'k.good', 'movie', 'return', 'immediately', 'germany', 'fixed', 'line', 'via', 'access', '0844', '861', '85.', 'prepayment', 'evaporated', 'violated', 'privacy', 'stealing', 'employer', 'paperwork', 'report', 'supervisor', 'valentine', 'lifetime', '83600', '150p/msg', 'rcvd', 'custcare:08718720201', 'ta-daaaaa', 'wined', 'dined', 'sleeping..and', 'surfing', 'calling', 'post', '1000', 'wiv', 'caroline', 'favourite', 'bless', 'hiding', 'stranger', 'interested', 'cleared', 'two', 'round', 'gudnite', '.tc', 'practice', 'huiming', 'num', 'small', 'prestige', 'shag', 'do.interested', 'sextextuk.com', 'xxuk', '69876.', 'txts', '1.50', 'jeremiah', 'iphone', 'apeshit', 'day.', 'ever', 'misbehaved', 'slap', 'urself', 'fault', 'basically', 'figure', 'alcohol', 'jay', 'safely', 'weed', 'ish', 'ago', 'wtf', 'calling.forgot', 'onam', 'sirji.i', 'remembered', 'met', 'insurance', 'person.meet', 'insha', 'allah.rakhesh', 'tata', 'aig', 'tissco', 'tayseer', 'cash-balance', 'currently', 'maximize', 'cash-in', '08708800282', 'hg/suite342/2lands', 'row/w1j6hl', 'unemployed', 'moment', 'andrews-boy', 'cold', 'posted', 'chikku', '-db-', 'prob..', 'audrey', 'status', 'forward', 'dawn', 'refreshed', 'alive', 'breathe', 'air', 'update_now', 'motorola', 'sonyericsson', 'bluetooth', 'orange', 'mobileupd8', '08000839402', 'call2optout/f4q=', 'discount', 'rp176781', 'www.regalportfolio.co.uk', '08717205546', 'uniform', 'geeee', 'woke', 'cuddling', 'spoil', 'min..', 'talking', 'agree', 'willing', 'reference', 't91', 'gbp', '09057039994', 'seen', 'me..i', \"did't\", 'recognise', 'happening', 'lindsay', '*sighs*', 'bar', 'ptbo', 'heron', 'payasam', 'rinu', 'brings', 'taught', 'becaus', 'verifying', 'project', 'prabu', 'mistake', 'me..', 'body', 'quite', 'slow', 'guide', 'ovulation', 'relax', 'reason', 'followin', 'couple', 'wallet', 'leave', '945+', '6months', 'call2optout/n9dx', 'owl', 'lick', '4mths', 'rental', '11mths', 'mobilesdirect', '08000938767', 'or2stoptxt', 'now..', 'huh', 'sat', 'intro', 'pilate', 'kickboxing', 'office', 'lap', 'shut', 'bout', '7.30ish', 'performance', 'calculated', 'month.not', 'current', 'period..', 'actually', 'rock', 'putting', 'business', 'put', 'picture', 'facebook', 'salam', 'wahleykkum.sharing', 'news.by', 'grace', 'god', 'joined.hope', 'fine.inshah', 'allah', 'sometime.rakhesh', 'visitor', 'india', 'change', 'field', 'quickly', 'administrator', 'administrator..', '87131', 'poly', '2814032', '1st', '3x£150pw', 'e£nd', 'chechi', 'cream', 'shipped', 'none', 'yep', 'loxahatchee', 'tree', 'burning', 'stoner', 'slightly', 'disastrous', 'fav', 'wld', 'drink', 'busetop', 'missing*', 'sender', '*number', '*sent', '*missing', 'fullonsms.com', 'iron', 'okies', 'yan', 'jiu', 'skip', 'den', 'blah', 'bring', 'wendy', 'dating', '09064012103', 'box334sk38ch', 'whatsup', 'goal', '£250', 'competition', '80086', 'www.txttowin.co.uk', 'head', 'logo', 'heart', 'name1', 'name2', 'mobno', 'adam', 'eve', '07123456789', 'yahoo', 'pobox36504w45wq', 'txtno', 'contacted', '09111032124', 'pobox12n146tf150p', 'siva', 'hostel', 'aha', '09058094455', 'land', '3030.', 'voice', 'speaking', 'expression', '1.childish', '2.naughty', '3.sentiment', '4.rowdy', '5.ful', 'attitude', '6.romantic', '7.shy', '8.attractive', '9.funny', '.irritating', '.lovable', 'aathi..where', 'dear..', 'urination', 'esplanade..', 'mind', 'giving', 'lift', 'today..', 'wnt', 'bmw', 'urgently..its', 'vry', 'urgent.but', 'shortage', 'lacs.there', 'source', 'arng', 'amt', 'lacs..thats', 'fifteen', 'fucking', 'respond', '3650', '09066382422', '3mins', 'vary', '300603', 'bcm4284', 'ldn', 'wc1n3xx', 'booked', 'hillsborough', 'askin', 'dollar', 'shoul', 'iouri', 'ten', 'applebees', 'txt~journey', 'hasnt', 'yes..he', 'great..bhaji', 'cricketer', 'sachin', '.very', 'tough', 'supposed', 'oic', 'tot', 'din', 'group', 'werethe', 'monkeespeople', 'monkeyaround', 'howdy', 'gorgeous', 'howu', 'doin', 'foundurself', 'jobyet', 'sausage', 'jen', 'blimey', 'exercise', 'kinda', 'concentration', 'hank', 'lotsly', 'detail', 'transfer', 'acc', 'optimistic', 'improve', 'purpose', '£500', '£75,000', 'homeowner', 'tenant', 'welcome', 'previously', 'refused', '1956669', \"'help\", 'oreo', 'truffle', 'amy', 'ure', 'beautiful', 'intelligent', 'don\\x92t', 'result', 'consistently', 'kind', 'asking', 'practicum', 'ear', 'ttyl', '1.20', 'isnt', 'bad', 'thru', 'different', 'feeling.wavering', 'decision', 'coping', 'individual.time', 'heal', 'upgrdcentre', '0207', '153', '9153.', '26th', 'july', 'opt-out', 'bye', 'railway', 'princess', 'receiving', 'oral', 'doggy', 'style', 'fave', 'position', 'enjoy', 'slippery', 'bike', 'many', 'language', 'okmail', 'dave', 'notice', 'tenerife', '5000', '09061743806', 'sae', 'box326', 'cw25wx', 'screamed', 'enters', 'remove', 'flat', 'transfered', 'removed', 'differ', 'differ.be', '9ja', 'moan', '69888nyt', 'broken', 'heart-', 'cum', 'infront', 'wise', 'aathi..love', 'lot..', 'tension', 'machi', '8th', 'thinking', 'mcr', 'sec', 'taste', 'jaykwon', 'thuglyfe', 'falconerf', 'activate', 'term', 'condition', 'visit', 'www.07781482378.com', 'depends', 'boye', 'faded', 'glory', 'ralphs', 'dry', 'trade', 'reunion', 'meh', 'nope', 'monday', 'accenture', 'jackson', 'rec', 'center', '7ish', 'reache', 'fighting', 'either', 'lose', 'fightng', 'some1', 'dificult', 'nuerologist', 'lolnice', 'fish', '..water', '+123', '£1450', '09050002311', 'b4280703', 'cs/stop', '08718727868.', 'bored', 'outside', 'westshore', 'hyde', 'park', 'village', 'near', 'anthony', 'bringing', 'fee', 'rent', 'significance', 'opinion', 'jada', 'kusruthi', 'silent', 'spl', 'character', 'matured', 'stylish', 'simple', 'reply..', 'scrounge', 'ammo', 'prabha..i', 'soryda..realy..frm', 'sory', 'forgiven', 'no..jst', 'tat', 'only..', '40gb', 'ipod', 'mp3', '83355', 'ibhltd', 'ldnw15h', '150p/mtmsgrcvd18+', 'boltblue', 'mono', 'poly3', 'cha', 'slide', 'jamz', 'toxic', 'topped', '//www.bubbletext.com', 'renewal', 'pin', 'tgxxrz', 'transport', 'problematic', 'bday', 'definite', 'booking', 'fri', 'unconscious', 'adult', 'behave', 'abnormally', 'ebay', 'elsewhere', 'pickle', 'taco', 'rude', 'campus', '£2,000', '02/09/03', 'attempt', '0871-872-9755', 'box95qu', \"x'mas\", '£150', '85023', 'savamob', 'member', '08717898035', '£3.00', 'sub', 'unsub', 'pretty', 'lady', 'recieve', 'within', '24hrs', 'channel', 'teletext', 'double-faggot', '2003', '07815296484', '800', 'un-redeemed', 's.i.m', '08718738001', '41782', '18/11/04', 'today-sunday..sunday', 'holiday..so', 'work..', 'hoping', 'l8r', 'malaria', 'ban', 'lead', 'passionate', 'kiss', 'across', 'sea', 'probably', 'fat', 'finger', 'button', 'ummmmmaah', 'heart..', 'tirupur', 'www.applausestore.com', 'monthlysubscription', '50p/msg', 'max6/month', 'csc', 'web', 'age16', '2stop', 'famous', 'quote', 'develop', 'ability', 'listen', \"'anything\", 'unconditionally', 'losing', 'temper', 'self', 'confidence', \"'married\", 'pa.', 'oclock', 'mine', 'bash', 'recovery', 'rather', 'cooped', 'hotel', 'invitation', 'cali', 'english', 'bloke', 'weddin', 'omw', 'btw', 'alibi', 'cutting', 'sink', 'pace', 'cage', 'cock', 'surrounded', 'water', 'reminding', 'owns', 'cuck', 'hurry', 'weed-deficient', 'three', 'acknowledgement', 'astoundingly', 'tactless', 'generally', 'faggy', 'demand', 'blood', 'oath', 'warm', 'milk', 'magic', 'loose', 'pan', 'cheap', 'perhaps', 'silly', 'likely', 'mutation', 'sunscreen', 'essential', 'thesedays', 'online', 'pic', 'aiyo', 'mei', 'fast', 'workin', 'bao', 'sugardad', 'gee..', 'office..', 'brownie', 'geeeee', 'barely', 'fuck', '2mrw', 'ninish', 'icky', 'american', 'freek', 'callin', 'oooh', 'ridden', 'gym', 'whatever', '*smiles*', 'daddy', 'scream', 'dick', 'missy', 'yar', 'mum', 'sch', 'clean', 'lab', 'goggles', 'door', '1,000', '2,000', 'call09050000327', 'arguing', '5..', '09050005321', 'arngd', 'marriage', 'walkin', 'unfortuntly', 'snake', 'bite', 'dancing', 'frnt', 'sayin', 'early..', 'izzit', '150', 'textand', '08002988890', 'ex-wife', 'kid', 'jjc', 'tendency', 'headache', 'quit', 'jazz', 'yogasana', 'meive', 'hardly', 'gotany', 'srsly', 'spree', 'shop', '80878.', 'www.txt-2-shop.com', 'custcare', '08715705022', '1x150p/wk', '2000', '08712402050', '10ppm', 'promo', '07753741225', '08715203677', '42478', '24/10/04', 'grand', 'prix', 'nitz', 'announcement', '542', '0825', 'exhausted', 'train', 'pie', 'present', 'blastin..', 'tsunami', 'occur', 'on..', 'rajnikant', 'stopped', 'swimming', 'indian', 'ocean..', 'noon', 'xclusive', 'clubsaisai', '2morow', '28/5', 'soiree', 'speciale', 'zouk', 'nichols', 'paris.free', '07946746291/07880867867', 'bridgwater', 'banter', 'neva', 'imma', 'somethin', 'euro2004', 'daily', '83222', 'ques-', 'suit', 'dependent', 'thanx4', 'cer', 'often', 'soon.c', 'future', 'hundred', 'handsomes', 'beauty', 'aunty', 'shock', 'shuhui', 'leona', 'reaction', 'family', 'happiness..', 'snow', 'weather', 'together', 'grow', 'dismay', 'alex', 'concerned', 'pub', 'bud', 'useful', 'officially', 'paid', 'market', 'tootsie', 'pop', 'longer', 'darren', 'textbuddy', 'area', '25p', 'postcode', 'gaytextbuddy.com', '89693', 'vodafone', '4882', '£350', '09064019014', 'forwarded', 'seventeen', 'seven', 'holder', '//www.e-tlp.co.uk/expressoffer', 'apply.2', '80062', 'funny', 'sweetheart', 'biola', 'login', 'dad', 'fetching', 'restock', 'thanksgiving', 'effect', 'brighten', 'wee', '.be', 'thursday', 'allo', 'braved', 'taken', 'triumphed', 'ham', 'jolly', 'cartoon', 'listening', 'temple', 'church..', 'uncomfortable', '08715203694', '40533', '31/10/04', 'email', 'rstm', 'sw7', 'gentle', 'sonetimes', 'rough', 'starting', 'panic', 'tuesday', 'wesley', 'town', 'bet', 'hella', 'drug', 'dealer', 'impatient', 'sun', 'earth', 'cloud', 'river', 'evng', 'wikipedia.com', '88800', '89034', 'premium', '08718711108', 'lay', 'envelope', 'paper', 'repent', 'fetch', 'prepare', 'kama', 'sutra', 'nange', 'bakra', 'kalstiya..then', 'tea/coffee', 'lakh', 'belly', 'laugh', 'sun0819', 'seem', 'opt', '08452810071', 'ditto', 'saying', 'peace', 'knw', 'milk..', 'wetherspoons', 'piggy', 'awake', 'freaky', 'yelling', 'scrappy', 'lonely', \"'hex\", 'explain', 'sdryb8i', 'sue', 'lapdancer', 'sex', 'bedroom', '89555.', 'textoperator', '1da', '150ppmsg', 'king', 'building', 'map..', 'imprtant', 'tomorw', 'cherthala.in', 'cochin', 'bfore', 'start.i', 'accordingly.or', 'coming.tmorow', 'engaged', 'torch', 'bold', '448712404000', '08712404000', 'farm', '1405', '1680', '1843.', 'law', 'purchase', 'poop', 'gpu', 'entrepreneur', 'corporation', 'gap', 'k..u', 'msg..', 'prevent', 'dehydration', 'fluid', 'weird', 'idea', 'dear..i', 'so.so', 'away', 'trek', 'harri', 'drivin', 'fantastic', 'n-gage', 'deck', 'www.cnupdates.com/newsletter', 'alert', 'height', 'aeronautics', 'professor', 'wer', 'calld', 'sit', 'aeroplane', 'aftr', 'student', 'dey', 'hurried', 'plane..', 'datz', 'confidence..', 'seems', 'shitstorm', 'attributed', '08714712388', '10am-7pm', 'stress', 'dorm', 'sell', '+449071512431', '£1250', '09071512433', '050703', 'csbcm4235wc1n3xx', 'callcost', 'mobilesvary', 'max£7', 'sth', 'spec', 'px3748', '08714712394', 'macha', 'upset.i', 'assume', 'mindset.believe', 'us.let', 'again.call', \"s'fine\", 'wondar', 'flim', 'cooky', 'jelly', 'running', 'still.maybe', 'feeling', 'it.or', 'admit', 'mad.then', 'correction', 'life.and', 'running.lets', 'scrumptious', 'dao', 'half8th', 'exactly', 'jide', 'visiting', 'alertfrom', 'jeri', 'stewartsize', '2kbsubject', 'low-cost', 'prescripiton', 'drvgsto', '123', 'spring', 'yay', 'steak', 'convincing..just', 'twice', 'neglect', 'it..just', 'tonite', 'opportunity.all', 'fast.pls', 'add', 'prayer', 'dear.rakhesh', 'nokia6650', '£10', 'txtauction', '81151', 'ctxt', '150p/mtmsg', 'mayb', 'rite', 'faster', 'gal', 'attached', 'glad', 'clock', 'shouted', 'realised', 'wahay', 'shorter', 'gaze', 'eye', '930', 'subscribed', '82324.', 'helpline', '08706091795', 'spoken', 'gist', 'realize', 'thousand', 'tattoo', 'premier', 'gim', 'lip', 'caveboy', 'library', 'realy', 'sorry-i', 'confused', 'holla', 'anyone', 'spare', 'faith', 'possible', 'you/carlos', 'is/are', 'vibrate', 'acting', 'paris', '£79', '08704439680ts', 'grandma', 'hungover', 'unclaimed', '09066368327', 'closingdate04/09/02', 'claimcode', 'm39m51', '£1.50pmmorefrommobile2bremoved-mobypobox734ls27yf', 'gua', 'faber', 'yest', 'wishing', 'advance..', 'city', 'summer', 'store', '88039', 'skilgme', 'tscs087147403231winawk', '£1.50perwksub', 'goin', 'meetin', 'wonder', 'dramatic', 'closed', 'apparently', 'drive', 'anywhere', 'damn', 'hunting', 'drunkard', 'wats', 'idc', 'weaseling', 'row', 'space', 'picking', 'trash', 'begging', 'lovely', 'sing', 'happiness', 'slave', 'punish', 'beerage', '0578', 'randomlly', 'opening', 'spelling', 'diff', 'living', 'perfect', 'community', '100p/sms', 'polyphonic', '087018728737', 'toppoly', 'tune', 'subpoly', '81618', 'pole', '08718727870', 'enjoyed', 'fondly', 'bein', 'thot', 'dogbreath', 'sounding', 'jan', 'omg', 'weighed', 'woohoo', 'uncountable', 'dictionary', 'piece', '9996.', '14thmarch', 'availa', 'petey', 'whereare', 'friendsare', 'thekingshead', 'canlove', 'nic', 'pobox84', 'm263uz', 'appt', 'no1', '8077', 'mate', 'www.getzed.co.uk', '36504', 'w45wq', 'norm150p/tone', 'cashto', '08000407165', 'getstop', '88222', 'php', 'rg21', '4jx', 'dled', 'imp', 'smokin', 'boooo', 'bec', 'ugh', 's.nervous', 'costume', 'gift', 'yowifes', 'hint', '£100', 'borrow', 'bag', 'outbid', 'simonwatson5120', 'shinco', 'plyr', 'bid', 'ac/smsrewards', 'notification', 'model', 'youi', 'galileo', 'dobby', 'responding', 'boo', 'enjoyin', 'yourjob', 'gettin', 'hunny', 'i\\x92llspeak', 'soonlots', 'loveme', 'xxxx', 'starshine', 'ache', '*sips', 'cappuccino*', '*teasing', 'kiss*', 'smsservices', 'yourinclusive', 'www.comuk.net', 'login=', '3qxj9', 'extra', '08702840625.comuk', '220-cm2', '9ae', 'alfie', 'moon', 'm8s', 'charity', '8007', 'nokias', 'polys', 'zed', '08701417012', 'profit', 'hahaha..use', 'brain', 'turned', 'green', 'burial', 'mojibiola', 'reveal', '09065174042.', 'cust', '07821230901', 'hol', 'haven\\x92t', 'rvx', 'skyped', 'sura', 'given', 'ultimatum', 'countin', 'aburo', 'surely', 'successful', 'five', '08002888812', 'inconsiderate', 'nag', 'recession', 'hence', 'wed', 'vouchers-text', 'savamob-member', 'soo', 'understand', '2morrow', 'comprehensive', 'prashanthettan', 'mother', '09066350750', 'ibiza', '10,000', 'await', 'collection', '434', 'sk3', '8wp', 'ppm', 'meanwhile', 'suite', 'xavier', 'warning', 'samantha', 'playing', 'guitar', 'impress', 'doug', 'realizes', 'stomach', 'trauma', 'swear', 'matter..msg', 'now.i', 'shoe', 'inner', 'tigress', 'version', 'poor', 'urfeeling', 'bettersn', 'probthat', 'overdose', 'careful', 'spk', 'lovejen', 'returned', 'fall', 'discreet', 'vip', '83110', 'hai', 'ana', 'sathy', 'rto', 'spoon', 'named', 'tampa', 'genius', 'whenever', 'sort', 'lotta', 'corvette', 'lately', 'supply', 'virgin', 'mystery', '09061104283', 'www.smsco.net', '£1.50pm', 'approx', 'consider', 'wall', 'bunker', 'peaceful', 'matter', '07808', 'xxxxxx', '08719899217', '41685', '07/11/04', 'posh', 'bird', 'chap', 'user', 'trial', 'prod', 'champneys', 'dob', 'asap', '0721072', 'philosophical', 'hole', 'saved', 'problem..but', 'drop', 'cuddle', 'nap', 'atleast', 'otherwise', '-shakespeare-', 'shesil', '10k', 'travel', '09064011000.', 'ntt', 'cr01327bt', 'fixedline', 'castor', 'liverpool', 'played', 'mid', '09058094565', '09065171142-stopsms-08', 'reminder', 'downloaded', '//doit', 'mymoby', 'tv/', 'knew', 'woul', 'wanting', 'curfew', 'gibe', \"'til\", 'midnight', 'getsleep', 'studdying', 'training', 'massage', 'oil', 'sup', 'yoyyooo', 'permission', 'mac', 'usb', 'gibbs', 'unsold.mike', 'hussey', 'failed', 'sad', 'unbelievable', 'faglord', 'wife.how', 'murder', 'nutter', 'cutter', 'ctter', 'cttergg', 'cttargg', 'ctargg', 'ctagg', 'thus', 'superb', 'thought-', 'grateful', 'opportunity', 'happier', 'agent', 'experiment', 'due', 'several', 'outstanding', 'invoice', 'smell', 'tobacco', 'derek', 'taylor', 'assumed', 'worst', 'charles', 'lastest', 'stereophonics', 'marley', 'dizzee', 'racal', 'libertine', 'stroke', 'nookii', 'bookmark', 'plus', 'grinule', 'greet', 'white', 'fudge', 'january', 'male', 'sale', 'gay', 'cheaper', '08709222922.', '1.5p/min', '7.8p/min', 'peak', '08712460324', '10p/min', 'zaher', 'nauseous', 'pissed', 'pig', 'dieting', 'chip', 'iam', 'addicted', 'msging', 'wrong', \"don\\\\'t\", 'friends..', 'photo', 'registered', 'yck', 'ashley', 'avalarr', 'hollalater', 'attend', 'today..but', 'home..', 'website..now', 'blogging', 'magicalsongs.blogspot.com', 'chikku..il', 'diet', 'ate', 'kvb', '88600', '£1million', 'ppt150x3+normal', 'box403', 'w1t1jy', 'friday.hope', 'alternative.hope', 'ore', 'owo', 'fro', 'wherever', 'samus', 'shoulder', 'matthew', '09063440451', '4*lux', 'ppm150', 'box334', 'sk38xh', 'wear', 'jean', 'fever', 'vomitin', 'k.are', '09061749602', '£10,000', '528', 'hp20', '1yf', 'stuffed', 'bleh', 'least', 'writhing', 'ton', 'paypal', 'voila', 'pocket', 'theyre', 'medical', 'folk', '150p/sms', 'sorta', 'blown', 'recently', 'score', 'sophas', 'secondary', 'application', 'applying', 'ogunrinde', 'expensive', '08718720201', '114/14', 'tcr/w1', 'lodging', 'chk', 'dict', 'shb', 'truth', 'gravity..', 'carefully', 'it..', 'heavy', 'bowl', 'filthy', 'brand', 'simpler', 'magical', 'welp', 'retired', 'natwest', '£800', '09050001808', 'm95', 'valid12hrs', 'chad', 'gymnastics', 'site', 'christian', 'full..', 'necklace', 'token', 'you.thats', 'wife', 'liking.be', 'see..no', 'that.dont', 'me.i', 'aptitude', '2.15', 'horse', 'racing', 'earlier', 'chicken', 'rice', 'wrongly', 'crap', 'borin', 'boggy', 'boring', 'biatch', 'nxt', 'hesitate', 'weakness', 'notebook', 'salary', 'chocolate', 'days.he', 'potential', 'talent', 'reckon', 'eightish', 'carpark', 'videophones', '09063458130', 'videochat', 'java', 'dload', 'polyph', 'noline', 'rentl', 'fuckin', 'dropped', '*loving', 'yun', 'ah.the', 'ubi', 'tomorrow.call', '67441233', 'irene.ere', 'bus8,22,65,61,66,382', 'cres', 'tech', 'park.6ph', '5wkg', 'days.èn', 'butt', 'sore', 'relaxing', '7am', 'party', '5ish', 'stripe', 'skirt', 'peace..', 'love..', 'miracle', 'jesus..', 'blessed', 'escalator', 'quiet', 'beth', 'aunt', 'charlie', 'helen', 'no..but', 'heard', 'tat..', 'syllabus', 'panasonic', 'bluetoothhdset', 'doublemins', 'doubletxt', 'contract', '7.30pm', 'poyyarikatur', 'kolathupalayam', 'unjalur', 'erode', 'hero', 'apt', 'opportunity.pls', 'kerala', 'crazy', 'terrible', 'fan', 'meat', 'supreme', 'told..she', 'regret', 'cudnt', 'call.drove', 'frm', 'ctla', 'home.left', 'car..ente', 'ishtamayoo', 'bakrid', 'exe', 'know..wait', 'glorious', 'anniversary', 'prey', 'teasing', 'coaxing', 'image', 'fond', 'souveniers', 'cougar-pen', 'secretly', '09065394514', 'datebox1282essexcm61xn', '150p/min', 'pattern', 'throat', 'scratch', 'plm', 'asleep', 'foreign', 'stamp', 'lecture', 'no.1', 'sheffield', 'nanny', 'raise', 'zoe', 'shitin', 'defo', 'hardest', 'million', 'lekdog', 'setting', 'filling', 'loverboy', 'blanket', 'sufficient', 'thx', \"'its\", 'loving', 'nyt', 'edison', 'rightly', 'fool', 'speechless', 'viva..', 'gnt', 'atten', 'roast', 'i\\x92d', '09058097218', 'ls15hb', 'concentrate', 'educational', 'here..', 'flirting', 'chatting', 'walked', 'doesn\\x92t', 'serious', 'kickoff', 'euro', 'june', '3rd', 'data', 'analysis', 'thesis', 'belligerent', 'hiya', 'april', 'rudi', 'snoring.they', 'drunk', 'sends', 'ink', '515', 'throwing', 'deciding', 'eastenders', 'flower', 'compare', 'violet', 'tulip', 'lily', '84025', 'wkent/150p16+', 'technical', 'support', 'process.networking', 'days.so', 'prepared', 'finalise', '.dont', 'visit.need', 'www.flirtparty.us', 'replys150', 'bitch', 'dentist', '09058091854', 'revealed', 'box385', '6wu', 'bathing', '09050003091', 'c52', 'xchat', 'lul', 'juicy', 'nurse', 'shes', 'obese', 'oyea', 'ami', 'parchi', 'kicchu', 'kaaj', 'korte', 'iccha', 'korche', 'tul', 'sculpture', 'convey', 'regard', 'surya', '.after', 'vijay', 'pokkiri', 'dearer', 'dem', 'attraction.i', 'me.she', 'thoughts.i', 'her.she', 'dream.love', 'breath', 'name.my', 'her.my', 'her.i', 'her.will', 'sorrows.i', 'fight', 'craziest', 'her.love', 'proove', 'planet.i', 'singing', 'praise', 'curry', 'makiing', 'sambar.life', 'then.will', 'lot..will', 'later..', \"fr'ndship\", 'needle', 'evn', 'itz', '4few', 'alwys', 'conected', 'spatula', 'sipix', 'digital', '09061221061', '28days', 'box177', 'm221bp', '2yr', 'warranty', 'p£3.99', '09061790121', '3030', 'doctor', 'complexity', 'freely', 'tax', 'outrageous', 'tomorro', 'ryder', 'unsold.now', 'subscriber', 'receipt', 'elvis', 'presley', 'fret', 'strip', 'postal', 'address.u', 'alright.okay', 'cliff', 'interesting', 'wrking', 'uni', 'depressed', 'sittin', 'wind', 'black', 'aiyah', 'information', 'onto', '//www.urawinner.com', 'surprise', 'awaiting', 'hen', 'italian', '*grins*', 'smoked', 'math', 's..first', 'time..dhoni', 'teju', 'hourish', 'ground.amla', 'durban', 'convenience', 'evaluation', '449050000301', '09050000301', 'speed', 'speedchat', '80155', 'swap', 'chatter', 'chat80155', 'rcd', 'cancel', 'cheyyamo', '08000776320', 'ok.ok', 'ok..then..whats', 'aiyar', 'survey', '80160', 'www.txt43.com', '1.50p', 'catching', 'who', 'hmv1', 'error', 'difficulty', 'howz', 'fine..', 'tau', 'sar', 'piah', '1stchoice.co.uk', '08707808226', 'wearing', 'film', 'hg/suite342/2lands/row/w1j6hl', 'shade', 'copied', 'notified', 'luck', 'marketing', '84122', '08450542832', 'raining', 'station', 'tank', '4fil', 'sexual', 'cute', '69911', '£1.50p', 'sitter', 'kaitlyn', 'hey..', 'tmr..', 'danger', 'peep', 'comment', 'veggie', 'neighbor', 'computerless', 'balloon', 'pass.they', 'silently', 'nt.swt', 'drms', 'wrc', 'rally', 'lucozade', 'energy', '61200', 'pack', 'lucozade.co.uk/wrc', 'itcould', 'melody', 'horrible', 'toot', 'bigger', 'hme', 'da..', 'island', 'chennai', 'velachery', 'flippin', 'breaking', 'cstore', 'annoying', 'hangin', 'makin', 'alive.better', 'itself..', 'lodge', 'worrying', 'shame', 'popcorn', 'jordan', '88600.', 'celeb', 'pocketbabe.co.uk', '£3/wk', '087016248', 'voicemail', '08719181503', 'thin', 'fed', 'himso', '2go', 'thanx.xx', 'neft', 'credited', 'beneficiary', 'na-tuition..', 'understanding', 'choice', 'enter', 'www.ldew.com.subs16+1win150ppmx3', 'appreciated', 'map', 'semi', 'apart', 'delivered', 'exp', '30apr', 'strong', 'arm', 'maaaan', 'guessin', 'walmart', 'ilol', 'personally', 'wuldnt', 'mite', 'creepy', 'lunchtime', 'organise', '08719181513', 'k..k..i', 'complete', 'passable', 'phd', '5years', 'easier', 'nok', '87021', 'txtin', '150p/tone', '4info', 'prakesh', 'apps', 'rofl', 'betta', 'invest', 'anti', 'aging', 'product', '1hr', 'delay', 'accommodation', 'various', 'global', 'www.phb1.com', 'ph:08700435505150p', 'submitting', '84128', 'www.textcomp.com', '08712405020', 'snatch', 'purse', 'hello-/', 'drivby-:0quit', 'edrunk', 'iff', 'pthis', 'senrd-dnot', 'dancce', 'drum', 'basq', 'ihave', '2nhite', 'xxxxxxx', 'morn', 'relieved', 'westonzoyland', 'greatness', 'europe', 'nobody', 'chinese', 'doc', 'soon..', 'havin', 'goin2bed', 'only1more', 'hun', '2nite-tell', 'every1', 'ava', 'goodtime', 'oli', 'rang', 'melnite', 'ifink', 'sorted', 'everythin', 'mon.l8rs.x', '08712402779', 'flip', 'shun', 'bian', 'glass', 'exhibition', 'nino', 'chikku..going', 'bus..', 'cbe', 'honey', 'executive', 'picked', 'downstem', '08718730555', 'wahala', 'inperialmusic', 'listening2the', 'weirdest', 'by\\x94leafcutter', 'john\\x94-sounds', 'insect', 'molested', 'plumbing', 'remixed', 'evil', 'acid', 'didntgive', 'bellearlier', 'bedbut', 'thepub', 'l8tr', 'uwana', 'jenxxx', 'exact', '09096102316', '2moro', 'jane', 'calls£1/minmoremobsemspobox45po139wa', 'tee', 'cheery', 'cell', 'thts', 'dough', 'control', '80488.biz', 'weirdo', 'mode', 'lor..', 'stalk', 'profile', 'jerry', 'irritates', 'fails', 'express', 'she.s', 'drinkin', 'wondering', 'others', 'dog', 'tour', '9am', '5pm', '95/pax', 'deposit', 'jap', 'disappeared', 'birthdate', 'certificate', 'publish', 'nydc', 'wheellock', 'destination', 'fifty', 'favour', 'settling', 'happenin', 'ola', 'cocksucker', 'ipads', 'worthless', 'garbage', 'novelty', 'item', 't-shirt', 'fran', 'broke', 'knackered', 'janx', 'p.s', '-no', 'designation', 'software', 'developer', 'jamster', 'videosound', 'gold', 'videosounds+2', 'logos+musicnews', 'jamster.co.uk', '16+only', '09701213186', 'lion', 'lionm', 'lionp', 'www.ringtones.co.uk', 'original', '3gbp', 'jokin', 'lar..', 'spirit', 'shattered', 'alrite', 'idiot', 'girlie', 'darker', 'styling', 'whenevr', 'gray', 'remembr', 'listn', 'watevr', 'harry', 'potter', 'phoenix', 'among', 'reader', 'shd', 'minus', '10..', 'paragraph', 'coveragd', 'vasai', 'retard', 'bathroom', 'sang', \"'uptown\", '83600.', 'february', 'rush', 'icic', 'syria', 'canada', 'hurt..', 'closer..', 'goodnoon', 'gauge', 'patty', 'interest', 'monday..nxt', 'completing..', 'chill', '6hrs', 'surgical', 'emergency', 'unfolds', 'married', 'frens', 'korean', 'fredericksburg', 'que', 'buen', 'tiempo', 'chillin', 'super', 'free2day', 'george', '89080', 'saucy', '0870241182716', 'there', 'tmrw', 'compass', 'soul', '.gnun', 'way2sms.com', 'baaaaabe', 'youuuuu', 'ned', 'convince', 'tht', 'witot', 'hurting', 'main', 'sweetie', 'blackberry', 'buyer', 'pple', 'marry', 'becz', 'undrstndng', 'avoids', 'chain', 'suffer', 'whn', 'arrested', 'suntec', 'steamboat', 'dance', 'moji', 'forgive', 'messenger', 'reaching', 'fantasy', '08707509020', '20p', '1327', 'croydon', 'cr9', '5wb', '0870..k', 'bbq', '6ish', 'everyso', 'panicks', 'fill', 'write', 'cover', 'screen', 'gently', 'hand..', 'interesting..', 'bear', 'nick', 'tom', 'fact', 'upload', '08718730666', 'auntie', 'huai', 'juan', '1/2', 'linerental', 'call2optout/lf56', 'problem..', 'tlk', 'ideal', 'path', 'appear', 'front', 'us..', 'is..', 'walking..', 'waiting..', 'shot', 'reserve', 'thirunelvali', 'tirunelvali', 'net..no', 'available..i', 'tackle', 'storming', 'phne', 'meaning', 'girl..', 'yes..', 'margaret', 'girlfrnd', 'grahmbell', 'invnted', 'telphone', 'moral', '4get', 'popped', 'tonght', 'ploughing', 'pile', 'ironing', 'chinky', 'k.i', 'unsold', 'gee', 'aust', 'cafe', 'recharged', 'kidding', 'papa', 'shld', 'stretch', 'detailed', 'sinco', 'payee', 'icicibank.com', 'urn', 'beware', 'fraud', 'share', 'disclose', 'vote', 'caring', 'loser', 'kaiez', 'tuition', 'option', 'beta', 'practicing', 'k..k..any', 'noncomittal', 'beneath', 'pale', 'goodnite', '150p/msgrcvdhg/suite342/2lands/row/w1j6hl', 'snickering', 'totally', 'chord', 'no..few', 'before.went', 'rem', 'silver', 'lmao', 'silence', 'www.ldew.com', 'win150ppmx3age16', 'message..', 'revision', 'boyf', 'interviw', 'exeter', 'spreadsheet', 'whose', 'determine', 'entire', 'arsenal', 'dartboard', 'treble', 'coat', 'painful', 'everybody', 'recognises', 'alone', 'wisheds', 'intrepid', 'duo', 'missin', 'guilty', 'aiya', 'cardiff', 'addie', 'tues', 'breeze', 'bright', 'fresh', 'twittering', 'restaurant..', 'textpod', 'pod', 'www.textpod.net', 'ducking', 'chinchilla', 'function', 'headstart', '2.30ish', 'desperate', 'earlier-we', 'rummer', 'flying', 'monkey', 'certainly', 'optin', 'bbc', 'thanks2', 'rajini', 'practical', 'june..', 'stupid.its', 'liao..', 'matched', 'optout', 'help08714742804', 'haha..', 'spy', 'wat..', 'claire', '2nite', '09099725823', 'bought', 'costing', 'offering', 'yalru', 'lyfu', 'astne', 'chikku..', 'innu', 'mundhe', 'lyf', 'ali', 'halla', 'bilo', 'program', 'edhae', 'ovr', 'chikku..ali', 'vargu', 'meow', 'twelve', 'aah', '09066362231', '07xxxxxxxxx', '02/06/03', 'prone', '07801543489', 'no:83355', 'tc-llc', 'ny-usa', '150p/mt', 'msgrcvd18+', 'lucy', 'hubby', 'meetins', 'cumin', '09099726395', 'calls£1/minmobsmorelkpobox177hp51fl', '7th', '6th', '5th', '4th', 'personality', 'nature', 'dose', 'tablet', 'incomm', 'blake', \"doesn\\\\'t\", 'lotr', 'keeping', 'google', 'tiring', 'concentrating', 'browsin', 'compulsory', 'purity', 'message..its', 'musthu', 'gautham..', 'investigate', 'receive..', '80488', 'www.80488.biz', 'vomit', 'aint', '.how', 'sha', 'vitamin', 'gals..', 'centre', 'crucial', 'jsco', '2channel', 'leadership', 'skill', 'psychic', 'w/question', 'host-based', 'idp', 'linux', '0870', 'total', 'converter', 'along', 'karaoke', 'testing', 'sayy', 'loved', 'except', 'nit', 'leanne.what', 'eight', 'format', 'disc', 'internet', 'hows', 'champ', 'glasgow', 'lovin', 'arrive', 'shortly', 'install', 'browse', 'artist', 'corect', 'speling', 'i.e', 'sarcasm', '1/08/03', '0871-4719-523', 'forum', 'ron', 'employee', 'nike', 'sooo', 'screaming', 'shouting..', 'dang', 'unfortunately', 'airport', '7250i', 'auction', '86021', 'row/w1jhl', 'mr.', 'difficult', 'earliest', 'nordstrom', 'konw', 'waht', 'rael', 'gving', 'yuo', 'exmpel', 'jsut', 'ese', 'tihs', 'evrey', 'splleing', 'wrnog..', 'sitll', 'raed', 'wihtuot', 'ayn', 'mitsake..', 'sleep..sweet', 'dreams..', 'conference', 'www.orange.co.uk/ow', 'degree', 'joining', 'finance', 'prospect', 'bleak', 'filled', 'shant', 'jia', 'bishan', 'nearer', 'sux', 'raiden', 'buff', 'south', 'preferably', 'kegger', 'tote', 'pierre', 'cardin', 'rhythm', 'establish', 'truro', 'ext', 'gas', 'gang', 'adventure', 'cloth', 'pack.also', 'sunroof', 'excellent', 'finishing', 'wifi', 'blanked', 'rumour', 'kalainar', 'office.thenampet', '7250', 'nosy', 'idk', 'reacting', 'freaked', 'satanic', 'imposter', 'me.need', 'it.may', 'destiny', 'companion', 'chef', 'listener', 'organizer', 'boyfriend', 'sympathetic', 'athletic', 'courageous', 'determined', 'dependable', 'psychologist', 'pest', 'exterminator', 'psychiatrist', 'healer', 'stylist', 'driver', 'aaniye', 'pudunga', 'venaam..', 'brothas', 'chasing', 'chez', 'jules', 'hhahhaahahah', 'nig', 'leonardo', 'john', '2years', 'strain', 'dime', 'withdraw', 'anyhow', 'falling', 'force', 'smeone', 'miller', 'fire', 'spark', 'flame', 'rawring', 'xoxo', 'somewhr', 'crushes..', 'honeymoon', 'outfit', 'propose', '08719899230', 'blame', 'cheque', 'olympics', 'leo', 'k.then', 'done/want', 'haul', 'wildlife', 'want2come', 'that2worzels', 'wizzle', 'dippeditinadew', 'lovingly', 'itwhichturnedinto', 'gifted', 'tomeandsaid', 'shanghai', 'instead', 'cya', 'freezing', '645', 'rt-king', 'pro', 'ringtoneking.co.uk', '08701237397', 'redeemable', 'www.ringtoneking.co.uk', 'thnx', 'sef', 'anjie', 'batch', 'fring', 'flaky', 'sooooo', 'simple..', 'laughing', 'winning', 'tooo', \"'simple\", 'difficult..', 'nte', '09058094599', 'confuses', 'wating', '250', 'british', 'london', '02072069400.', '526', 'sw73ss', '6pm', 'animal', 'buzz', 'adoring', 'eerie', 'title', 'dracula', 'ghost', 'addamsfa', 'munsters', 'exorcist', 'twilight', 'brought', '..shiny', 'warming', 'constant', 'cared', 'surprised', 'french', 'fooled', 'allow', 'responsible', 'supplier', 'guarantee', 'comedy..cant', 'feelin', 'lnly', 'jst', 'moby', '82242', 'msg150p', '2rcv', 'hlp', '08712317606', 'keen', 'switch', 'dammit', 'wright', 'fly..', 'somewhat', 'event', 'laden', 'wrecked', 'loud..', 'spontaneously..', 'feel..', 'goodevening', 'bag..i', 'lei', 'action', '80608.', 'www.movietrivia.tv', '08712405022', 'walking', 'waking', 'partnership', 'rgent', 'lookin', 'daytime', 'busty', '09099726429', 'janinexx', 'mostly', 'inside', 'spageddies', 'phasing', 'fourth', 'dimension', 'yes..but', 'it.', 'meaningful', 'compromised', 'mornin', '09050001295', 'a21', 'monthly', 'mobsi.com', '391784.', 'dub', 'words-', 'toughest', 'unspoken', 'inside..', 'sight', 'remain', 'sight..', 'maintain', 'ends..', 'jas', 'squatting', 'cramp', '0089', 'digit', 'received', '09063442151', '-sub', 'ringtone-get', 'free-send', '81618-', 'week-stop', 'sms-08718727870', 'nan', 'sonathaya', 'soladha', 'raping', 'poker', 'weightloss', 'mushy', 'embarrassed', 'stash', 'ran', 'priya', 'ordered', '81303', 'father', 'messy', 'kilo', 'accidant', 'tookplace', 'ghodbandar', 'traffic', 'slovely', 'slip', 'ah.now', 'wkg', 'specialise', 'wad', 'dislike', 'queen', 'desparately', 'fren', 'gotten', 'stereo', 'unknown', 'album', '121', '60p/min', 'connect', '09094646899', 'bcm1896wc1n3xx', 'classmate', 'fires.are', '2007', 'pre-book', '81303.', 'trackmarque', 'vipclub4u', 'missionary', 'hook', 'standing', 'sleep..', 'entertaining', 'hugh', 'laurie', 'stick', 'indeed', 'praps', 'jon', 'bin', 'spain', 'dinero', '\\x91rents', '12,000pes', '£48', 'james', \"'maangalyam\", 'alaipayuthe', 'complaining', 'mandy', 'sullivan', 'hotmix', 'chosen', '£5000.00', 'easter', '..please', 'telephone', '09041940223', '29/03/05', 'transferred', 'finn', 'bahamas', 'callfreefone', '08081560665', 'cruise', 'of£2000', '18+only', '07786200117', 'calm', 'downon', 'theacusations..', 'itxt', 'iwana', 'wotu', 'thew/end', 'haventcn', 'ages..ring', 'up4', 'nething', 'sat.love', 'dine', 'conacted', '09111030116.', 'pobox12n146tf15', 'i\\x92m', 'v.tired', 'social', 'inspection', 'nursery', 'details..i', 'you.my', 'happy..', 'slowly', 'becomes', 'habit', 'life..', 'follow', 'it..mail', 'panren', 'paru..', 'chuckin', 'trainners', 'carryin', 'bac', 'schedule', 'dhanush', 'needing', 'stuck', 'chikku..simple', 'habba..hw', 'dileep.thank', 'muchand', 'venugopal', 'mentioned.tomorrow', 'there.goodnight', 'remembrs', 'forgets', 'everytime', 'mandan', '07734396839', 'ibh', 'nokia6600', 'no:81151', 'regarding', '3230', 'textbook', 'algorithm', 'edition', 'selling', 'bun', 'adore', 'song..', 'invader', 'orig', 'arcade', 'console', 'o2.co.uk/games', '09064018838.', 'cro1327', 'atlanta', 'recharge', 'created', 'fingers..', 'holding', 'arun', 'transfr', 'takin', 'philosophy', '4u.i', 'didn\\x92t', 'intend', 'iwas+marine', 'itried2tell', 'urmom.i', 'careabout', 'foley', 'exciting', 'www.win-82050.co.uk', 'desparate', 'learned', 'fake', 'answering', 'iraq', 'afghanistan', 'stable', 'honest', 'traveling', 'bless.get', '1225', '£50award', '3100', 'pai', 'seh', 'beer', 'combine', 'walsall', 'tue', '.terry', 'jess', 'sian', 'ccna', 'shrek', 'dirty', 'fellow', 'dying', 'lifting', 'teresa', 'package', 'dec', \"you'ld\", 'bam', 'usmle', 'squishy', 'mwahs', 'hottest', '89555', 'g696ga', 'hello-', 'prominent', 'cheek', 'september', 'husband', 'hack', 'backdoor', 'fraction', 'neo69', '09050280520', 'subscribe', 'bcm', '8027', 'norm', '4.15', 'list', 'joanna', 'comingdown', 'replacement', 'murali', 'player.why', 'sts', 'engalnd', 'telly', 'mia', 'elliot', 'kissing', 'upto', '12mths', '1/2price', 'x-net', '100txt/mth', \"b'tooth*\", '08001950382', '2optout/d3wv', 'wipro', 'matric', '850.', 'toa', 'payoh', '650', '08718726970', 'bt-national-rate', 'payment', 'fedex', 'team..', 'reception', 'slowly.', 'blood.send', 'hate', 'consensus', 'entertain', 'delete', 'tag', 'wednesday', 'skype', 'laundry', 'underwear', 'bra', 'strewn', 'pillow', 'waheed', 'fathima', 'mmmm', '*pushes', \"knee's*\", '*exposes', 'pull', 'it*', '*wicked', 'smile*', 'ready.all', 'srt', 'thnk', 'ps3', 'jontin', 'prize.to', 'nearly', 'banned', 'pen', 'beyond', 'biro', 'master', '09058094594', 'shell', 'unconsciously', 'avoiding', 'unhappy', 'excuse', 'jog', '0776xxxxxxx', '18yrs', '09061743811', 'abta', '326', 'season', 'lark', '09090900040', 'extreme', 'sic', '60p', '24/7mp', '0870753331018+', 'video/pic', 'fones', 'wild', '150p/rcvd', 'stop2stop', 'lim', 'vday', 'parachute', 'placed', '80182', '08452810073', 'table', 'lambda', 'build', 'snowman', 'angel', 'snowball', 'ello', 'ikea', 'ofice', 'duffer', 'grr', 'prescription', 'pharmacy', 'cook', 'electricity', '08715500022', 'rpl', 'cnl', 'fffff', 'kadeem', 'fujitsu', 'lifebook', 'scold', 'zhong', 'qing', 'act', '4-6', 'accordingly', 'hypertension', 'wud', 'annoyin', '08702490080', '09066358152', 'prompt', 'vpod', 'carry', 'disturbing', 'avatar', 'nigro', 'scratching', 'anyplaces', 'cleaning', 'upset', 'priority', 'constantly', 'ecstasy', '09090204448', 'minded', 'a£1.50', 'minapn', 'ls278bb', 'fly', 'hittng', 'reflex', 'costa', 'sol', '09050090044', 'toclaim', 'pobox334', 'stockport', 'cost£1.50/pm', 'max10mins', 'lousy', 'cat', '10:10', 'woken', 'hip', 'adewale', 'aka', 'egbon', 'min..stand', 'mary', 'deduct', 'wrks', 'asshole', 'grab', 'sliding', '09065394973', 'payback', '80488.', '2005', 'honeybee', 'sweetest', 'world*', 'laughed', '*wait', 'havnt', 'msg*', 'crack', 'gm+gn+ge+gn', 'tescos', 'feathery', 'bowa', 'infra', 'nvm', 'gep', 'delhi', 'thinkin', '2006', 'fifa', 'held', '87239', 'boat', 'shhhhh', 'related', 'arul', 'amk', '09061743810', 'length', 'fringe', 'distract', 's..antha', 'corrct', 'dane', 'basket', 'proof', 'rupaul', '61610', 'help:08712400602450p', 'provided', 'tones2you.co.uk', 'practising', 'curtsey', 'yeh', 'payed2day', 'havbeen', 'a£50', 'rise', '4my', 'havebeen', 'preschoolco-ordinator', 'feelingood', 'memory', 'mon', 'converted', 'yo-here', 'downloads', 'african', 'soil..', 'major', 'role', 'outreach', 'mel', 'birth', '8lb', '7oz', 'brilliantly', 'forwarding', 'intention', '*i*', 'rule', 'responsibility', 'bend', 'thia', 'inlude', 'preview', 'freefone', '08006344447', 'ambrith..madurai..met', 'dha', 'marrge..remembr', 'kitty', 'shaved', 'natural', 'onwards', 'tactful', 'tscs', 'skillgame,1winaweek', 'age16.150ppermesssubscription', 'theatre', 'obviously', 'eggs-pert', 'potato', 'head…', 'crammed', 'satsgettin', '4.47per', 'lie', 'apologize', 'pei', 'kid..', 'boost', 'energy..', 'subtoitles', 'sitting', 'jot', 'store.like', 'cereal', 'gari', 'infernal', 'affair', 'including', 'bold2', 'calicut', 'darlin..', 'mt..', '09094100151', 'cast', 'aom', 'gbp5/month', 'box61', 'm60', '1er', 'thkin', 'parco', '.please', 'no..', 'resubbing', 'shadow', 'breadstick', 'ahmad', 'saeed', 'hallaq', '***********', '09066362220', 'box97n7qp', 'purple', 'pink', 'lyk', 'yelow', 'bck', 'brown', 'giv', 'color', 'arranging', 'eldest', 'drugdealer', 'gender', 'wither', 'e.g.23f', 'e.g.23g', 'sleepwell', 'wondarfull', 'messages-text', 'web2mobile', 'txt250.com', '1.50p/wk', 'box139', 'la32wu', 'txtx', 'normally', 'mah..', 'hun-onbus', 'donyt', 'latelyxxx', '85233', 'mca', 'rich', 'justthought', 'sayhey', 'endof', 'offdam', 'nevamind', '2hook', 'uwant', 'official', 'flag', 'yer', '84199', 'eng', 'box39822', 'w111wx', 'yor', 'stressed', 'jason', 'soooo', 'provider', 'tming', 'cutest', 'dice', 'art', 'inclusive', '*****', 'help:08700469649.', 'box420', 'ip4', '5we', 'howda', 'gud..', 'mathe', 'samachara', 'audrie', 'autocorrect', 'simulate', 'readiness', 'armand', 'and/or', 'vomiting', 'rub', 'foot', 'lara', 'clever', 'attach', '087123002209am-7pm', 'med', 'stamped', '113', 'bray', 'wicklow', 'eire', 'washob', 'nobbing', 'nickey', 'platt', 'ryan', 'vikky..', 'www.idew.com', 'skillgame', '1winaweek', '150ppermesssubscription', 'mad', 'argh', 'spotty', 'province', 'sterling', 'problem-free', 'looked', 'xam', 'hall', 'manage', 'hesitation', 'intha', 'ponnungale', 'ipaditan', 'bad-', 'rejected', 'shitload', 'diamond', 'tessy..pls', 'favor', 'nimya..pls', 'shijas', 'china', 'noisy', 'needa', 'mcat', 'manual', 'process', 'reset', 'troubleshooting', 'b4u', 'w/c', '27/03', 'marsms', 'www.b4utele.com', '08717168528', 'strongly', 'sacrifice', 'beg', 'expecting', 'creativity', 'stifled', 'morphine', 'requirement', 'stayin', 'he\\x92s', '2getha', 'buffy', 'satisfy', 'pix', 'qlynnbv', 'help08700621170150p', '8-8:30', 'cld', 'prefer', 'nosh', 'waaaat', 'lololo', 'occupied', 'kindly', 'document', 'submitted', 'stapati', 'mile', 'cutie', 'hill', 'killed', \"did'nt\", 'colleague', \"''ok\", 'sed', 'mood', 'minuts', 'latr', 'kidz', 'screaming..', 'sofa..', 'honesty', 'specialisation', 'labor', 'shakara', 'beggar', 'smashed', 'dent', 'yes.he', 'crickiting', 'imin', 'town.dontmatter', 'urgoin', 'outl8r', 'reallyneed', '2docd.please', 'dontplease', 'dontignore', 'mycalls', 'thecd', 'isv.important', 'tome', 'yavnt', 'popping', 'ibuprofen', 'sip', 'cappuccino', 'grown', 'chinatown', 'porridge', 'claypot', 'yam', 'fishhead', 'beehoon', 'tok', 'specific', 'jaklin', 'nearby', '4.49/month', 'ntwk', 'bundle', 'avble', 'call2optout/j', 'ooh', '4got', 'moseley', '6.30', 'thankyou', 'pending.i', 'days.will', 'thru.respect', 'home.check', 'v-aluable', 'a-ffectionate', 'l-oveable', 'e-ternal', 'n-oble', 't-ruthful', 'i-ntimate', 'n-atural', 'e-namous', 'textin', 'cousin', 'frndship', 'raji..pls', 'nimya', 'leg', 'neck', 'amigo', 'progress', 'continue', 'holy', 'arty', 'collage', 'tryin', 'billion', '2hrs', 'waliking', 'carton', 'shelf', '08714712379', 'distance', 'mirror', 'youre', 'turning', 'freak', 'ref', 'k718', '£4.50', '09065069120', 'jod', 'keris', 'smidgin', 'belive', 'k.k..where', 'empty', 'slot', 'accordin', 'discussed', 'vikky', 'also..', '6pm..', \"no's..\", 'knocking', 'si.como', 'listened2the', 'plaid', 'album-quite', 'air1', 'hilarious-also', 'bought\\x94braindance\\x94a', 'comp.ofstuff', 'aphex\\x92s', 'abel', 'hav2hear', 'nelson', 'temp', 'unmits', 'display', 'newspaper', 'soup', 'yummmm', 'management', 'puzzeles', 'include', '4goten', 'scammer', 'smart..though', 'regular', 'prem', 'msg/subscription', '2morro', 'passion', '09099726481', 'dena', '£1/minmobsmorelkpobox177hp51fl', 'spoiled', 'r836', '09065069154', 'threat', 'shifad', 'raised', 'complaint', \"'doctors\", 'reminds', '2go.did', 'lounge', 'lov', 'tolerat.bcs', 'comfort', 'checked', 'splashmobile', 'subscrition', '300p', 'dust', '01223585334', 'shagged', '8552', '2end', '88877', '88066', '3pound', 'watchin', 'meaningless', 'brdget', 'jones', 'inever', 'hype', '700', 'studio', 'bedrm-', '900', 'unable', 'waited', 'velly', 'wkend', 'journey', 'huge', 'marking', 'mids', 'upd8', '2stoptx', 'annie', 'remind', '08718738034', '21870000', 'mailbox', 'messaging', '09056242159', 'retrieve', 'hrishi', 'nothin', 'hanger', 'poem', 'tear', 'restaurant', 'quiz.win', 'duchess', 'cornwall', '82277.unsub', '008704050406', 'arrow', '08718726971', 'tddnewsletter', 'emc1.co.uk', 'thedailydraw', 'dozen', 'prizeswith..', 'significant', 'waqt', 'pehle', 'naseeb', 'zyada', 'kisi', 'kuch', 'nahi', 'milta', 'zindgi', 'hum', 'sochte', 'jeetey', 'worse', 'stalking', 'dan', 'reminded', 'varaya', 'elaya', '***************', '10/06/03', '09066368753', '97n7qp', 'anand', 'beach', 'expected', 'aww', 'jez', 'iscoming', 'todo', 'workand', 'whilltake', 'zogtorius', 'i\\x92ve', 'staring', 'whether', 'financial', 'problem.i', 'alian', 'b/tooth', 'free-nokia', 'or2optout/hv9d', 'posible', 'century', 'frwd', 'unnecessarily', 'affectionate', 'ringtones', 'restriction', 'buddy', '80082', '08712402902', 'owned', '*possessive', 'no..he', 'clarification', 'spook', 'halloween', '08701417012150p', 'logo/pic', 'issue', 'weigh', 'football', 'sky', 'gamestar', 'active', '£250k', 'scoring', '88088', 'coimbatore', 'expired', 're-sub', 'monoc', 'polyc', 'stream', '0871212025016', 'category', 'measure', 'ethnicity', 'census', 'transcribing', 'propsd', 'lttrs', 'threw', 'thm', 'aproach', 'truck', 'speeding', \"'hw\", 'instantly', 'thy', 'lived', 'happily', '2gthr', 'drinking', 'evrydy', 'paragon', 'arent', 'bluff', 'impossible', 'goodmate', 'sary', 'asusual', 'cheered', 'franyxxxxx', 'batt', 'added', 'www.fullonsms.com', 'me.', 'pussy', 'becausethey', '09058098002.', 'pobox1', 'w14rg', 'message..no', 'responce..what', 'happend', 'wiskey', 'brandy', 'rum', 'gin', 'vodka', 'scotch', 'shampain', 'kudi', 'yarasu', 'dhina', 'vaazhthukkal', 'gained', 'sugar', 'pressure', 'limit', 'dumb', 'thangam', 'okey', 'doke', 'dressed', 'laying', 'kill', 'neshanth..tel', 'byatch', 'whassup', 'kay', 'roger', 'nasty', 'filthyguys', 'slo', '4msgs', 'wasted', 'chiong', 'jesus', 'christ', 'dialogue', 'reltnship..', 'body..', 'wipe', 'time..', 'solve', 'murdered', 'police', 'questioned', '4.cook', 'cooking', '5.gardener', 'vegetable', '6.house-maid', '7.children', '8.neighbour', 'murderer', 'brilliant', 'pose', 'comb', 'dryer', 'fps', 'computational', 'science', 'push', 'answered', 'madam', 'disturbance.might', 'dlf', 'premarica.kindly', 'informed.rgds', 'rakhesh', 'gotto', '08702840625', 'comuk.220cm2', 'settle', 'err', '8pm', 'bloo', 'hitter.anyway', 'b-day', 'offline', 'anjola', 'www.asjesus.com', 'wrote', '1/1', 'swiss', 'director', 'lac', 'crore', 'deposited', \"'taxless\", 'budget', 'lane', 'suply', 'citizen', 'imf', 'blocked', 'politician', 'corrupt', 'itna', 'karo', 'pura', 'padhe.g.m', 'torrent', 'particularly', 'slowing', 'commit', 'random', '83370.', 'www.music-trivia.net', 'hee..', 'rightio', '11.48', 'church', 'brum', 'donno', 'scorable', 'paranoid', 'brin', 'properly', 'k..give', 'complain', 'only..bettr', 'bsnl', 'offc', 'payed', 'suganya', 'dessert', 'abeg', 'sponsor', 'onum', 'k.k..how', 'can.dont', 'poet', 'imagination..my', 'car.so', 's.i', 'rr..', 'famamus', '630', 'sry', 'furniture', 'lock', 'jenne', 'easiest', 'barcelona', 'sppok', '09066612661', 'complementary', 'wa14', '2px', 'pansy', 'jungle', 'kanji', 'drink.pa', 'drizzling', 'shoving', 'sad..', 'over..', 'greeting', 'excused', 'drama', 'pls.i', 'struggling', 'strange', 'place.no', 'ego', \"'if\", 'necessity', 'go.wait', 'reppurcussions', 'released', 'cosign', 'hvae', '09061701444.', 'acl03530150pm', 'hcl', 'requires', 'fresher', 'process.excellent', 'needed.salary', '.call', 'ms.suman', 'telephonic', '-via', 'indyarocks.com', 'dai', 'resume', 'da..today', 'forgot..', 'reliant', 'fwiw', 'afford', 'happens', '*kiss*', 'kano..whr', 'maga', 'sq825', 'arrival', 'yunny', 'citylink', 'prop', 'pleasant', '6230', '83383', 'pobox114/14tcr/w1', 'bognor', 'splendid', 'yes.i', 'ktv', 'misplaced', 'mmmmm', 'medicine', 'begun', 'registration', 'permanent', 'residency', 'plenty', 'relative', 'deliver', 'risk', 'benefit', 'amount', 'predicting', 'accumulation', 'sister..', 'belongs', 'family..', 'tomorrow..', 'fated', 'shoranur', 'incident', 'fuelled', 'concern', 'prior', 'grief', 'violence', 'good.environment', 'terrific', 'text82228', 'www.txt82228.com', 'txt82228.co.uk', 'honestly', 'promptly', 'burnt', 'advice', 'snap', 'quizclub', '80122300p/wk', 'rwm', 'ph:08704050406', 'gmw', 'ltd.', 'connected', 'someplace', 'pressies', 'superior', 'you..', 'ultimately', 'tor', 'motive', 'tui', 'achieve', 'korli', 'dock', 'rolled', 'newscaster', 'dabbles', 'flute', 'behind', 'wheel', 'bx420', 'amazing', 'picsfree1', 'vid', 'keyword', 'ruin', 'erm', 'the4th', 'october', '83435.', 'elaborating', 'safety', 'aspect', 'issues..', 'tarot', '85555', 'department', 'conform', 'horniest', 'instruction', 'nyt.ec2a.3lp.msg', 'flow', 'developed', 'ovarian', 'cyst', 'shrink', 'upping', 'timin', 'ape', 'death', 'ibm', 'toshiba', 'gosh', 'spose', 'usual..iam', 'well..', 'rimac', 'arestaurant', 'squid', '10:30', 'dosomething', 'u.call', 'wrk.i', 'dabooks', 'nite+2', 'wrk', 'eachother', 'luckily', 'starring', 'restocked', 'knock', 'www.tkls.com', 'stoptxtstop£1.50/week', 'innocent', 'mental', 'question..', 'smoothly', 'hoped', 'challenging', '2marrow', 'hon', 'breakfast', 'hamper', 'cc100p/min', 'reality', 'da..al', '87131.', '0870737910216yrs', '£1.50/wk', 'unni', 'recharge..rakhesh', 'lacking', 'particular', 'dramastorm', 'forfeit', 'treated', 'digi', '9pm', 'fab', 'coupla', 'wks', '077xxx', '09066362206', 'sundayish', 'prasad', 'tiwary', 'rcb.battle', 'bang', 'kochi', 'cancer', 'checkup', 'pap', 'smear', 'gobi', 'pandy', 'technology', 'today.he', 'job..', '150p/mtmsgrcvd18', 'olowoyey', 'usc.edu', 'argentina', 'secretary', 'taxt', '.tie-pos', 'lool', 'spending', 'shaking', 'booty', 'lil', 'busy.i', 'noon..', 'sarcasm..', '.nt', 'scarcasim', 'naal', 'eruku', 'chikku..wat', '5wq', 'remains', 'bro', 'amongst', 'bros', 'impressively', 'sensible', '69696', '3lp', '£1.50/msg', 'response', 'also.or', 'nalla', 'obedient', 'ft.', 'combination', 'needy', '*pouts*', '*stomps', 'feet*', 'northampton', 'abj', 'serving', 'playng', 'mcfly-all', 'ab..', 'sara', 'jorge-shock..', 'smith-switch..', 'anna', 'nagar', 'yupz', 'model..sony', 'ericson', 'der..', '..it', 'luks', 'modl', 'cheesy', 'frosty', 'witin', 'str*', '0870141701216+', '4txt/120p', '10th', 'sept', '09050000555.', 'ba128nnfwfly150ppm', 'nudist', 'themed', 'pump', 'petrol', '£12', 'feb', 'ignore', 'evr', 'signal', 'neither', 'unusual', 'hug', 'snogs', 'west', 'palm', 'printing', 'handing', 'fastest', 'growing', '83021.', 'chase', 'stated', 'tariff', '2stoptxt', 'perpetual', 'steam', 'reg', 'pract', 'lessons..', 'flung', 'house-maid', 'january..', 'public', 'govt.instituitions', 'office..understand', 'okie..', 'thanx..', 'justbeen', 'overa', 'mush', 'tunde', 'mission', 'luxury', 'canary', '20m12aq', 'lux', 'eh74rr', 'lei..', 'sleepy', 'dare', 'ben', 'mag', 'avo', 'middle', 'crashed', 'cuddled', 'sofa', 'chachi', 'tiz', 'kanagu', 'ringing', 'houseful', 'brat', 'pulling', 'diwali', 'tick', 'now.onion', 'derp', 'abuser', 'lipo', 'netflix', 'thgt', 'clash', 'arr', 'oscar', 'rebtel', 'firefox', 'lower', '69969', 'bcmsfwc1n3xx', 'impressed', 'footy', 'stadium', 'large', 'coca-cola', 'dark', 'teenager', 'telugu..thts', 'gud..k', 'nyt..', 'esplanade', 'exhaust', 'replacing', 'mittelschmertz', 'paracetamol', 'sales/pee', 'arrived', 'cthen', 'enuff..', 'conclusion', 'references..', 'pg..', 'at/your', 'big..|', 'success', '£50', 'instant', '08715203028', '9th', '£50-£500', 'wed.', 'rugby', 'affidavit', 'twiggs', 'division', 'courtroom', 'creep', 'possessiveness', 'poured', 'golden', 'truly..', 'lasting', 'breathe1', 'crazyin', 'sleepingwith', 'finest', 'ymca', 'getzed.co.uk', 'pobox365o4w45wq', 'wtc', 'weiyi', 'property', '*passionate', 'interflora', '\\x93it', '505060', 'god..taken', 'teeth', 'paining', 'romcapspam', 'presence', 'outgoing', 'maggi', 'mee..', '08712103738', 'cough', 'com', '09058099801', 'b4190604', '7876150ppm', 'fine.', 'bbd', 'pooja', 'pimples..even', 'black..and', 'sweatter..', 'nice.nice.how', 'ambitious', 'miiiiiiissssssssss', 'tunji', 'yellow', 'misscall', 'frndz', '6missed', 'free-message', 'frog', 'mad1', 'mad2', '88888', 'gbp/week', 'tall', 'doubt', 'handle', 'note', 'robs', 'avenge', 'japanese', 'proverb', 'strike', 'toss', 'gudni8', 'dancin', 'explicitly', 'nora', 'smith', 'da.i', 'gayle', 'crucify', 'moved', 'butting', 'freedom', 'vs.', 'cedar', 'twenty', 'durham', 'reserved', 'seat', 'porn', '69855', '50p', 'stopbcm', 'painting', 'printer', 'groovy', 'groovying', 'harish', 'transfred', 'acnt', 'nowadays', 'showroom', 'shaping', 'attending', 'probs', 'doinat', 'callon', 'low', 'swatch', 'ganesh', 'dress', 'pdate_now', 'call2optout/', 'yhl', 'collecting', 'configure', '..now', 'anal', 'pear', 'helloooo', 'up..', 'celebrate', 'oooooh', '09058094454', 'resubmit', 'expiry', 'we\\x92ve', '2geva', 'mint', 'human', 'god..', 'studyn', 'wuld', 'everyboy', 'xxxxxxxx', 'solved', \"'xam\", '5+3+2=', '9+2+4=', '8+6+3=', '7+2+5=', '1thing.i', 'answr', 'liquor', 'flaked', 'loko', '730', 'lined', \"tm'ing\", '*laughs*', 'fireplace', 'icon', '08712400200', 'fifth', 'woozles', 'weasel', '08718723815', 'gary', 'machine', 'sake', 'ignorant', 'mys', 'bruce', 'down', 'fletcher', '£1,500', '27/6/03', '08714714011', 'teaching', 'cozy', 'night.nobody', 'buzzzz', 'chest', 'vibrator', 'shake', 'trend', 'con', 'brief', 'description', 'nuclear', 'fusion', 'history', 'iter', 'jet', 'pages..', 'nowhere', 'ikno', 'doesdiscount', 'shitinnit', 'jabo', 'abi', 'slower', 'maniac', 'had..ya', 'sapna', 'manege', \"y'day\", 'hogidhe..chinnu', 'swalpa', 'agidhane..', 'type..lyk', 'footbl', 'crckt..', 'swell', 'tim', 'bollox', 'tol', 'hang', 'ingredient', 'pocy', 'bell', 'non', 'call2optout/4qf2', 'nap..', 'senor', 'giggle', 'possibly', 'person2die', 'nvq', 'professional', 'tiger', 'wood', 'reboot', 'grinder', 'pt2', '87575', 'figuring', 'entirely', 'understood', 'bottom', 'know..he', 'computer..', 'phoned', 'disconnected', 'onluy', 'offcampus', 'improved', 'riley', 'lingo', '400mins', 'call2optout=j5q', 'see..', 'worry..', 'goodnoon..', '69200', 'chrgd', '2exit', 'salon', 'approaching', 'sankranti', 'republic', 'shivratri', 'ugadi', 'independence', 'childrens', 'festival', 'dasara', 'rememberi', 'raj', 'lifeis', 'daywith', 'somewheresomeone', 'tosend', 'greeting..', 'selflessness', 'initiate', 'tallent', 'wasting', 'usc', 'portal', \"don't4get2text\", 'lennon', 'bothering', 'crab', 'shore..the', 'wave', 'footprint', 'crab..', 'clearing', 'fox', 'frndsship', 'dwn', 'slaaaaave', 'summon', '£33.65', 'appendix', 'range', 'slob-', 'smiled', 'topic..sorry', 'that..', 'webpage', 'yeesh', 'unsubscribed', 'hunk', '//gotbabes.co.uk', 'gopalettan', 'participate', 'admin', 'abroad', 'xxsp', 'visionsms.com', 'stopcost', '08712400603', 'goody', 'mat', 'andros', 'steal', 'isaiah.=d', 'penis', 'expert', '*deep', 'sigh*', 's.s', 'thinl', 'sachin.just', 'importantly', 'tightly', \"'wnevr\", 'fal', 'vth', 'fals', 'yen', 'madodu', 'nav', 'pretsorginta', 'nammanna', 'pretsovru', 'alwa', 'eveb-', 'lord', 'soundtrack', 'stdtxtrate', 'home.love', 'staff.science.nus.edu.sg/~phyhcmk/teaching/pc1323', 'emigrated', '5.30', 'hopeful', 'olol', 'stagwood', 'winterstone', 'victor', 'mofo', 'pathaya', 'enketa', 'maraikara', 'priest', 'intrude', 'walkabout', 'cashed', 'announced', 'blog', '28th', '06.', 'removal', '08708034412', 'prove', 'footie', 'blow', 'phil', 'neville', 'abbey', 'returning', 'knowing', 'punj', 'str8', 'classic', 'nokia/150p', 'poly/200p', 'thurs', 'pre', 'cancelled', 'sacked', 'lookatme', 'clip', '35p', 'mmsto', '32323', 'barred', 'twat', 'dungerees', 'decking', 'punch', 'fri.', 'mentionned', 'vat', 'planned', 'only.don', 'grl', 'hogolo', 'kodstini', 'agalla', 'madstini', 'hogli', 'mutai', 'eerulli', 'kodthini', 'kano', 'babe..', 'thasa', 'messed', 'up.yeh', 'shudvetold', 'urgran', 'neway', 'illspeak', 'u2moro', 'tex', 'mecause', 'werebored', 'okden', 'uin', 'sound\\x92s', 'likeyour', 'gr8fun', 'updat', 'countinlots', 'xxxxx', 'tagged', 'count', 'challenge', 'hdd', 'casing', 'opened', 'describe', '09053750005', '310303.', '08718725756', '140ppm', 'asus', 'randomly', 'reformat', 'otside', 'le..u', 'maga..', 'plumber', 'tape', 'wrench', '//www.e-tlp.co.uk/reward', 'bcum', 'appeal', 'thriller', '8.30', 'size', 'elephant', 'shove', 'pookie', '.dear.with', 'love.rakhesh', 'nri', '08712101358', 'it\\x92s', 'deserve', 'tight', '88039.skilgme.tscs087147403231winawk', 'age16+£1.50perwksub', 'diddy', 'toothpaste', 'poking', 'everyday', 'de.am', 'curious', 'coccooning', 'auto', 'newquay-send', 'postcard', '1im', 'talkin', 'bread', 'windy', '09066358361', 'y87', 'mahal', 'stop..', 'tirunelvai', 'dusk', 'puzzle', 'x29', '4.50.', '09065989180', 'stair', '*phews*', 'thangam.it', '1-u', 'relation', '2-u', '3-u', '4-some1', 'luvs', '5+-', 'praying', 'do..', 'recycling', 'twice-', 'earning', 'morning..', 'toledo', 'ding', 'tai', 'feng', 'reservation', 'swimsuit', 'allowed', 'necessary', 'watever', 'shared', 'squeeeeeze', 'hug..', 'lik', 'frndshp', 'back..', 'luvd', 'asks', 'them..', 'volcano', 'erupt', 'arise', 'hurricane', 'sway', 'aroundn', 'disaster', 'lighter', '7pm', 'k..its', 'lasagna', 'chickened', 'messaged', 'woould', '08718726978', 'drove', 'shore', 'deus', '7732584351', '3510i', 'deliveredtomorrow', '300', 'tap', 'spile', 'broad', 'canal', 'engin', 'on-edge', 'raviyog', 'peripheral', 'bhayandar', 'east', 'sunoco', 'howard', 'musical', 'plate', 'leftover', 'starving', 'cooked', 'cheat', 'fatty', 'badrith', 'owe', 'checkin', 'number-so', 't.b*', 'block', 'armenia', 'swann', '09058097189', '09061221066', 'fromm', '330.', '1120', '1205', 'smoking', 'wylie', 'justify', 'ruining', 'comes..', 'hunt', 'in2', '5226', 'hava', '1131', 'rct', 'thnq', 'adrian', 'rgds', 'vatian', 'everyones', 'babysitting', 'gonnamissu', 'buttheres', 'aboutas', 'merememberin', 'asthere', 'ofsi', 'breakin', 'yaxx', 'poortiyagi', 'odalebeku', 'hanumanji', '1-hanuman', '2-bajarangabali', '3-maruti', '4-pavanaputra', '5-sankatmochan', '6-ramaduth', '7-mahaveer', 'janarige', 'ivatte', 'kalisidare', 'olage', 'ondu', 'keluviri', 'maretare', 'inde', 'dodda', 'problum', 'nalli', 'siguviri', 'idu', 'matra', 'true..', 'neglet', 'easily', 'ijust', 'talked', 'opps', 'gei', 'tron', 'selfish', 'spiffing', 'workage', 'craving', 'supose', 'much.i', 'babysit', 'there.xx', 'embassy', 'lightly', 'custom', 'checkboxes', 'sac', 'hundred.he', 'batsman', 'yetty', 'jiayin', '09050000928.', 'pobox45w2tg150p', '*covers', 'kisses*', 'forgotten', 'reverse', 'cheating', 'mathematics', '2waxsto', 'basic', 'emailed', 'yifeng', 'oredi..', 'him..', 'slurp', 'minimum', '3miles', 'ing', 'brainless', 'doll..', 'vehicle', 'sariyag', 'madoke', 'barolla..', '07090201529', 'postponed', 'stocked', 'pa..', 'elaine', 'tiime', 'afternon', 'resizing', '09066364349', 'box434sk38wp150ppm18+', 'opposed', 'drunken', 'billed', 'shortcode', '83332.please', '08081263000', 'refunded.this', 'somerset', 'overtime', 'nigpun', 'dismissial', 'screwd', '08712402972', 'bull', 'floating', 'mess', '09058095201', 'heehee', 'arithmetic', 'percentage', \"'an\", 'chillaxin', 'iknow', 'wellda', 'peril', 'studentfinancial', 'crisis', 'monster', '____', 'obey', 're-send', 'uhhhhrmm', 'enuff', 'gbp/sms', '600', '400', 'deltomorrow', '09066368470', 'e.g', '24m', '1-month', 'smartcall', '68866.', 'subscriptn3gbp/wk', '08448714184', 'landlineonly', 'mths', 'camera/video', 'texts/weekend', 'callback', 'orno', 'fink', '09099726553', 'promised', 'carlie', 'calls£1/minmobsmore', 'lkpobox177hp51fl', 'youphone', 'athome', 'youwanna', 'jack', 'say/ask', 'helpful', 'pretend', 'hypotheticalhuagauahahuagahyuhagga', 'brainy', 'occasion', 'celebrated', 'reflection', 'value', 'desire', 'tradition', 'cantdo', 'anythingtomorrow', 'myparents', 'aretaking', 'outfor', 'katexxx', 'level', 'gate', '89105.', 'wedding', 'lingerie', 'www.bridal.petticoatdreams.co.uk', 'weddingfriend', 'board', 'overheating', 'reslove', 'inst', 'pending', 'western', 'incident..', 'outta', 'notixiquating', 'laxinorficated', 'bambling', 'entropication', 'oblisingately', 'opted', 'masteriastering', 'amplikater', 'fidalfication', 'champlaxigating', 'atrocious..', 'wotz', 'junna', 'knickers', '01223585236', 'nikiyu4.net', 'accident', 'a30', 'divert', 'wadebridge.i', 'k..', 'vill', '1030', 'orc', 'bloomberg', '-message', '+447797706009', '//careers', 'bloomberg.com', 'seeking', 'priscilla', 'sunday..', 'wisdom..', 'frnds..', 'inform', 'period', 'wherre', 'phone750', 'resolution', 'reply.be', 'frank', 'logoff', 'sound..', 'parkin', 'kent', 'vale', 'asa', '09050000878.', 'wan2', 'meet+greet', 'westlife', 'unbreakable', 'untamed', 'unkempt', '1,2', '83049.', '+std', 'prince', 'charming', 'mention', 'served', 'arnt', 'xxxxxxxxxxxxxx', 'dorothy', 'kiefer.com', 'granite', 'strong-buy', 'explosive', '*****up', 'nasdaq', 'symbol', 'cdgt', '5.00', 'per..', 'alle', 'mone', 'eppolum', 'allalo', 'fundamental', 'whoever', '10.1mega', 'pixel', '3optical', '5digital', 'doom', 'noi\\x92m', 'time-hope', 'alrite.have', 'am.x', 'burgundy', 'captaining', 'base', 'placement', 'amrita', 'bpo..', 'nighters', 'persevered', 'regretted', 'wasn\\x92t', 'spouse', 'pmt', 'sumthin', '4give', 'shldxxxx', 'scenario', 'spun-out', 'wrld', 'nytho', 'fonin', '2mwen', 'frmcloud', '09071517866', '150ppmpobox10183bhamb64xe', '10am', 'pounded', '*devouring', 'sea*', 'airtel', 'broadband', 'processed', 'installation', 'tensed', 'coughing', 'warned', 'sprint', 'prolly', 'gower', '\\x91morrow', 'chik', 'filth', '69669.', 'saristar', 'e14', '9yt', '08701752560', '450p', 'stop2', '420', '9061100010', 'wire3.net', '1st4terms', 'mobcudb', 'already..sabarish', 'go..', 'jaya', '09050000460', 'j89', 'box245c2150pm', 'inpersonation', 'flea', 'banneduk', 'it..let', 'highest', '£54', 'maximum', '£71', '83383.', 'taj', 'lesser', 'known', 'mumtaz', 'shahjahan', 'arises', '-the', 'hari-', 'ok..come', 'chat..', '69101.', 'www.rtf.sphosting.com', 'webadres', 'geting', 'incredible', 'o2fwd', '18p/txt', 'ship', 'maturity', 'things..', '*have', 'evening*', 'confirmed', 'passport', 'dat..', 'account..', 'multiply', 'independently', 'showed', 'twin', 'strt', 'ltdhelpdesk', '02085076972', 'equally', 'uneventful', 'pesky', 'cyclist', 'were/are', 'adi', 'entey', 'nattil', 'kittum', 'kavalan', 'hire', 'hitman', '200', '09066660100', '2309', 'cps', 'causing', 'outage', 'conserve', 'voted', 'epi', 'bare', 'bhaskar', 'dubsack', 'individual', 'gong', 'kaypoh..', 'basketball', 'outdoors', 'macho', 'interfued', 'blank', 'listed', 'apology', 'hustle', 'forth', 'audition', 'harlem', 'workout', 'zac', '84199.', 'hui', 'xin', 'lib', 'difference', 'versus', 'edge', 'underdtand', 'it+both', '+cheer', 'up+not', 'muchxxlove', 'locaxx', '07090298926', 're-schedule', 'ref:9307622', 'skateboarding', 'despite', 'thrown', 'bandage', 'my-tone.com/enjoy', 'html', 'gbp4.50/week', 'mfl', '1146', '2/3', 'hectic', 'fell', 'swoop', 'wamma', 'doggin', 'langport', 'virtual', 'senthil', 'apnt', 'pant', 'wait.i', 'out..', 'go2sri', 'lanka', '..not', 'merely', 'relationship', '..its', 'wherevr..', 'whenevr..', 'forevr', 'gudnyt', 'plum', '*smacks', 'ass*', 'alot', 'formatting', 'attracts', 'promotion', '8714714', 'vega', 'lou', 'reply-', 'lancaster', 'couldn\\x92t', 'b\\x92day', 'soc', 'bsn', 'advising', 'lobby', 'texted', 'showered', \"er'ything\", 'vewy', 'lubly', 'rs.5', '087147123779am-7pm', 'luck.2', 'specify', 'domain', 'nusstu', 'habit..', 'bari', 'hudgi', 'yorge', 'pataistha', 'ertini', 'hasbro', 'jump', 'hoop', 'morning.take', 'ummifying', 'networking', 'associate', 'rip', 'uterus', 'pool', 'jacuzzi', 'x49', '09065989182.', 'colour=red', '/colour', 'txtstar', '2nights', 'uve', 'wildest', 'spl..wat', 'whr', 'yet..', 'aldrine', 'rtm', 'here.pls', 'call.urgent', 'unhappiness', 'necesity', 'witout', 'frnd..', 'colleg', 'wth', 'espe', 'irritated', '4wrd', 'dear-loving', 'wthout', 'live..', 'takecare..', 'univ', 'raja', 'burrito', 'co.', 'disconnect', \"'terrorist\", 'confirmd', 'verified', 'cnn', 'ibn', 'stitch', 'trouser', '2/2', '146tf150p', 'cheetos', 'synced', 'shangela', 'hppnss', 'sorrow', 'goodfriend', 'pass', '08704439680.', 'again*loving', 'poo', 'gloucesterroad', 'uup', 'ouch', 'stayed', 'forgiveness', 'fruit', 'stone..', 'glo', '09058095107', 's3xy', 'yes.mum', 'wlcome', 'eaten', 'timi', 'again..', 'mila', 'age23', 'blonde', 'mtalk', '69866.18', '30pp/txt', '5free', 'increment', 'help08718728876', 'fishrman', 'sack', 'ful', 'stone', 'strtd', 'throwin', 'atlast', '1stone', '08717895698', 'mobstorequiz10ppm', 'physic', 'ar.praveesh', 'delicious', 'salad', 'desert', 'whore', 'funk', 'tones2u', '*adoring', 'twinks', 'scallies', 'skin', 'jock', '08712466669', 'nat', 'flood', '.gud', 'bead', 'wishlist', 'section', 'nitro', \"'need\", \"'comfort\", \"'luxury\", 'sold', 'india..', 'onion-rs', 'petrol-rs', 'beer-rs', 'creative', 'fake..my', 'reffering', 'u..if', 'getiing', 'rs..i', 'rs..', 'weirdy', '09061701851.', 'k61', '12hours', 'restrict', 'funeral', '7.30', 'god.not', 'chikku..k', 'irritating', 'vivek..', '74355', 'tnc', 'brah', 'possession', 'greece', 'protect', 'e-threats', 'sib', 'sensitive', 'atm/sms', 'recorded', 'someday', 'grandfather', 'expired..so', 'blu', 'concert', 'november', '09061104276', 'cost£3.75max', 'yuou', 'spot', 'ipad', 'bunch', 'lotto', 'auction..', 'authorise', '6.45pm', 'gimmi', 'pain.it', 'today.do', 'ystrday.ice', 'chile', 'subletting', 'feb-april', 'ammae', '.life', 'steering', 'cuddling..', 'rounder', 'required', 'true..k', 'lambu', 'come..til', 'batchlor', 'zoom', '62220cncl', 'stopcs', '08717890890£1.50', 'cheese', '\\x93harry', '//tms', 'widelive.com/index', 'wml', 'id=1b6a5ecef91ff9*37819', 'first=true18:0430-jul-05', 'xafter', 'cst', 'chg', 'pure', 'hearted', 'his/her', 'enemy..', 'smile..', 'smiley', 'gail', 'worry.c', 'yaxxx', 'theoretically', 'hooked', 'formally.pls', 'praying.will', 'is-', 'multimedia', 'e-mail', 'senthil.hsbc', 'vague', 'accounting', 'delayed', 'housing', 'agency', 'renting', 'nicky', 'gumby', '//alto18.co.uk/wave/wave.asp', 'o=44345', 'sized', 'tarpon', 'cab', 'available.they', 'step', '.take', 'care.umma', 'limited', 'call2optout/hf8', '09061702893.', '08719181259', '26.03.05', 'dear.take', 'radiator', 'proper', 'tongued', 'suddenly', 'flurry', 'melt', 'ground', 'eek', 'born', 'real1', 'pushbutton', 'dontcha', 'babygoodbye', 'golddigger', 'webeburnin', 'perform', 'right..', 'rebooting', 'nigh', 'nooooooo', 'cable', 'playin', 'guoyang', 'rahul', 'dengra', 'antelope', 'toplay', 'fieldof', 'selfindependence', 'contention', 'grow.random', 'gnarl', 'barkley', 'borderline', '545', 'nightnight', 'possibility', 'grooved', 'mising', 'secured', 'unsecured', '195', '6669', 'lanre', 'fakeye', 'eckankar', '3000', '09061743386', 'heater', 'dodgey', 'call2optout/674', 'seing', 'asssssholeeee', 'rate..', 'ceri', 'rebel', 'dreamz', 'ringtoneking', '84484', 'nationwide', 'newport', 'juliana', 'nacho', 'eta', 'dizzamn', 'suitemates', 'nimbomsons', 'continent', 'housewife', '0871750.77.11', 'bt-national', '£400', '087104711148', 'emerging', 'fiend/make', 'much/impede', 'hesitant', 'dey.i', '60,400thousad.i', 'nose', 'essay', 'tram', 'vic', 'coherently', 'triple', 'echo', 'gran', 'onlyfound', 'afew', 'ago.cusoon', 'honi', 'dial', 'bx526', 'university', 'southern', 'california', 'rayan', 'macleran', 'ball', 'olave', 'mandara', 'trishul', 'woo', 'hoo', 'panty', 'thout', '09066364311', 'flatter', 'pint', 'carlin', 'literally', 'ciao', 'x49.your', '09065989182', 'starve', 'impression', 'motivate', 'darkness', 'time.you', 'wknd', 'yalrigu', 'heltini..iyo', 'kothi', 'me..so', 'uttered', 'trusting', 'others..', 'me..ok', 'noice', 'esaplanade', 'accessible', '08709501522', '139', 'la3', '2wu', '£1.50/week', 'occurs', 'prof', 'sem', 'enna', 'kalaachutaarama..', 'coco', 'sporadically', '09064017305', 'pobox75ldns7', 'tbs/persolvo', 'for£38', 'kath', 'manchester', 'you\\x92re', 'burden', 'noworriesloans.com', '08717111821', 'actual', 'harder', 'nbme', 'sickness', 'villa', 'sathya', 'gam', 'smash', 'religiously', 'feb.', 'tip', '07973788240', '08715203649', 'dealing', 'muhommad', 'fiting', 'unconvinced', 'elaborate', 'willpower', 'absence', 'answerin', 'reasonable', 'evey', 'mnth', 'prin', '…thanks', 'gsoh', 'spam', 'gigolo', 'oncall', 'mjzgroup', '08714342399.2stop', '£1.50rcvd', 'ashwini', '08707500020', 'tomorrow/today', 'ukp', '09061790125', 'thet', 'skinny', 'casting', 'election', '116', 'hlday', 'camp', 'amrca', 'serena', 'prescribed', 'kappa', 'meatball', 'approve', 'panalam', 'posts..', 'spjanuary', 'fortune', 'allday', 'piss', 'perf', 'outsider', 'receipts—well', '98321561', 'familiar', 'depression', 'ones..', 'infact', 'simpson', 'band', 'a-green', 'b-blue', 'c-red', 'can\\x92t', 'isn\\x92t', 'shite', 'kip', 'hont', 'amanda', 'renewing', 'upgrading', '3680', 'subject', 'perspective', 'conveying', 'reason..', 'debating', '//www.wtlp.co.uk/text', 'guessing', 'florida', 'wisdom', 'hidden', 'royal', 'tog', 'swhrt', '2day.love', 'miss.take', '0906346330.', 'po19', '2ez', 'general', '/oz', 'if/when/how', 'value-morning', 'today.good', 'jetton', 'friend-of-a-friend', 'cmon', '*turn*', 'sticky', 'lunsford', 'enjoying', '0796xxxxxx', 'prizeawaiting', 'first..', 'kfc', 'gravy', 'da..always', 'message.pandy', '07008009200', 'attended', 'tuth', 'eviction', 'spiral', 'michael', 'riddance', 'suffers', 'raglan', 'edward', 'cricket', 'closeby', 'da..please', 'skye', 'bookedthe', 'hut', 'drastic', 'indicate', '3750', 'garment', 'sez', 'arab', 'evry1', 'eshxxxxxxxxxxx', 'bimbo', 'ugo', '2-4-1', '3lions', 'portege', 'm100', 'semiobscure', '69669', 'gprs', 'repeat', 'loosu', 'careless', 'freaking', 'myspace', 'logged', 'method', 'calculation', 'blur', 'clothes', 'jewelry', 'breaker', 'deluxe', 'feature', 'graphic', 'bbdeluxe', 'lush', 'fumbling', '2find', 'taunton', 'weekday', 'haiz', 'nail', 'common', 'asia', 'greatest', 'courage', 'defeat', '.gn', 'stil', 'fucked', 'tobed', '430', 'pimple', 'natalja', '25/f', 'yes-440', 'no-440', 'www.sms.ac/u/nat27081980', 'asthma', 'attack', 'moving', 'lot.will', 'spin', 'haiyoh', 'prsn', 'somtimes', 'relation..', 'sunlight', 'loss', 'audiitions', 'relocate', 'pocked', 'motivating', 'sharing', 'brison', 'spelled', 'cap', 'bullshit', 'g.w.r', 'motherfucker', 'kit', '1013', 'ig11', 'oja', '08712402578', 'thesmszone.com', 'anonymous', 'masked', 'messages..im', 'there..do', 'abuse', 'woodland', 'avenue', 'parish', 'magazine', 'billy', 'jogging', 'awww', 'useless', 'loo', 'hello-ed', 'swollen', 'gland', 'previous', 'captain', 'bcaz', 'stu', '2.im', 'truble', 'evone', 'mokka', 'view', 'dual', 'hostile', 'haircut', 'breezy', '09061744553', 'polyh', '1apple/day=no', '1tulsi', 'leaf/day=no', '1lemon/day=no', '1cup', 'milk/day=no', 'bone', 'problms', 'litre', 'watr/day=no', 'disease', 'snd', 'care..', 'lavender', 'manky', 'scouse', 'steve', 'travelling', 'home.wot', 'inmind', 'recreation', 'epsilon', 'mesages', 'judgemental', 'waheeda', 'half-8th', 'bot', 'eventually', 'tolerance', '0789xxxxxxx', 'hellogorgeous', 'lst', 'nitw', 'texd', 'hopeu', '4ward', 'c-in', 'jaz', '09058091870', 'exorcism', 'emily', 'evry', 'emotion', 'words.evry', 'prayrs..', 'u.othrwise', 'u.so', 'ujhhhhhhh', 'sandiago', 'parantella', 'hugging', 'sweater', 'mango', 'massive', 'involved', '£600', 'landmark', 'bob', 'barry', '83738.', 'fine..absolutly', 'consent', 'tonexs', 'renewed', 'www.clubzed.co.uk', '*billing', 'www.t-c.biz', 'polo', '373', 'w1j', '6hl', 'mathews', 'tait', 'anderson', 'haunt', 'promoting', 'hex', '.by', 'crowd', '8000930705', 'snowboarding', 'go..a', 'christmassy', 'recpt', '1/3', 'baaaaaaaabe', 'ignoring', 'shola', 'academic', 'sagamu', 'lautech', 'vital', 'completes', 'education', 'zealand', 'qet', 'other..', 'browser', 'surf', 'g.b', 'well.you', 'life.you', 'convinced', 'that.i', 'conversation', 'us.get', 'time.your', 'senses.respect', 'overemphasise.or', 'headset', 'adp', 'internal', 'extract', 'god.you', 'immed', 'skint', 'fancied', 'bevies.waz', 'othrs', 'watchng', 'planet', 'comfey', 'quitting', 'least5times', 'coast', \"i'ma\", 'frequently', 'message.it', 'cupboard', 'route', '2mro', 'floppy', 'snappy', 'grasp', 'flavour', 'laready', 'denying', 'dom', 'ffffuuuuuuu', 'julianaland', 'oblivious', 'dehydrated', 'mapquest', 'dogwood', 'tiny', 'parking', 'suppose', 'archive', 'uk-mobile-date', '08719839835.', '89123', 'behalf', 'stunning', 'visa', 'gucci', 'babe.sozi', 'culdnt', 'talkbut', 'wannatell', 'wenwecan', 'smsing', 'efficient', 'explicit', '02073162414', '20p/min', '5.15pm', 'erutupalam', 'thandiyachu', 'invention', 'fly..i', 'joking.', 'no..its', 'lyrics..', 'nevr', 'unrecognized', 'somone', 'valuing', 'definitly', 'undrstnd', 'ger', 'toking', 'syd', 'khelate', 'kintu', 'opponenter', 'dhorte', 'lage', 'fried', 'looovvve', 'warwick', 'tmw', 'canceled', 'sometime', 'parade', '+£400', 'proze', 'norcorp', 'ltd.£1,50/mtmsgrcvd18+', 'posting', '7cfca1a', 'grumble', 'linear', 'algebra', 'decorating', 'wining', '946', 'roomate', 'graduated', 'adjustable', 'cooperative', 'allows', 'nottingham', '63miles', '40mph', 'clearly', 'mornin..', 'thanku', 'same..', 'part..', 'guessed', '89938', 'string', '£1.50ea', 'otbox', '731', 'la1', '7ws', 'gain', 'beside', 'brisk', 'sexiest', 'dirtiest', '89070', 'tellmiss', 'contribute', 'greatly', 'urgh', 'coach', 'duvet', 'predictive', 'w8in', '4utxt', '24th', 'sept.', 'beverage', 'v.pist', 'surrender', 'symptom', '1.u', '2.u', '3.u', 'rdy', 'realise', 'backwards', 'abstract', 'vikky..i', 'africa', 'avin', 'chit-chat', 'logon', '8883', '4217', 'w1a', '6zf', '118p/msg', 'quiteamuzing', 'that\\x92scool', 'probpop', 'satthen', '4brekkie', 'psxtra', 'lrg', 'portion', '£1000call', '09071512432', '300603t', 'csbcm4235wc1n3xx.callcost150ppmmobilesvary', 'mnths', '.my', 'engagement', 'fixd', '.hmm', 'njan', 'vilikkam', 'sudn', 'chapter', 'chop', 'noooooooo', '09065171142-stopsms-08718727870150ppm', 'firsg', 'split', 'wasnt', 'heat', 'applyed', 'sumfing', '86888', 'subscribe6gbp/mnth', '3hrs', 'txtstop', 'hopeso', 'amnow', 'ithink', 'tonsolitusaswell', 'layin', 'bedreal', 'lotsof', 'hiphop', 'managed', 'oxygen', 'resort', 'roller', '4.30', 'recorder', 'canname', 'capital', 'australia', 'mquiz', '82277.', 'showr', 'acted', 'upon', 'ceiling', 'presnts', 'bcz', 'jeevithathile', 'irulinae', 'neekunna', 'prakasamanu', 'sneham', 'prakasam', 'ennal', 'prabha', \"'that\", \"is'love\", 'blowing', '7634', '7684', 'firmware', 'vijaykanth', 'comedy', 'tv..he', 'anythiing', 'ripped', 'www.clubmoby.com', '08717509990', 'poly/true/pix/ringtones/games', 'keypad', 'btwn', 'hands..', 'happened..', 'decades..', 'goverment', 'expects', 'loyal', '09066380611', 'spice', 'prasanth', 'ettans', '08718738002', '48922', '21/11/04', 'appy', 'fizz', 'contains', 'genus', 'robinson', 'not..tel', 'name..', 'print', 'out', 'soz', 'imat', 'freinds', 'msg..sometext', '07099833605', 'ref:9280114', 'smth..', 'chloe', '150p/text', 'wewa', '130.', 'iriver', '255.', '128', 'da..jst', 'hmmm.but', 'surly', '07808726822', '0871-872-9758', 'dokey', 'mmmmmmm', '*snuggles', 'you*', 'contented', '*whispers*', 'healthy', '2bold', 'giv..its', 'kano..anyway', 'salary..', 'scraped', 'barrel', 'misfit', 'ü..', 'sleepin', 'clearer..', 'peach', 'tasts', 'rayman', 'golf', 'activ8', 'termsapply', 'minor', 'shindig', 'mins/texts', 'phonebook', 'rocking', 'ash', 'shijutta', 'offense', 'bbd..thts', 'dvg', 'cold..heard', 'vinobanagar', 'condition..and', 'ovulate.when', '3wks', 'woah', 'realising', 'orh', 'second..', 'soon.xxx', 'cool-mob', 'frog-axel', 'akon-lonely', 'eyed-dont', 'cashbin.co.uk', 'www.cashbin.co.uk', 'these..', 'canteen', 'stressfull..', 'laugh..', 'ni8..swt', 'continued', 'president', '140', '180', 'bedrm', 'pleasured', 'support.providing', 'assistance', 'whens', '1172.', 'built', 'lonlines', 'lotz', 'feeling..', 'gailxx', 'hi..i', 'complacent', 'denis', 'mina', 'miwa', 'hsbc', 'woulda', '-call', '09066649731from', 'mth', 'opposite', 'heavily', 'doll', 'patrick', 'swayze', '09061702893', 'santa', '09077818151', 'calls1.50ppm', 'www.santacalling.com', 'miserable', 'quarter', 'nervous', 'fired', 'limping', '078498****7', '08719180219', '06.05.05', 'oga', 'poorly', 'punishment', 'brb', 'predicte', 'first-', 'second-', 'loosing', 'smaller', 'capacity', 'sms.shsex.netun', 'fgkslpopw', 'fgkslpo', '0871277810710p/min', 'defer', 'admission', 'checkmate', 'chess', 'persian', 'phrase', 'shah', 'maat', 'dead..', 'goodmorning..', 'rat', 'theme', 'pee', 'week+', '.photoshop', 'manageable', '08715203652', '42810', '29/10/0', 'shoppin', 'too.pray', 'inshah', 's.this', 'increase', 'wife.dont', 'it.i', 'too.lets', 'north', 'carolina', 'texas', 'gre', 'bomb', 'breathing', 'powerful', 'weapon', \"'heart\", 'night..swt', 'dreams..take', 'lovly..', '**free', 'message**thanks', '150p/msgrcvd', 'customercare', '08718726270', 'play..i', 'clas..', 'lit', 'loooooool', 'couch', 'swashbuckling', '5.terror', '6.cruel', '7.romantic', '8.lovable', '9.decent', '.joker', 'dip', 'gek1510', 'nuther', 'lyricalladie', '21/f', 'yes-910', 'no-910', 'www.sms.ac/u/hmmross', 'happiest', 'when/where', 'antibiotic', 'abdomen', 'gynae', 'infection', '6times', 'exposed', 'chastity', 'device', 'beating', 'gut', 'wrenching', 'tallahassee', 'taka', 'free*', 'pobox202', 'nr31', '7zs', '450pw', \"*didn't*\", 'ritten', 'fold', 'etc.', 'warner', '83118', 'colin', 'farrell', 'swat', 'msg+ticket', 'kiosk.valid', '4-7/12', 'kiosk', 'mre', 'solihull', 'mistake.u', 'born.please', 'terminated.we', 'inconvenience', 'henry', 'yard', 'bergkamp', 'margin', \"it'snot\", 'unintentional', 'nonetheless', 'hooch', 'toaday', 'splat', 'grazed', 'knee', 'confirm/deny', 'hearin', 'yah', 'torture', 'hopeing', 'sexychat', 'started.india', 'k..k.', 'court', 'chapel', 'frontierville', 'mountain', 'deer', 'mail.i', 'mailed', 'varma', 'membership.take', 'care.insha', 'secure', 'farting', '7:30', 'ortxt', 'select', 'trained', 'advisor', 'dialling', '402', 'woot', 'stuffing', 'ahhhh', 'vivek', '9-6', 'dining', 'experiencehttp', '//www.vouch4me.com/etlp/dining.asp', 'kaila', '09058094507', 'donate', '£2.50', 'unicef', 'asian', 'fund', '864233', 'cme', 'collapsed', 'cumming', 'jade', 'paul', 'barmed', 'thinkthis', 'dangerous', 'goldviking', '29/m', 'yes-762', 'no-762', 'www.sms.ac/u/goldviking', 'rushing', 'coulda', 'phony', '12:30', 'okday', '-xx', 'buz', 'wedlunch', 'outsomewhere', 'adrink', 'town..cud', '2watershd', 'fromwrk', 'bthere', 'petexxx', 'hmph', 'baller', 'punto', 'ayo', 'travelled', '£125', 'freeentry', 'toyota', 'camry', 'olayiwola', 'mileage', 'k.its', 'landing', 'clover', 'number.pls', 'id.convey', 'achan', 'amma.rakhesh.qatar', \"'rencontre\", '08714712412', 'nìte', 'puppy', 'noise', 'sarasota', '150p/meg', '08715203685', 'code:4xx26', '13/10/04', 'crossing', 'deepest', 'darkest', '09094646631', 'inconvenient', 'vl..do', 'adsense', 'approved..', 'dudette', 'perumbavoor', 'stage', 'cherish', 'clarify', 'preponed', 'natalie', '20/f', 'yes-165', 'no-165', 'www.sms.ac/u/natalie2k9', 'younger', 'wallpaper', '08701213186', 'desires-', 'liver', 'hmmm.still', 'opener', 'watched', 'loneliness', 'skyving', 'onwords', 'mtnl', 'mumbai', '83039', '62735=£450', 'accommodationvouchers', 'mustprovide', '15541', 'number..', 'rajitha', 'ranju', '88039.', 'tscs08714740323', '1winawk', '£1.50perweeksub', 'dear..slp', 'well..take', 'care..swt', 'dreams..muah..', '09066361921', 'disagreeable', 'afterwards', \"b'coz\", 'battle', '-vivekanand-', '9t..', 'sd..', 'uawake', 'feellikw', 'shit.justfound', 'aletter', 'thatmum', 'gotmarried', '4thnov.behind', 'ourbacks', 'fuckinnice', 'deviousbitch.anyway', 'i\\x92l', 'rearrange', 'dormitory', 'astronomer', 'starer', 'recount', 'mother-in-law', 'hitler', 'eleven', '=twelve', 'worm', 'suffering', 'dysentry', '..will', 'andre', 'virgil', 'gokila', 'shanil', 'here.thanks', 'exchanged', 'uncut', 'stuff.leaving', 'dino', 'k.k.this', 'kotees', 'panther', 'sugababes', 'zebra', 'badass', 'hoody', 'wallpaper-all', '-tho', 'resent', 'query', 'customersqueries', 'netvision.uk.com', 'hassling', 'andres', 'haughaighgtujhyguj', 'fassyole', 'blacko', 'londn', '4eva', '08715205273', 'vco', 'humanity', 'reassurance', 'aslamalaikkum', '.insha', 'tohar', 'beeen', 'muht', 'albi', 'mufti', 'mahfuuz', '078', 'enufcredeit', 'tocall.shall', 'ileave', '+get', 'okors', 'ibored', 'adding', 'zero', 'saving', 'goigng', 'perfume', 'sday', 'joined.so', 'grocer', 'frankie', 'benny', 'changing', 'diaper', 'owed', 'unlike', 'patient', 'turkey', 'unintentionally', 'garden', 'bulb', 'seed', '£33:50', 'scotsman', 'go2', 'notxt.co.uk', 'k..then', 'wenever', 'stability', 'tranquility', 'vibrant', 'colourful', 'bawling', 'failure', 'failing', 'velusamy', 'facility', 'karnan', 'bluray', 'salt', 'wound', 'logging', 'geoenvironmental', 'implication', 'fuuuuck', 'salmon', 'uploaded', 'wrkin', 'ree', 'compensation', 'awkward', 'splash', 'better..', 'musta', 'overdid', 'www.telediscount.co.uk', 'hi.what', 'gastroenteritis', 'replace', 'reduce', 'limiting', 'illness', 'k.k.how', 'foned', 'chuck', 'port', 'juswoke', 'boatin', 'spinout', 're-met', '08715203656', '42049', '26/10/04', 'uworld', 'qbank', 'assessment', 'someonone', '09064015307', 'tke', 'temales', 'vid..not', 'finishd..', '09061213237', '177', 'm227xy', 'dull', 'anyones', 'treadmill', 'craigslist', 'absolutely', 'ni8.swt', 'drms.take', 'swan', 'mo..yep', 'sall', 'hehe', 'shexy', 'asap.ok', 'hello.how', 'lamp', 'k.wish', 'foward', 'friendship..', '09061790126', '*childish', 'misundrstud', '2u2', '177.', 'gene', 'www.ldew.com1win150ppmx3age16subscription', 'resuming', 'reapply', 'treatin', 'treacle', 'mumhas', 'beendropping', 'theplace', 'adress', '7.30.', '..i', '.so', 'money.i', 'favorite', 'oyster', 'sashimi', 'rumbling', 'marandratha', 'topic', 'correctly', 'alaikkum.pride', 'shop.we', 'qatar.rakhesh', 'indian.pls', 'number.respectful', 'gal-can', 'boy-y', 'gal-no', 'heaven', 'prince..gn', 'pisces', 'aquarius', '2yrs', 'steyn', 'wicket', 'sterm', 'resolved', 'jam', 'hannaford', 'wheat', 'chex', 'pride', 'grownup', 'jerk', 'stink', 'textcomp', 'follows', 'subsequent', '150p/msg.2', 'upcharge', '8-hr', 'guai', 'bottle', 'amused', 'astrology', 'slacking', 'office..still', 'forms.don', 'mentor', 'percent', '09095350301', 'erotic', 'ecstacy', 'dept', '13/4/04', '08717507382', 'coincidence', 'sane', 'helping', 'leading', '151.', 'pause', 'gr8prizes', '8800', 'psp', 'wk.txt', '80878', 'http//www.gr8prizes.com', 'spacebucks', '0207-083-6089', 'squeezed', 'me.remove', 'maintaining', '5.i\\x92m', 'dreading', 'thou', 'suggestion', 'forgt', 'ajith', 'ooooooh', 'yoville', 'mega', 'asda', 'officer', 'respectful', 'bffs', 'carly', '.that', 'seperated', '〨ud', 'brolly', 'franxx', 'prometazine', 'syrup', '5mls', 'feed', 'shu', 'singapore', 'victoria', 'pocay', 'wocay', '2morrowxxxx', 'broth', 'ramen', 'fowler', 'k..sry', 'siva..tats', 'askd..', 'flew', '09058094583', '15:26', 'pub/cafe', 'attention', 'tix', 'fne', 'youdoing', 'worc', 'foregate', 'shrub', 'get4an18th', '32000', 'legitimat', 'efreefone', 'pendent', 'toilet', 'stolen', 'cop', 'navigate', 'choosing', 'require', 'guidance', 'chick', 'boob', 'revealing', 'sparkling', '0121', '2025050', 'www.shortbreaks.org.uk', 'gyno', 'belong', 'www.gamb.tv', 'treasure', 'http//tms', 'id=820554ad0a1705572711', 'first=true¡c', 'ringtone¡', '09050000332', 'positive', 'negative', 'hmmmm', 'dhoni', 'title.so', 'command', 'stressful', 'holby', '09064017295', 'lecturer', 'repeating', 'yeovil', 'motor', 'max', 'rhode', 'bong', 'ofcourse', '08448350055', 'planettalkinstant.com', 'lot..i', 'marvel', 'ultimate', 'spider-man', 'spider', '83338', '8ball', 'tamilnadu..then', '07808247860', '08719899229', '40411', '06/11/04', 'identification', 'boundary', 'endless', 'reassuring', 'young', 'referin', 'difference..', 'smiling..', 'saibaba', 'colany', 'chic', 'declare', '49557', '26/11/04', 'disappointment', 'irritation', 'tantrum', 'compliment', 'adventuring', 'chief', 'gsex', '2667', 'wc1n', '3xx', '3mobile', 'chatlines', 'inclu', 'servs', 'l8er', 'bailiff', 'mouse', 'desk', 'childporn', 'jumper', 'hat', 'belt', 'cribbs', 'spiritual', 'barring', 'sudden', 'influx', 'kane', 'shud', 'pshew', 'unit', 'accent', '4years', 'dental', 'nmde', 'dump', 'heap', 'lowes', 'salesman', '2.50', '£750', '087187272008', 'now1', 'pity', 'bitching'])"
      ]
     },
     "execution_count": 40,
     "metadata": {},
     "output_type": "execute_result"
    }
   ],
   "source": [
    "word_features"
   ]
  },
  {
   "cell_type": "code",
   "execution_count": 2,
   "metadata": {},
   "outputs": [
    {
     "data": {
      "text/plain": [
       "['This', 'is', 'a', 'test', 'sentence']"
      ]
     },
     "execution_count": 2,
     "metadata": {},
     "output_type": "execute_result"
    }
   ],
   "source": [
    "s1 = \"This is a test sentence\"\n",
    "l_words = s1.split()\n",
    "l_words"
   ]
  },
  {
   "cell_type": "code",
   "execution_count": 6,
   "metadata": {},
   "outputs": [],
   "source": [
    "from nltk.corpus import stopwords\n",
    "\n",
    "stops = stopwords.words(\"english\")"
   ]
  },
  {
   "cell_type": "code",
   "execution_count": 13,
   "metadata": {},
   "outputs": [
    {
     "data": {
      "text/plain": [
       "['This', 'test', 'sentence']"
      ]
     },
     "execution_count": 13,
     "metadata": {},
     "output_type": "execute_result"
    }
   ],
   "source": [
    "good = [word for word in l_words if word not in stops]\n",
    "good"
   ]
  },
  {
   "cell_type": "code",
   "execution_count": 17,
   "metadata": {},
   "outputs": [],
   "source": [
    "g1 = \" \".join(good)"
   ]
  },
  {
   "cell_type": "code",
   "execution_count": 19,
   "metadata": {},
   "outputs": [
    {
     "name": "stdout",
     "output_type": "stream",
     "text": [
      "['This', 'test', 'sentence']\n"
     ]
    },
    {
     "data": {
      "text/plain": [
       "'This test sentence'"
      ]
     },
     "execution_count": 19,
     "metadata": {},
     "output_type": "execute_result"
    }
   ],
   "source": [
    "print(good)\n",
    "g1"
   ]
  },
  {
   "cell_type": "code",
   "execution_count": 33,
   "metadata": {},
   "outputs": [],
   "source": [
    "import re\n",
    "s1 = \"I am singing and dancing eating and playing not nddd\""
   ]
  },
  {
   "cell_type": "code",
   "execution_count": 45,
   "metadata": {},
   "outputs": [],
   "source": [
    "f1 = re.search(\"\\w*ing\",s1)"
   ]
  },
  {
   "cell_type": "code",
   "execution_count": 46,
   "metadata": {},
   "outputs": [
    {
     "data": {
      "text/plain": [
       "'singing'"
      ]
     },
     "execution_count": 46,
     "metadata": {},
     "output_type": "execute_result"
    }
   ],
   "source": [
    "f1.group()"
   ]
  },
  {
   "cell_type": "code",
   "execution_count": 47,
   "metadata": {},
   "outputs": [],
   "source": [
    "s1 = \"soumyaiter@gmail.in and sikumishra@yahoo.com is my email id \""
   ]
  },
  {
   "cell_type": "code",
   "execution_count": 51,
   "metadata": {},
   "outputs": [
    {
     "data": {
      "text/plain": [
       "['soumyaiter@gmail.in', 'sikumishra@yahoo.com']"
      ]
     },
     "execution_count": 51,
     "metadata": {},
     "output_type": "execute_result"
    }
   ],
   "source": [
    "re.findall(\"\\w+@\\w+.\\w{2,3}\",s1)"
   ]
  },
  {
   "cell_type": "code",
   "execution_count": null,
   "metadata": {},
   "outputs": [],
   "source": []
  }
 ],
 "metadata": {
  "kernelspec": {
   "display_name": "Python 3",
   "language": "python",
   "name": "python3"
  },
  "language_info": {
   "codemirror_mode": {
    "name": "ipython",
    "version": 3
   },
   "file_extension": ".py",
   "mimetype": "text/x-python",
   "name": "python",
   "nbconvert_exporter": "python",
   "pygments_lexer": "ipython3",
   "version": "3.7.6"
  }
 },
 "nbformat": 4,
 "nbformat_minor": 4
}
