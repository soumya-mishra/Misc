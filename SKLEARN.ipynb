{
 "cells": [
  {
   "cell_type": "code",
   "execution_count": 1,
   "metadata": {},
   "outputs": [
    {
     "name": "stdout",
     "output_type": "stream",
     "text": [
      "Requirement already satisfied: pydotplus in c:\\users\\i324158\\anaconda3\\lib\\site-packages (2.0.2)\n",
      "Requirement already satisfied: pyparsing>=2.0.1 in c:\\users\\i324158\\anaconda3\\lib\\site-packages (from pydotplus) (2.4.6)\n"
     ]
    }
   ],
   "source": [
    "!pip install pydotplus"
   ]
  },
  {
   "cell_type": "code",
   "execution_count": 1,
   "metadata": {},
   "outputs": [],
   "source": [
    "import numpy as np\n",
    "import pandas as pd\n",
    "import seaborn as sns\n",
    "import matplotlib.pyplot as plt\n",
    "import warnings\n",
    "warnings.filterwarnings(action = \"ignore\")"
   ]
  },
  {
   "cell_type": "code",
   "execution_count": 2,
   "metadata": {},
   "outputs": [
    {
     "data": {
      "text/plain": [
       "array([[ 3., -1., -1.],\n",
       "       [-4.,  2.,  1.],\n",
       "       [-1.,  0.,  1.]])"
      ]
     },
     "execution_count": 2,
     "metadata": {},
     "output_type": "execute_result"
    }
   ],
   "source": [
    "a=[[2,1,1],[3,2,1],[2,1,2]]\n",
    "a = np.array(a)\n",
    "np.linalg.inv(a)"
   ]
  },
  {
   "cell_type": "code",
   "execution_count": 3,
   "metadata": {},
   "outputs": [],
   "source": [
    "data = pd.read_csv(r\"C:\\Users\\I324158\\OneDrive - SAP SE\\Machine Learning\\Dataset\\IIITB Data\\Lending_club\\CleanData.csv\")"
   ]
  },
  {
   "cell_type": "code",
   "execution_count": 4,
   "metadata": {},
   "outputs": [
    {
     "data": {
      "text/plain": [
       "array(['Charged Off', 'Fully Paid', 'Current'], dtype=object)"
      ]
     },
     "execution_count": 4,
     "metadata": {},
     "output_type": "execute_result"
    }
   ],
   "source": [
    "data.head()\n",
    "data.loan_status.unique()\n"
   ]
  },
  {
   "cell_type": "code",
   "execution_count": 5,
   "metadata": {},
   "outputs": [],
   "source": [
    "partial_data = data.iloc[:,[1,2,3,4,6,15]]"
   ]
  },
  {
   "cell_type": "code",
   "execution_count": 6,
   "metadata": {
    "scrolled": true
   },
   "outputs": [
    {
     "name": "stdout",
     "output_type": "stream",
     "text": [
      "<class 'pandas.core.frame.DataFrame'>\n",
      "RangeIndex: 37096 entries, 0 to 37095\n",
      "Data columns (total 6 columns):\n",
      " #   Column           Non-Null Count  Dtype  \n",
      "---  ------           --------------  -----  \n",
      " 0   loan_amnt        37096 non-null  int64  \n",
      " 1   funded_amnt      37096 non-null  int64  \n",
      " 2   funded_amnt_inv  37096 non-null  float64\n",
      " 3   term             37096 non-null  int64  \n",
      " 4   installment      37096 non-null  float64\n",
      " 5   loan_status      37096 non-null  object \n",
      "dtypes: float64(2), int64(3), object(1)\n",
      "memory usage: 1.7+ MB\n"
     ]
    }
   ],
   "source": [
    "partial_data.info()"
   ]
  },
  {
   "cell_type": "markdown",
   "metadata": {},
   "source": [
    "## One Hot Encoding and LabelEncoder"
   ]
  },
  {
   "cell_type": "code",
   "execution_count": 7,
   "metadata": {},
   "outputs": [],
   "source": [
    "# from sklearn.preprocessing import OneHotEncoder\n",
    "# o1 = OneHotEncoder(drop='first',sparse=False) # must use sprace and False.Then create DataFrame and concat\n",
    "# temp1 = o1.fit_transform(partial_data[[\"loan_status\"]])\n",
    "# print(o1.categories_)\n",
    "# type(temp1)\n",
    "# print(temp1)\n",
    "# pd.concat([partial_data,temp1],axis=1)\n"
   ]
  },
  {
   "cell_type": "code",
   "execution_count": 8,
   "metadata": {},
   "outputs": [],
   "source": [
    "# pd.concat([partial_data,pd.DataFrame(temp1)],axis=1)\n"
   ]
  },
  {
   "cell_type": "code",
   "execution_count": 9,
   "metadata": {},
   "outputs": [],
   "source": [
    "# from sklearn.preprocessing import LabelEncoder\n",
    "# l1 = LabelEncoder()\n",
    "# partial_data[\"loan_status\"] = l1.fit_transform(partial_data[\"loan_status\"])\n",
    "# l1.classes_\n",
    "# partial_data[\"loan_status\"].head()"
   ]
  },
  {
   "cell_type": "code",
   "execution_count": 10,
   "metadata": {
    "scrolled": true
   },
   "outputs": [],
   "source": [
    "partial_data[\"loan_status\"] = partial_data[\"loan_status\"].map({'Charged Off':1,'Fully Paid':0,'Current':-1})"
   ]
  },
  {
   "cell_type": "code",
   "execution_count": 11,
   "metadata": {
    "scrolled": false
   },
   "outputs": [
    {
     "name": "stdout",
     "output_type": "stream",
     "text": [
      "<class 'pandas.core.frame.DataFrame'>\n",
      "RangeIndex: 37096 entries, 0 to 37095\n",
      "Data columns (total 6 columns):\n",
      " #   Column           Non-Null Count  Dtype  \n",
      "---  ------           --------------  -----  \n",
      " 0   loan_amnt        37096 non-null  int64  \n",
      " 1   funded_amnt      37096 non-null  int64  \n",
      " 2   funded_amnt_inv  37096 non-null  float64\n",
      " 3   term             37096 non-null  int64  \n",
      " 4   installment      37096 non-null  float64\n",
      " 5   loan_status      37096 non-null  int64  \n",
      "dtypes: float64(2), int64(4)\n",
      "memory usage: 1.7 MB\n"
     ]
    }
   ],
   "source": [
    "partial_data.info()"
   ]
  },
  {
   "cell_type": "code",
   "execution_count": 12,
   "metadata": {},
   "outputs": [
    {
     "data": {
      "text/plain": [
       "array([[   0., 7500.,  500., ...,    0., 6000., 5000.],\n",
       "       [7500.,    0., 7000., ..., 7500., 1500., 2500.],\n",
       "       [ 500., 7000.,    0., ...,  500., 5500., 4500.],\n",
       "       ...,\n",
       "       [   0., 7500.,  500., ...,    0., 6000., 5000.],\n",
       "       [6000., 1500., 5500., ..., 6000.,    0., 1000.],\n",
       "       [5000., 2500., 4500., ..., 5000., 1000.,    0.]])"
      ]
     },
     "execution_count": 12,
     "metadata": {},
     "output_type": "execute_result"
    }
   ],
   "source": [
    "from sklearn.metrics import pairwise_distances\n",
    "pairwise_distances(partial_data[[\"loan_amnt\"]],partial_data[[\"funded_amnt\"]])"
   ]
  },
  {
   "cell_type": "code",
   "execution_count": 13,
   "metadata": {},
   "outputs": [],
   "source": [
    "X = partial_data.iloc[:,:5]\n",
    "y = partial_data.pop('loan_status')"
   ]
  },
  {
   "cell_type": "code",
   "execution_count": 14,
   "metadata": {},
   "outputs": [
    {
     "data": {
      "text/plain": [
       "0    1\n",
       "1    0\n",
       "2   -1\n",
       "3    0\n",
       "4    0\n",
       "Name: loan_status, dtype: int64"
      ]
     },
     "execution_count": 14,
     "metadata": {},
     "output_type": "execute_result"
    }
   ],
   "source": [
    "# X.head()\n",
    "y.head()"
   ]
  },
  {
   "cell_type": "code",
   "execution_count": 15,
   "metadata": {},
   "outputs": [],
   "source": [
    "from sklearn.model_selection import train_test_split\n",
    "X_train,X_test,y_train,y_test = train_test_split(X,y,test_size=.2,random_state=50)"
   ]
  },
  {
   "cell_type": "code",
   "execution_count": 16,
   "metadata": {},
   "outputs": [],
   "source": [
    "from sklearn.linear_model import LinearRegression"
   ]
  },
  {
   "cell_type": "code",
   "execution_count": 17,
   "metadata": {},
   "outputs": [],
   "source": [
    "lr_model = LinearRegression()"
   ]
  },
  {
   "cell_type": "code",
   "execution_count": 18,
   "metadata": {},
   "outputs": [],
   "source": [
    "reg = lr_model.fit(X_train,y_train)"
   ]
  },
  {
   "cell_type": "code",
   "execution_count": 19,
   "metadata": {},
   "outputs": [
    {
     "data": {
      "text/plain": [
       "array([ 3.20591494e-06, -1.56691836e-05, -1.43473246e-05,  5.02816515e-03,\n",
       "        8.22032844e-04])"
      ]
     },
     "execution_count": 19,
     "metadata": {},
     "output_type": "execute_result"
    }
   ],
   "source": [
    "reg.coef_"
   ]
  },
  {
   "cell_type": "code",
   "execution_count": 20,
   "metadata": {},
   "outputs": [
    {
     "data": {
      "text/plain": [
       "0.012402576397848475"
      ]
     },
     "execution_count": 20,
     "metadata": {},
     "output_type": "execute_result"
    }
   ],
   "source": [
    "reg.score(X_train,y_train)"
   ]
  },
  {
   "cell_type": "code",
   "execution_count": 21,
   "metadata": {},
   "outputs": [
    {
     "data": {
      "text/plain": [
       "-0.08701200525522129"
      ]
     },
     "execution_count": 21,
     "metadata": {},
     "output_type": "execute_result"
    }
   ],
   "source": [
    "reg.intercept_"
   ]
  },
  {
   "cell_type": "code",
   "execution_count": 22,
   "metadata": {},
   "outputs": [],
   "source": [
    "y_pred = reg.predict(X_test)"
   ]
  },
  {
   "cell_type": "code",
   "execution_count": 23,
   "metadata": {},
   "outputs": [],
   "source": [
    "from sklearn.metrics import mean_squared_error, r2_score"
   ]
  },
  {
   "cell_type": "code",
   "execution_count": 24,
   "metadata": {},
   "outputs": [
    {
     "data": {
      "text/plain": [
       "0.1513614742292192"
      ]
     },
     "execution_count": 24,
     "metadata": {},
     "output_type": "execute_result"
    }
   ],
   "source": [
    "mean_squared_error(y_test,y_pred)"
   ]
  },
  {
   "cell_type": "code",
   "execution_count": 25,
   "metadata": {},
   "outputs": [
    {
     "data": {
      "text/plain": [
       "0.012485352471775624"
      ]
     },
     "execution_count": 25,
     "metadata": {},
     "output_type": "execute_result"
    }
   ],
   "source": [
    "r2_score(y_test,y_pred)"
   ]
  },
  {
   "cell_type": "code",
   "execution_count": 26,
   "metadata": {},
   "outputs": [],
   "source": [
    "import matplotlib.pyplot as plt"
   ]
  },
  {
   "cell_type": "code",
   "execution_count": 27,
   "metadata": {},
   "outputs": [
    {
     "data": {
      "text/plain": [
       "<matplotlib.collections.PathCollection at 0x24b88f2c508>"
      ]
     },
     "execution_count": 27,
     "metadata": {},
     "output_type": "execute_result"
    },
    {
     "data": {
      "image/png": "[encoded data removed]",
      "text/plain": [
       "<Figure size 432x288 with 1 Axes>"
      ]
     },
     "metadata": {
      "needs_background": "light"
     },
     "output_type": "display_data"
    }
   ],
   "source": [
    "plt.scatter(X_test['loan_amnt'],y_test)"
   ]
  },
  {
   "cell_type": "code",
   "execution_count": 28,
   "metadata": {},
   "outputs": [
    {
     "data": {
      "text/plain": [
       "(7420, 5)"
      ]
     },
     "execution_count": 28,
     "metadata": {},
     "output_type": "execute_result"
    }
   ],
   "source": [
    "X_test.shape"
   ]
  },
  {
   "cell_type": "code",
   "execution_count": 29,
   "metadata": {},
   "outputs": [
    {
     "data": {
      "text/plain": [
       "(7420,)"
      ]
     },
     "execution_count": 29,
     "metadata": {},
     "output_type": "execute_result"
    }
   ],
   "source": [
    "y_test.shape"
   ]
  },
  {
   "cell_type": "markdown",
   "metadata": {},
   "source": [
    "# Ridge Regression"
   ]
  },
  {
   "cell_type": "code",
   "execution_count": 30,
   "metadata": {},
   "outputs": [],
   "source": [
    "from sklearn.linear_model import Ridge\n",
    "\n",
    "rg_model = Ridge(alpha=0.5)\n",
    "reg_rg = rg_model.fit(X_train,y_train)"
   ]
  },
  {
   "cell_type": "code",
   "execution_count": 31,
   "metadata": {},
   "outputs": [
    {
     "data": {
      "text/plain": [
       "0.012402576397847032"
      ]
     },
     "execution_count": 31,
     "metadata": {},
     "output_type": "execute_result"
    }
   ],
   "source": [
    "reg_rg.score(X_train,y_train)"
   ]
  },
  {
   "cell_type": "code",
   "execution_count": 32,
   "metadata": {},
   "outputs": [
    {
     "data": {
      "text/plain": [
       "array([ 3.20591546e-06, -1.56691736e-05, -1.43473244e-05,  5.02816260e-03,\n",
       "        8.22032504e-04])"
      ]
     },
     "execution_count": 32,
     "metadata": {},
     "output_type": "execute_result"
    }
   ],
   "source": [
    "reg_rg.coef_"
   ]
  },
  {
   "cell_type": "code",
   "execution_count": 33,
   "metadata": {},
   "outputs": [],
   "source": [
    "from sklearn import linear_model\n",
    "reg_lasso = linear_model.Lasso(alpha=0.3).fit(X_train,y_train)"
   ]
  },
  {
   "cell_type": "code",
   "execution_count": 34,
   "metadata": {},
   "outputs": [
    {
     "data": {
      "text/plain": [
       "0.006656976833398609"
      ]
     },
     "execution_count": 34,
     "metadata": {},
     "output_type": "execute_result"
    }
   ],
   "source": [
    "reg_lasso.score(X_train,y_train)"
   ]
  },
  {
   "cell_type": "code",
   "execution_count": 35,
   "metadata": {},
   "outputs": [],
   "source": [
    "from sklearn.preprocessing import PolynomialFeatures"
   ]
  },
  {
   "cell_type": "code",
   "execution_count": 36,
   "metadata": {},
   "outputs": [],
   "source": [
    "X_train_poly = PolynomialFeatures(degree=3).fit_transform(X_train)"
   ]
  },
  {
   "cell_type": "code",
   "execution_count": 37,
   "metadata": {},
   "outputs": [
    {
     "data": {
      "text/plain": [
       "LinearRegression(copy_X=True, fit_intercept=True, n_jobs=None, normalize=False)"
      ]
     },
     "execution_count": 37,
     "metadata": {},
     "output_type": "execute_result"
    }
   ],
   "source": [
    "reg.fit(X_train_poly,y_train)"
   ]
  },
  {
   "cell_type": "code",
   "execution_count": 38,
   "metadata": {},
   "outputs": [
    {
     "data": {
      "text/plain": [
       "0.024912685189617978"
      ]
     },
     "execution_count": 38,
     "metadata": {},
     "output_type": "execute_result"
    }
   ],
   "source": [
    "reg.score(X_train_poly,y_train)"
   ]
  },
  {
   "cell_type": "code",
   "execution_count": 39,
   "metadata": {},
   "outputs": [
    {
     "data": {
      "text/plain": [
       "array([[1.00000000e+00, 1.20000000e+04, 1.20000000e+04, ...,\n",
       "        4.73338080e+05, 4.80214630e+06, 4.87191082e+07],\n",
       "       [1.00000000e+00, 8.00000000e+03, 8.00000000e+03, ...,\n",
       "        7.35264000e+05, 2.50283866e+06, 8.51966279e+06],\n",
       "       [1.00000000e+00, 4.00000000e+03, 4.00000000e+03, ...,\n",
       "        1.56349440e+05, 5.23944346e+05, 1.75579572e+06],\n",
       "       ...,\n",
       "       [1.00000000e+00, 1.20000000e+04, 1.20000000e+04, ...,\n",
       "        5.10170400e+05, 5.57857161e+06, 6.10001310e+07],\n",
       "       [1.00000000e+00, 1.60000000e+04, 1.60000000e+04, ...,\n",
       "        6.28871040e+05, 8.47648287e+06, 1.14253571e+08],\n",
       "       [1.00000000e+00, 1.00000000e+03, 1.00000000e+03, ...,\n",
       "        8.75520000e+04, 3.54877440e+04, 1.43843656e+04]])"
      ]
     },
     "execution_count": 39,
     "metadata": {},
     "output_type": "execute_result"
    }
   ],
   "source": [
    "X_train_poly"
   ]
  },
  {
   "cell_type": "code",
   "execution_count": 40,
   "metadata": {},
   "outputs": [],
   "source": [
    "reg_elaticnet = linear_model.ElasticNet(alpha=.4).fit(X_train,y_train)"
   ]
  },
  {
   "cell_type": "code",
   "execution_count": 41,
   "metadata": {},
   "outputs": [
    {
     "data": {
      "text/plain": [
       "array([ 3.94569314e-06,  5.67689608e-06, -1.40068414e-05,  0.00000000e+00,\n",
       "        1.04905669e-04])"
      ]
     },
     "execution_count": 41,
     "metadata": {},
     "output_type": "execute_result"
    }
   ],
   "source": [
    "reg_elaticnet.coef_"
   ]
  },
  {
   "cell_type": "code",
   "execution_count": 42,
   "metadata": {},
   "outputs": [
    {
     "data": {
      "text/plain": [
       "0.00674104658874386"
      ]
     },
     "execution_count": 42,
     "metadata": {},
     "output_type": "execute_result"
    }
   ],
   "source": [
    "reg_elaticnet.score(X_train,y_train)"
   ]
  },
  {
   "cell_type": "code",
   "execution_count": 43,
   "metadata": {},
   "outputs": [],
   "source": [
    "reg_logistic = linear_model.LogisticRegression().fit(X_train,y_train)"
   ]
  },
  {
   "cell_type": "code",
   "execution_count": 44,
   "metadata": {},
   "outputs": [
    {
     "data": {
      "text/plain": [
       "0.8316484701442243"
      ]
     },
     "execution_count": 44,
     "metadata": {},
     "output_type": "execute_result"
    }
   ],
   "source": [
    "reg_logistic.score(X_train,y_train)"
   ]
  },
  {
   "cell_type": "code",
   "execution_count": 45,
   "metadata": {},
   "outputs": [],
   "source": [
    "y_pred = reg_logistic.predict(X_test)"
   ]
  },
  {
   "cell_type": "code",
   "execution_count": 46,
   "metadata": {},
   "outputs": [
    {
     "data": {
      "text/plain": [
       "0.8316484701442243"
      ]
     },
     "execution_count": 46,
     "metadata": {},
     "output_type": "execute_result"
    }
   ],
   "source": [
    "reg_logistic.score(X_train,y_train)"
   ]
  },
  {
   "cell_type": "code",
   "execution_count": 47,
   "metadata": {},
   "outputs": [],
   "source": [
    "from sklearn.metrics import accuracy_score"
   ]
  },
  {
   "cell_type": "code",
   "execution_count": 48,
   "metadata": {},
   "outputs": [
    {
     "data": {
      "text/plain": [
       "0.8320754716981132"
      ]
     },
     "execution_count": 48,
     "metadata": {},
     "output_type": "execute_result"
    }
   ],
   "source": [
    "accuracy_score(y_test,y_pred)"
   ]
  },
  {
   "cell_type": "code",
   "execution_count": 49,
   "metadata": {},
   "outputs": [
    {
     "data": {
      "text/plain": [
       "array([0.82766173, 0.8316765 , 0.82847515, 0.83487784, 0.82628475])"
      ]
     },
     "execution_count": 49,
     "metadata": {},
     "output_type": "execute_result"
    }
   ],
   "source": [
    "from sklearn.model_selection import cross_val_score\n",
    "cross_val_score(linear_model.LogisticRegression(),X_train,y_train,cv=5)"
   ]
  },
  {
   "cell_type": "code",
   "execution_count": 50,
   "metadata": {},
   "outputs": [],
   "source": [
    "from sklearn.model_selection import validation_curve\n",
    "training_score ,val_score = validation_curve( linear_model.LogisticRegression(),X_train,y_train,param_name='C',param_range=[0.5,1],cv=5)"
   ]
  },
  {
   "cell_type": "code",
   "execution_count": 51,
   "metadata": {},
   "outputs": [
    {
     "name": "stdout",
     "output_type": "stream",
     "text": [
      "[[0.831508   0.83345268 0.83172571 0.82755571 0.83185207]\n",
      " [0.83020219 0.82789268 0.83046207 0.83442146 0.82528116]]\n",
      "---------------------\n",
      "[[0.83204178 0.83420388 0.831508   0.82645324 0.83218197]\n",
      " [0.82766173 0.8316765  0.82847515 0.83487784 0.82628475]]\n"
     ]
    }
   ],
   "source": [
    "print(training_score)\n",
    "print(\"---------------------\")\n",
    "print(val_score)"
   ]
  },
  {
   "cell_type": "code",
   "execution_count": 52,
   "metadata": {},
   "outputs": [
    {
     "data": {
      "text/plain": [
       "0.8342038753159224"
      ]
     },
     "execution_count": 52,
     "metadata": {},
     "output_type": "execute_result"
    }
   ],
   "source": [
    "val_score[0][1]"
   ]
  },
  {
   "cell_type": "code",
   "execution_count": 53,
   "metadata": {},
   "outputs": [],
   "source": [
    "train_scores, test_scores = validation_curve(linear_model.LogisticRegression(),X,y,param_name='C',param_range=[1],\\\n",
    "                                             scoring=\"accuracy\", n_jobs=1)"
   ]
  },
  {
   "cell_type": "code",
   "execution_count": 54,
   "metadata": {},
   "outputs": [
    {
     "name": "stdout",
     "output_type": "stream",
     "text": [
      "[[0.8324909  0.83215958 0.83162045 0.82953129 0.82969977]]\n",
      "-----------------------\n",
      "[[0.82250674 0.82800917 0.83137889 0.83569214 0.83259199]]\n"
     ]
    }
   ],
   "source": [
    "print(train_scores)\n",
    "print(\"-----------------------\")\n",
    "print(test_scores)"
   ]
  },
  {
   "cell_type": "code",
   "execution_count": 55,
   "metadata": {},
   "outputs": [
    {
     "data": {
      "text/plain": [
       "<matplotlib.legend.Legend at 0x24b8912f208>"
      ]
     },
     "execution_count": 55,
     "metadata": {},
     "output_type": "execute_result"
    },
    {
     "data": {
      "image/png": "[encoded data removed]",
      "text/plain": [
       "<Figure size 432x288 with 1 Axes>"
      ]
     },
     "metadata": {
      "needs_background": "light"
     },
     "output_type": "display_data"
    }
   ],
   "source": [
    "plt.plot(train_scores[0],label = \"Train Score\")\n",
    "plt.plot(test_scores[0],color='red',label=\"Test Score\")\n",
    "plt.legend()"
   ]
  },
  {
   "cell_type": "code",
   "execution_count": 56,
   "metadata": {},
   "outputs": [],
   "source": [
    "train_scores_mean = np.mean(train_scores, axis=1)"
   ]
  },
  {
   "cell_type": "code",
   "execution_count": 57,
   "metadata": {},
   "outputs": [
    {
     "data": {
      "text/plain": [
       "array([0.8311004])"
      ]
     },
     "execution_count": 57,
     "metadata": {},
     "output_type": "execute_result"
    }
   ],
   "source": [
    "train_scores_mean"
   ]
  },
  {
   "cell_type": "code",
   "execution_count": 58,
   "metadata": {},
   "outputs": [],
   "source": [
    "from sklearn.model_selection import learning_curve\n",
    "train_sizes, train_scores, valid_scores = learning_curve(linear_model.LogisticRegression(), X_train, y_train,  cv=5)"
   ]
  },
  {
   "cell_type": "code",
   "execution_count": 59,
   "metadata": {},
   "outputs": [
    {
     "name": "stdout",
     "output_type": "stream",
     "text": [
      "[ 2374  7715 13057 18398 23740]\n",
      "-------------------\n",
      "[[0.83529907 0.82940185 0.82940185 0.82940185 0.82940185]\n",
      " [0.8286455  0.82981205 0.83344135 0.83344135 0.83344135]\n",
      " [0.82637666 0.83457149 0.83380562 0.81856475 0.81856475]\n",
      " [0.83101424 0.83324274 0.83269921 0.8332971  0.83242744]\n",
      " [0.83020219 0.83171862 0.82780118 0.83197136 0.83226622]]\n",
      "-----------------------\n",
      "[[0.8328841  0.83285594 0.83218197 0.83251896 0.83319292]\n",
      " [0.82985175 0.83285594 0.83235046 0.83218197 0.83302443]\n",
      " [0.82243935 0.83319292 0.831508   0.81752317 0.82072452]\n",
      " [0.82900943 0.83302443 0.831508   0.83117102 0.83201348]\n",
      " [0.82766173 0.83285594 0.82679023 0.82931761 0.83235046]]\n",
      "--------------------------\n"
     ]
    }
   ],
   "source": [
    "print(train_sizes)\n",
    "print('-------------------')\n",
    "print(train_scores)\n",
    "print('-----------------------')\n",
    "print(valid_scores)\n",
    "print('--------------------------')"
   ]
  },
  {
   "cell_type": "code",
   "execution_count": 60,
   "metadata": {},
   "outputs": [
    {
     "data": {
      "image/png": "[encoded data removed]",
      "text/plain": [
       "<Figure size 432x288 with 1 Axes>"
      ]
     },
     "metadata": {
      "needs_background": "light"
     },
     "output_type": "display_data"
    }
   ],
   "source": [
    "plt.plot(train_scores[2],label = \"Training \")\n",
    "plt.plot(valid_scores[2],color='green',label = \"Validation\")\n",
    "plt.ylabel('traaining and validation score')\n",
    "plt.legend()\n",
    "# plt.plot(valid_scores)\n",
    "plt.show()"
   ]
  },
  {
   "cell_type": "code",
   "execution_count": 61,
   "metadata": {},
   "outputs": [
    {
     "data": {
      "text/plain": [
       "array([[0.83529907, 0.82940185, 0.82940185, 0.82940185, 0.82940185],\n",
       "       [0.8286455 , 0.82981205, 0.83344135, 0.83344135, 0.83344135],\n",
       "       [0.82637666, 0.83457149, 0.83380562, 0.81856475, 0.81856475],\n",
       "       [0.83101424, 0.83324274, 0.83269921, 0.8332971 , 0.83242744],\n",
       "       [0.83020219, 0.83171862, 0.82780118, 0.83197136, 0.83226622]])"
      ]
     },
     "execution_count": 61,
     "metadata": {},
     "output_type": "execute_result"
    }
   ],
   "source": [
    "train_scores"
   ]
  },
  {
   "cell_type": "code",
   "execution_count": 62,
   "metadata": {},
   "outputs": [
    {
     "data": {
      "text/plain": [
       "array([[0.8328841 , 0.83285594, 0.83218197, 0.83251896, 0.83319292],\n",
       "       [0.82985175, 0.83285594, 0.83235046, 0.83218197, 0.83302443],\n",
       "       [0.82243935, 0.83319292, 0.831508  , 0.81752317, 0.82072452],\n",
       "       [0.82900943, 0.83302443, 0.831508  , 0.83117102, 0.83201348],\n",
       "       [0.82766173, 0.83285594, 0.82679023, 0.82931761, 0.83235046]])"
      ]
     },
     "execution_count": 62,
     "metadata": {},
     "output_type": "execute_result"
    }
   ],
   "source": [
    "valid_scores"
   ]
  },
  {
   "cell_type": "code",
   "execution_count": 63,
   "metadata": {},
   "outputs": [
    {
     "data": {
      "image/png": "[encoded data removed]",
      "text/plain": [
       "<Figure size 432x288 with 1 Axes>"
      ]
     },
     "metadata": {
      "needs_background": "light"
     },
     "output_type": "display_data"
    }
   ],
   "source": [
    "plt.plot(valid_scores[2])\n",
    "plt.show()"
   ]
  },
  {
   "cell_type": "markdown",
   "metadata": {},
   "source": [
    "__A learning curve plots the score over varying numbers of training samples,__<br>\n",
    "__while a validation curve plots the score over a varying hyper parameter.__<br>\n",
    "__The learning curve is a tool for finding out if an estimator would benefit from more data, or if the model is too simple (biased).__"
   ]
  },
  {
   "cell_type": "code",
   "execution_count": 64,
   "metadata": {},
   "outputs": [],
   "source": [
    "from sklearn.inspection import permutation_importance\n",
    "perm = permutation_importance(reg_logistic,X_train,y_train)"
   ]
  },
  {
   "cell_type": "code",
   "execution_count": 65,
   "metadata": {},
   "outputs": [
    {
     "data": {
      "text/plain": [
       "array([[0.00350452, 0.00296536, 0.00353821, 0.00350452, 0.00303275],\n",
       "       [0.22594015, 0.22620973, 0.22482814, 0.22078447, 0.22213236],\n",
       "       [0.21808869, 0.21711147, 0.21785281, 0.21687559, 0.21862785],\n",
       "       [0.01681493, 0.01661275, 0.01732039, 0.01735409, 0.01647796],\n",
       "       [0.25266208, 0.24868581, 0.25232511, 0.25097722, 0.24949454]])"
      ]
     },
     "execution_count": 65,
     "metadata": {},
     "output_type": "execute_result"
    }
   ],
   "source": [
    "perm.importances  # Shows each feature/Variables importance "
   ]
  },
  {
   "cell_type": "markdown",
   "metadata": {},
   "source": [
    "__When 2 features are correlated , and one of the feature is permuted ,Model will give \n",
    "lower importances value to both the features. Interpretation will be difficult,\n",
    "Hence we need to remove always the correlated features.__\n"
   ]
  },
  {
   "cell_type": "code",
   "execution_count": 66,
   "metadata": {},
   "outputs": [
    {
     "data": {
      "text/plain": [
       "0.3392040528604772"
      ]
     },
     "execution_count": 66,
     "metadata": {},
     "output_type": "execute_result"
    }
   ],
   "source": [
    "from sklearn.metrics import log_loss,balanced_accuracy_score\n",
    "balanced_accuracy_score(y_test,y_pred)\n",
    "# log_loss(y_test,y_pred)"
   ]
  },
  {
   "cell_type": "code",
   "execution_count": 67,
   "metadata": {},
   "outputs": [],
   "source": [
    "from sklearn.metrics import precision_recall_curve\n",
    "# precision_recall_curve(y_test,y_pred)"
   ]
  },
  {
   "cell_type": "code",
   "execution_count": 68,
   "metadata": {},
   "outputs": [],
   "source": [
    "from sklearn.metrics import precision_score\n",
    "# precision_score(y_test,y_pred)"
   ]
  },
  {
   "cell_type": "code",
   "execution_count": 69,
   "metadata": {},
   "outputs": [],
   "source": [
    "from sklearn.metrics import recall_score\n",
    "# recall_score(y_test,y_pred)"
   ]
  },
  {
   "cell_type": "code",
   "execution_count": 70,
   "metadata": {},
   "outputs": [],
   "source": [
    "from sklearn.metrics import roc_auc_score\n",
    "# roc_auc_score(y_test,y_pred)"
   ]
  },
  {
   "cell_type": "markdown",
   "metadata": {},
   "source": [
    "## Linear Discreminate Analysis and Quadratic Discreminate Analysis\n"
   ]
  },
  {
   "cell_type": "code",
   "execution_count": 71,
   "metadata": {},
   "outputs": [],
   "source": [
    "from sklearn.discriminant_analysis import LinearDiscriminantAnalysis\n",
    "lda = LinearDiscriminantAnalysis(n_components=2)"
   ]
  },
  {
   "cell_type": "code",
   "execution_count": 72,
   "metadata": {},
   "outputs": [],
   "source": [
    "lda_model = lda.fit(X_train,y_train)"
   ]
  },
  {
   "cell_type": "code",
   "execution_count": 73,
   "metadata": {},
   "outputs": [
    {
     "data": {
      "text/plain": [
       "array([[-9.85951554e-05,  3.28609754e-04,  4.87291047e-05,\n",
       "         1.25254716e-01, -7.81727610e-03],\n",
       "       [ 2.83745760e-06, -3.40031311e-06,  1.41070380e-05,\n",
       "        -1.46641458e-02, -4.65074441e-04],\n",
       "       [ 3.13326570e-06, -4.73690025e-05, -9.61051797e-05,\n",
       "         6.34459967e-02,  4.45545298e-03]])"
      ]
     },
     "execution_count": 73,
     "metadata": {},
     "output_type": "execute_result"
    }
   ],
   "source": [
    "lda.classes_\n",
    "lda.coef_"
   ]
  },
  {
   "cell_type": "code",
   "execution_count": 74,
   "metadata": {},
   "outputs": [
    {
     "data": {
      "text/plain": [
       "0.8314462865615312"
      ]
     },
     "execution_count": 74,
     "metadata": {},
     "output_type": "execute_result"
    }
   ],
   "source": [
    "lda_model.score(X_train,y_train)"
   ]
  },
  {
   "cell_type": "code",
   "execution_count": 75,
   "metadata": {},
   "outputs": [
    {
     "data": {
      "text/plain": [
       "array([0.9070886, 0.0929114])"
      ]
     },
     "execution_count": 75,
     "metadata": {},
     "output_type": "execute_result"
    }
   ],
   "source": [
    "lda_model.explained_variance_ratio_"
   ]
  },
  {
   "cell_type": "code",
   "execution_count": 76,
   "metadata": {},
   "outputs": [
    {
     "data": {
      "text/plain": [
       "array([[17092.10213777, 16568.52731591, 16394.92761746,    60.        ,\n",
       "          397.59655582],\n",
       "       [10934.74022042, 10684.14072908, 10169.69062033,    41.2755238 ,\n",
       "          321.7317464 ],\n",
       "       [12287.35540241, 11911.77701206, 10988.99832428,    46.46714251,\n",
       "          339.72608171]])"
      ]
     },
     "execution_count": 76,
     "metadata": {},
     "output_type": "execute_result"
    }
   ],
   "source": [
    "lda_model.means_"
   ]
  },
  {
   "cell_type": "code",
   "execution_count": 77,
   "metadata": {},
   "outputs": [
    {
     "data": {
      "text/plain": [
       "array([[-5.94176105, -0.09096306, -2.53110884],\n",
       "       [-2.79211941, -0.42220695, -1.16432463],\n",
       "       [-6.25968311, -0.08556396, -2.49814075],\n",
       "       ...,\n",
       "       [-6.16547649, -0.10462875, -2.40143095],\n",
       "       [-5.82026018, -0.10861577, -2.44866443],\n",
       "       [-3.33684102, -0.43334004, -0.98356331]])"
      ]
     },
     "execution_count": 77,
     "metadata": {},
     "output_type": "execute_result"
    }
   ],
   "source": [
    "lda_model.decision_function(X_train)"
   ]
  },
  {
   "cell_type": "code",
   "execution_count": 78,
   "metadata": {},
   "outputs": [],
   "source": [
    "from sklearn.discriminant_analysis import QuadraticDiscriminantAnalysis"
   ]
  },
  {
   "cell_type": "code",
   "execution_count": 79,
   "metadata": {},
   "outputs": [],
   "source": [
    "clf = QuadraticDiscriminantAnalysis(store_covariance=True)\n",
    "temp = clf.fit(X_train,y_train)"
   ]
  },
  {
   "cell_type": "code",
   "execution_count": 80,
   "metadata": {},
   "outputs": [
    {
     "data": {
      "text/plain": [
       "array([0.0283731 , 0.83471492, 0.13691198])"
      ]
     },
     "execution_count": 80,
     "metadata": {},
     "output_type": "execute_result"
    }
   ],
   "source": [
    "clf.priors_"
   ]
  },
  {
   "cell_type": "code",
   "execution_count": 81,
   "metadata": {},
   "outputs": [
    {
     "data": {
      "text/plain": [
       "[array([[7.11176679e+07, 6.56849696e+07, 6.45553637e+07, 0.00000000e+00,\n",
       "         1.61560861e+06],\n",
       "        [6.56849696e+07, 6.45560104e+07, 6.34955346e+07, 0.00000000e+00,\n",
       "         1.58712933e+06],\n",
       "        [6.45553637e+07, 6.34955346e+07, 6.30801678e+07, 0.00000000e+00,\n",
       "         1.56160012e+06],\n",
       "        [0.00000000e+00, 0.00000000e+00, 0.00000000e+00, 0.00000000e+00,\n",
       "         0.00000000e+00],\n",
       "        [1.61560861e+06, 1.58712933e+06, 1.56160012e+06, 0.00000000e+00,\n",
       "         4.02823750e+04]]),\n",
       " array([[5.15071810e+07, 4.88709829e+07, 4.65935907e+07, 2.34752018e+04,\n",
       "         1.38021322e+06],\n",
       "        [4.88709829e+07, 4.80842388e+07, 4.58791645e+07, 2.10581869e+04,\n",
       "         1.37055530e+06],\n",
       "        [4.65935907e+07, 4.58791645e+07, 4.73996715e+07, 2.21002533e+04,\n",
       "         1.29488441e+06],\n",
       "        [2.34752018e+04, 2.10581869e+04, 2.21002533e+04, 9.87854078e+01,\n",
       "         1.46481574e+02],\n",
       "        [1.38021322e+06, 1.37055530e+06, 1.29488441e+06, 1.46481574e+02,\n",
       "         4.24934462e+04]]),\n",
       " array([[6.45727443e+07, 6.04320113e+07, 5.49261138e+07, 3.69740397e+04,\n",
       "         1.59220819e+06],\n",
       "        [6.04320113e+07, 5.92275819e+07, 5.38933594e+07, 3.38573479e+04,\n",
       "         1.57483541e+06],\n",
       "        [5.49261138e+07, 5.38933594e+07, 5.77450206e+07, 3.84386148e+04,\n",
       "         1.38517915e+06],\n",
       "        [3.69740397e+04, 3.38573479e+04, 3.84386148e+04, 1.41685220e+02,\n",
       "         3.21225484e+02],\n",
       "        [1.59220819e+06, 1.57483541e+06, 1.38517915e+06, 3.21225484e+02,\n",
       "         4.61697130e+04]])]"
      ]
     },
     "execution_count": 81,
     "metadata": {},
     "output_type": "execute_result"
    }
   ],
   "source": [
    "temp.covariance_  # When pass store_covariance=True"
   ]
  },
  {
   "cell_type": "markdown",
   "metadata": {},
   "source": [
    "## Kernel Ridge regression "
   ]
  },
  {
   "cell_type": "code",
   "execution_count": 82,
   "metadata": {},
   "outputs": [],
   "source": [
    "from sklearn.kernel_ridge import KernelRidge"
   ]
  },
  {
   "cell_type": "code",
   "execution_count": 83,
   "metadata": {},
   "outputs": [],
   "source": [
    "# KernelRidge().fit()"
   ]
  },
  {
   "cell_type": "markdown",
   "metadata": {},
   "source": [
    "## Support Vector Machine"
   ]
  },
  {
   "cell_type": "code",
   "execution_count": 84,
   "metadata": {},
   "outputs": [],
   "source": [
    "from sklearn.svm import SVC\n",
    "\n",
    "svc_model = SVC(kernel='rbf').fit(X_train,y_train)"
   ]
  },
  {
   "cell_type": "code",
   "execution_count": 85,
   "metadata": {},
   "outputs": [
    {
     "data": {
      "text/plain": [
       "0.8347149211484027"
      ]
     },
     "execution_count": 85,
     "metadata": {},
     "output_type": "execute_result"
    }
   ],
   "source": [
    "svc_model.score(X_train,y_train)"
   ]
  },
  {
   "cell_type": "code",
   "execution_count": 86,
   "metadata": {},
   "outputs": [
    {
     "data": {
      "text/plain": [
       "array([[14000.  , 14000.  , 13750.  ,    60.  ,   344.11],\n",
       "       [ 6000.  ,  6000.  ,  6000.  ,    60.  ,   145.79],\n",
       "       [15000.  , 15000.  , 15000.  ,    60.  ,   374.97],\n",
       "       ...,\n",
       "       [17000.  , 17000.  , 16975.  ,    60.  ,   441.28],\n",
       "       [12000.  , 12000.  , 12000.  ,    36.  ,   410.66],\n",
       "       [ 1000.  ,  1000.  ,  1000.  ,    60.  ,    24.32]])"
      ]
     },
     "execution_count": 86,
     "metadata": {},
     "output_type": "execute_result"
    }
   ],
   "source": [
    "svc_model.support_vectors_"
   ]
  },
  {
   "cell_type": "markdown",
   "metadata": {},
   "source": [
    "## Nearest Neighbours"
   ]
  },
  {
   "cell_type": "code",
   "execution_count": 87,
   "metadata": {},
   "outputs": [],
   "source": [
    "from sklearn.neighbors import NearestNeighbors\n",
    "n_model = NearestNeighbors(n_neighbors=3,algorithm='ball_tree').fit(X_train)"
   ]
  },
  {
   "cell_type": "code",
   "execution_count": 88,
   "metadata": {},
   "outputs": [
    {
     "data": {
      "text/plain": [
       "NearestNeighbors(algorithm='ball_tree', leaf_size=30, metric='minkowski',\n",
       "                 metric_params=None, n_jobs=None, n_neighbors=3, p=2,\n",
       "                 radius=1.0)"
      ]
     },
     "execution_count": 88,
     "metadata": {},
     "output_type": "execute_result"
    }
   ],
   "source": [
    "n_model"
   ]
  },
  {
   "cell_type": "markdown",
   "metadata": {},
   "source": [
    "- Ball Tree \n",
    "- KD Tree"
   ]
  },
  {
   "cell_type": "markdown",
   "metadata": {},
   "source": [
    "## Naive Bayes\n",
    "- Gaussian Naive Bayes\n",
    "- Multinomial Naive bayes ( Multiclass class classification )\n",
    "- Bernoulli Naive Bayes\n",
    "- Categorical Naive Bayes\n"
   ]
  },
  {
   "cell_type": "code",
   "execution_count": 89,
   "metadata": {},
   "outputs": [],
   "source": [
    "from sklearn.naive_bayes import BernoulliNB\n",
    "NB_model = BernoulliNB().fit(X_train,y_train)"
   ]
  },
  {
   "cell_type": "code",
   "execution_count": 90,
   "metadata": {
    "scrolled": true
   },
   "outputs": [
    {
     "data": {
      "text/plain": [
       "BernoulliNB(alpha=1.0, binarize=0.0, class_prior=None, fit_prior=True)"
      ]
     },
     "execution_count": 90,
     "metadata": {},
     "output_type": "execute_result"
    }
   ],
   "source": [
    "NB_model"
   ]
  },
  {
   "cell_type": "code",
   "execution_count": 91,
   "metadata": {},
   "outputs": [
    {
     "data": {
      "text/plain": [
       "0.8347149211484027"
      ]
     },
     "execution_count": 91,
     "metadata": {},
     "output_type": "execute_result"
    }
   ],
   "source": [
    "NB_model.score(X_train,y_train)"
   ]
  },
  {
   "cell_type": "code",
   "execution_count": 92,
   "metadata": {},
   "outputs": [
    {
     "data": {
      "text/plain": [
       "array([[-1.18553659e-03, -1.18553659e-03, -1.18553659e-03,\n",
       "        -1.18553659e-03, -1.18553659e-03],\n",
       "       [-4.03673428e-05, -4.03673428e-05, -3.07257165e-03,\n",
       "        -4.03673428e-05, -4.03673428e-05],\n",
       "       [-2.46032724e-04, -2.46032724e-04, -5.17944184e-03,\n",
       "        -2.46032724e-04, -2.46032724e-04]])"
      ]
     },
     "execution_count": 92,
     "metadata": {},
     "output_type": "execute_result"
    }
   ],
   "source": [
    "NB_model.coef_"
   ]
  },
  {
   "cell_type": "code",
   "execution_count": 93,
   "metadata": {},
   "outputs": [
    {
     "data": {
      "text/plain": [
       "array([-1,  0,  1], dtype=int64)"
      ]
     },
     "execution_count": 93,
     "metadata": {},
     "output_type": "execute_result"
    }
   ],
   "source": [
    "NB_model.classes_"
   ]
  },
  {
   "cell_type": "code",
   "execution_count": 94,
   "metadata": {},
   "outputs": [],
   "source": [
    "y_pred = NB_model.predict(X_test)"
   ]
  },
  {
   "cell_type": "code",
   "execution_count": 95,
   "metadata": {},
   "outputs": [
    {
     "data": {
      "text/plain": [
       "0.8359838274932615"
      ]
     },
     "execution_count": 95,
     "metadata": {},
     "output_type": "execute_result"
    }
   ],
   "source": [
    "accuracy_score(y_pred,y_test)"
   ]
  },
  {
   "cell_type": "markdown",
   "metadata": {},
   "source": [
    "## Decision Tree"
   ]
  },
  {
   "cell_type": "code",
   "execution_count": 96,
   "metadata": {},
   "outputs": [],
   "source": [
    "from sklearn import tree"
   ]
  },
  {
   "cell_type": "code",
   "execution_count": 97,
   "metadata": {},
   "outputs": [],
   "source": [
    "tree_model = tree.DecisionTreeClassifier().fit(X_train,y_train)"
   ]
  },
  {
   "cell_type": "code",
   "execution_count": 98,
   "metadata": {
    "scrolled": true
   },
   "outputs": [
    {
     "data": {
      "text/plain": [
       "DecisionTreeClassifier(ccp_alpha=0.0, class_weight=None, criterion='gini',\n",
       "                       max_depth=None, max_features=None, max_leaf_nodes=None,\n",
       "                       min_impurity_decrease=0.0, min_impurity_split=None,\n",
       "                       min_samples_leaf=1, min_samples_split=2,\n",
       "                       min_weight_fraction_leaf=0.0, presort='deprecated',\n",
       "                       random_state=None, splitter='best')"
      ]
     },
     "execution_count": 98,
     "metadata": {},
     "output_type": "execute_result"
    }
   ],
   "source": [
    "tree_model"
   ]
  },
  {
   "cell_type": "code",
   "execution_count": 99,
   "metadata": {},
   "outputs": [
    {
     "data": {
      "text/plain": [
       "0.9534977759805904"
      ]
     },
     "execution_count": 99,
     "metadata": {},
     "output_type": "execute_result"
    }
   ],
   "source": [
    "tree_model.score(X_train,y_train)"
   ]
  },
  {
   "cell_type": "code",
   "execution_count": 100,
   "metadata": {},
   "outputs": [
    {
     "data": {
      "text/plain": [
       "array([0.07535309, 0.06676846, 0.30731594, 0.06315541, 0.48740711])"
      ]
     },
     "execution_count": 100,
     "metadata": {},
     "output_type": "execute_result"
    }
   ],
   "source": [
    "tree_model.feature_importances_"
   ]
  },
  {
   "cell_type": "code",
   "execution_count": 101,
   "metadata": {},
   "outputs": [
    {
     "data": {
      "text/html": [
       "<div>\n",
       "<style scoped>\n",
       "    .dataframe tbody tr th:only-of-type {\n",
       "        vertical-align: middle;\n",
       "    }\n",
       "\n",
       "    .dataframe tbody tr th {\n",
       "        vertical-align: top;\n",
       "    }\n",
       "\n",
       "    .dataframe thead th {\n",
       "        text-align: right;\n",
       "    }\n",
       "</style>\n",
       "<table border=\"1\" class=\"dataframe\">\n",
       "  <thead>\n",
       "    <tr style=\"text-align: right;\">\n",
       "      <th></th>\n",
       "      <th>loan_amnt</th>\n",
       "      <th>funded_amnt</th>\n",
       "      <th>funded_amnt_inv</th>\n",
       "      <th>term</th>\n",
       "      <th>installment</th>\n",
       "    </tr>\n",
       "  </thead>\n",
       "  <tbody>\n",
       "    <tr>\n",
       "      <th>0</th>\n",
       "      <td>2500</td>\n",
       "      <td>2500</td>\n",
       "      <td>2500.0</td>\n",
       "      <td>60</td>\n",
       "      <td>59.83</td>\n",
       "    </tr>\n",
       "    <tr>\n",
       "      <th>1</th>\n",
       "      <td>10000</td>\n",
       "      <td>10000</td>\n",
       "      <td>10000.0</td>\n",
       "      <td>36</td>\n",
       "      <td>339.31</td>\n",
       "    </tr>\n",
       "    <tr>\n",
       "      <th>2</th>\n",
       "      <td>3000</td>\n",
       "      <td>3000</td>\n",
       "      <td>3000.0</td>\n",
       "      <td>60</td>\n",
       "      <td>67.79</td>\n",
       "    </tr>\n",
       "    <tr>\n",
       "      <th>3</th>\n",
       "      <td>5000</td>\n",
       "      <td>5000</td>\n",
       "      <td>5000.0</td>\n",
       "      <td>36</td>\n",
       "      <td>156.46</td>\n",
       "    </tr>\n",
       "    <tr>\n",
       "      <th>4</th>\n",
       "      <td>7000</td>\n",
       "      <td>7000</td>\n",
       "      <td>7000.0</td>\n",
       "      <td>60</td>\n",
       "      <td>170.08</td>\n",
       "    </tr>\n",
       "  </tbody>\n",
       "</table>\n",
       "</div>"
      ],
      "text/plain": [
       "   loan_amnt  funded_amnt  funded_amnt_inv  term  installment\n",
       "0       2500         2500           2500.0    60        59.83\n",
       "1      10000        10000          10000.0    36       339.31\n",
       "2       3000         3000           3000.0    60        67.79\n",
       "3       5000         5000           5000.0    36       156.46\n",
       "4       7000         7000           7000.0    60       170.08"
      ]
     },
     "execution_count": 101,
     "metadata": {},
     "output_type": "execute_result"
    }
   ],
   "source": [
    "partial_data.head()"
   ]
  },
  {
   "cell_type": "code",
   "execution_count": 102,
   "metadata": {},
   "outputs": [
    {
     "data": {
      "text/plain": [
       "5"
      ]
     },
     "execution_count": 102,
     "metadata": {},
     "output_type": "execute_result"
    }
   ],
   "source": [
    "tree_model.max_features_"
   ]
  },
  {
   "cell_type": "code",
   "execution_count": 103,
   "metadata": {},
   "outputs": [],
   "source": [
    "y_pred = tree_model.predict(X_test)"
   ]
  },
  {
   "cell_type": "code",
   "execution_count": 104,
   "metadata": {},
   "outputs": [
    {
     "data": {
      "text/plain": [
       "0.7570080862533692"
      ]
     },
     "execution_count": 104,
     "metadata": {},
     "output_type": "execute_result"
    }
   ],
   "source": [
    "from sklearn.metrics import accuracy_score\n",
    "accuracy_score(y_pred,y_test)"
   ]
  },
  {
   "cell_type": "code",
   "execution_count": 105,
   "metadata": {
    "scrolled": false
   },
   "outputs": [],
   "source": [
    "# tree.plot_tree(tree_model)"
   ]
  },
  {
   "cell_type": "code",
   "execution_count": 106,
   "metadata": {},
   "outputs": [],
   "source": [
    "# pip install graphviz"
   ]
  },
  {
   "cell_type": "code",
   "execution_count": 107,
   "metadata": {
    "scrolled": false
   },
   "outputs": [],
   "source": [
    "import graphviz \n",
    "# tree.export_graphviz(tree_model)"
   ]
  },
  {
   "cell_type": "markdown",
   "metadata": {},
   "source": [
    "## Ensemble Method\n",
    "\n",
    "- Bagging \n",
    "    - RandomForest\n",
    "    - ExtraTreeClassifier\n",
    "- Boosting\n",
    "    - AdaBoost\n",
    "    - GradientTree Boosting\n",
    "- VotingClassifier\n",
    "- Interpretation with feature importance"
   ]
  },
  {
   "cell_type": "code",
   "execution_count": 108,
   "metadata": {},
   "outputs": [],
   "source": [
    "from  sklearn.ensemble import RandomForestClassifier\n",
    "model_RF = RandomForestClassifier(n_estimators=100).fit(X_train,y_train)\n",
    "clf_rf = RandomForestClassifier(n_estimators=100)"
   ]
  },
  {
   "cell_type": "code",
   "execution_count": 109,
   "metadata": {},
   "outputs": [
    {
     "data": {
      "text/plain": [
       "0.9534977759805904"
      ]
     },
     "execution_count": 109,
     "metadata": {},
     "output_type": "execute_result"
    }
   ],
   "source": [
    "model_RF.score(X_train,y_train)"
   ]
  },
  {
   "cell_type": "code",
   "execution_count": 110,
   "metadata": {},
   "outputs": [
    {
     "data": {
      "text/plain": [
       "0.7912398921832884"
      ]
     },
     "execution_count": 110,
     "metadata": {},
     "output_type": "execute_result"
    }
   ],
   "source": [
    "y_pred = model_RF.predict(X_test)\n",
    "accuracy_score(y_test,y_pred)"
   ]
  },
  {
   "cell_type": "code",
   "execution_count": 111,
   "metadata": {},
   "outputs": [],
   "source": [
    "scores= cross_val_score(clf_rf,X_train,y_train,cv=5)"
   ]
  },
  {
   "cell_type": "code",
   "execution_count": 112,
   "metadata": {},
   "outputs": [
    {
     "data": {
      "text/plain": [
       "0.7925596420794001"
      ]
     },
     "execution_count": 112,
     "metadata": {},
     "output_type": "execute_result"
    }
   ],
   "source": [
    "scores.mean()"
   ]
  },
  {
   "cell_type": "markdown",
   "metadata": {},
   "source": [
    "### cross_val_score returns score of test fold where cross_val_predict returns predicted y values for the test fold."
   ]
  },
  {
   "cell_type": "code",
   "execution_count": 113,
   "metadata": {},
   "outputs": [],
   "source": [
    "from sklearn.model_selection import cross_val_predict\n",
    "y_pred = cross_val_predict(clf_rf,X_train,y_train,cv=5)"
   ]
  },
  {
   "cell_type": "code",
   "execution_count": 114,
   "metadata": {},
   "outputs": [
    {
     "data": {
      "text/plain": [
       "0.7927955250033697"
      ]
     },
     "execution_count": 114,
     "metadata": {},
     "output_type": "execute_result"
    }
   ],
   "source": [
    "from sklearn.metrics import accuracy_score\n",
    "accuracy_score(y_train,y_pred)"
   ]
  },
  {
   "cell_type": "markdown",
   "metadata": {},
   "source": [
    "## Feature Selection\n",
    "- variance Thresold\n",
    "- SelectKBest"
   ]
  },
  {
   "cell_type": "code",
   "execution_count": 115,
   "metadata": {},
   "outputs": [],
   "source": [
    "from sklearn.feature_selection import VarianceThreshold,SelectKBest,chi2,f_oneway,mutual_info_classif"
   ]
  },
  {
   "cell_type": "code",
   "execution_count": 116,
   "metadata": {},
   "outputs": [
    {
     "data": {
      "text/plain": [
       "array([[ 2500.  ,  2500.  ,  2500.  ,    60.  ,    59.83],\n",
       "       [10000.  , 10000.  , 10000.  ,    36.  ,   339.31],\n",
       "       [ 3000.  ,  3000.  ,  3000.  ,    60.  ,    67.79],\n",
       "       ...,\n",
       "       [ 2500.  ,  2500.  ,  1075.  ,    36.  ,    78.42],\n",
       "       [ 8500.  ,  8500.  ,   875.  ,    36.  ,   275.38],\n",
       "       [ 7500.  ,  7500.  ,   800.  ,    36.  ,   255.43]])"
      ]
     },
     "execution_count": 116,
     "metadata": {},
     "output_type": "execute_result"
    }
   ],
   "source": [
    "VarianceThreshold(.8).fit_transform(X)"
   ]
  },
  {
   "cell_type": "code",
   "execution_count": 117,
   "metadata": {},
   "outputs": [
    {
     "data": {
      "text/plain": [
       "array([[ 2500.,  2500.,  2500.],\n",
       "       [10000., 10000., 10000.],\n",
       "       [ 3000.,  3000.,  3000.],\n",
       "       ...,\n",
       "       [ 2500.,  2500.,  1075.],\n",
       "       [ 8500.,  8500.,   875.],\n",
       "       [ 7500.,  7500.,   800.]])"
      ]
     },
     "execution_count": 117,
     "metadata": {},
     "output_type": "execute_result"
    }
   ],
   "source": [
    "schi = SelectKBest(chi2,k=3).fit_transform(X,y)\n",
    "schi"
   ]
  },
  {
   "cell_type": "code",
   "execution_count": 118,
   "metadata": {},
   "outputs": [
    {
     "data": {
      "text/plain": [
       "array([[ 2500.  ,    60.  ,    59.83],\n",
       "       [10000.  ,    36.  ,   339.31],\n",
       "       [ 3000.  ,    60.  ,    67.79],\n",
       "       ...,\n",
       "       [ 2500.  ,    36.  ,    78.42],\n",
       "       [ 8500.  ,    36.  ,   275.38],\n",
       "       [ 7500.  ,    36.  ,   255.43]])"
      ]
     },
     "execution_count": 118,
     "metadata": {},
     "output_type": "execute_result"
    }
   ],
   "source": [
    "soneway= SelectKBest(f_oneway,k=3).fit_transform(X,y)\n",
    "soneway\n",
    "soneway"
   ]
  },
  {
   "cell_type": "markdown",
   "metadata": {},
   "source": [
    "### Mutual information methods can capture any kind of statistical dependency, but being nonparametric, they require more samples for accurate estimation."
   ]
  },
  {
   "cell_type": "code",
   "execution_count": 119,
   "metadata": {},
   "outputs": [
    {
     "data": {
      "text/plain": [
       "array([[ 2500.  ,    60.  ,    59.83],\n",
       "       [10000.  ,    36.  ,   339.31],\n",
       "       [ 3000.  ,    60.  ,    67.79],\n",
       "       ...,\n",
       "       [ 1075.  ,    36.  ,    78.42],\n",
       "       [  875.  ,    36.  ,   275.38],\n",
       "       [  800.  ,    36.  ,   255.43]])"
      ]
     },
     "execution_count": 119,
     "metadata": {},
     "output_type": "execute_result"
    }
   ],
   "source": [
    "s_minfo = SelectKBest(mutual_info_classif,k=3).fit_transform(X,y)\n",
    "s_minfo"
   ]
  },
  {
   "cell_type": "code",
   "execution_count": 120,
   "metadata": {},
   "outputs": [],
   "source": [
    "from sklearn.feature_selection import RFE\n",
    "model_RF=RandomForestClassifier(n_estimators=100)"
   ]
  },
  {
   "cell_type": "code",
   "execution_count": 121,
   "metadata": {},
   "outputs": [],
   "source": [
    "rfe_ex = RFE(model_RF,n_features_to_select=2)"
   ]
  },
  {
   "cell_type": "code",
   "execution_count": 122,
   "metadata": {},
   "outputs": [],
   "source": [
    "s = rfe_ex.fit(X_train,y_train)"
   ]
  },
  {
   "cell_type": "code",
   "execution_count": 123,
   "metadata": {},
   "outputs": [
    {
     "data": {
      "text/plain": [
       "array([False, False,  True, False,  True])"
      ]
     },
     "execution_count": 123,
     "metadata": {},
     "output_type": "execute_result"
    }
   ],
   "source": [
    "s.support_"
   ]
  },
  {
   "cell_type": "code",
   "execution_count": 124,
   "metadata": {},
   "outputs": [
    {
     "data": {
      "text/plain": [
       "array([3, 2, 1, 4, 1])"
      ]
     },
     "execution_count": 124,
     "metadata": {},
     "output_type": "execute_result"
    }
   ],
   "source": [
    "s.ranking_ # Best is assigned as rank 1"
   ]
  },
  {
   "cell_type": "code",
   "execution_count": 125,
   "metadata": {},
   "outputs": [
    {
     "data": {
      "text/plain": [
       "ExtraTreesClassifier(bootstrap=False, ccp_alpha=0.0, class_weight=None,\n",
       "                     criterion='gini', max_depth=None, max_features='auto',\n",
       "                     max_leaf_nodes=None, max_samples=None,\n",
       "                     min_impurity_decrease=0.0, min_impurity_split=None,\n",
       "                     min_samples_leaf=1, min_samples_split=2,\n",
       "                     min_weight_fraction_leaf=0.0, n_estimators=100,\n",
       "                     n_jobs=None, oob_score=False, random_state=None, verbose=0,\n",
       "                     warm_start=False)"
      ]
     },
     "execution_count": 125,
     "metadata": {},
     "output_type": "execute_result"
    }
   ],
   "source": [
    "from sklearn.ensemble import ExtraTreesClassifier\n",
    "clf=ExtraTreesClassifier(n_estimators=100)\n",
    "clf.fit(X_train,y_train)"
   ]
  },
  {
   "cell_type": "code",
   "execution_count": 126,
   "metadata": {},
   "outputs": [
    {
     "data": {
      "text/plain": [
       "array([0.0757451 , 0.08232372, 0.29172862, 0.05752978, 0.49267278])"
      ]
     },
     "execution_count": 126,
     "metadata": {},
     "output_type": "execute_result"
    }
   ],
   "source": [
    "clf.feature_importances_"
   ]
  },
  {
   "cell_type": "code",
   "execution_count": 127,
   "metadata": {},
   "outputs": [],
   "source": [
    "param_grid={\"n_estimators\":[100,150]}\n",
    "rfc = RandomForestClassifier()\n",
    "from sklearn.model_selection import GridSearchCV,RandomizedSearchCV"
   ]
  },
  {
   "cell_type": "code",
   "execution_count": 128,
   "metadata": {},
   "outputs": [],
   "source": [
    "gscv = GridSearchCV(rfc,param_grid=param_grid,cv=5)"
   ]
  },
  {
   "cell_type": "code",
   "execution_count": 129,
   "metadata": {},
   "outputs": [
    {
     "data": {
      "text/plain": [
       "GridSearchCV(cv=5, error_score=nan,\n",
       "             estimator=RandomForestClassifier(bootstrap=True, ccp_alpha=0.0,\n",
       "                                              class_weight=None,\n",
       "                                              criterion='gini', max_depth=None,\n",
       "                                              max_features='auto',\n",
       "                                              max_leaf_nodes=None,\n",
       "                                              max_samples=None,\n",
       "                                              min_impurity_decrease=0.0,\n",
       "                                              min_impurity_split=None,\n",
       "                                              min_samples_leaf=1,\n",
       "                                              min_samples_split=2,\n",
       "                                              min_weight_fraction_leaf=0.0,\n",
       "                                              n_estimators=100, n_jobs=None,\n",
       "                                              oob_score=False,\n",
       "                                              random_state=None, verbose=0,\n",
       "                                              warm_start=False),\n",
       "             iid='deprecated', n_jobs=None,\n",
       "             param_grid={'n_estimators': [100, 150]}, pre_dispatch='2*n_jobs',\n",
       "             refit=True, return_train_score=False, scoring=None, verbose=0)"
      ]
     },
     "execution_count": 129,
     "metadata": {},
     "output_type": "execute_result"
    }
   ],
   "source": [
    "gscv.fit(X_train,y_train)"
   ]
  },
  {
   "cell_type": "code",
   "execution_count": 130,
   "metadata": {},
   "outputs": [],
   "source": [
    "from sklearn.pipeline import make_pipeline\n",
    "pipe = make_pipeline(SelectKBest(),RandomForestClassifier())\n",
    "# param_grid = {\"select__k\":[3,4],\"n_estimators\":[70,80]}\n",
    "# gscv = GridSearchCV(pipe,param_grid=param_grid)"
   ]
  },
  {
   "cell_type": "code",
   "execution_count": 131,
   "metadata": {},
   "outputs": [],
   "source": [
    "# gscv.fit(X_train,y_train)"
   ]
  },
  {
   "cell_type": "markdown",
   "metadata": {},
   "source": [
    "## Preprocessing"
   ]
  },
  {
   "cell_type": "code",
   "execution_count": 132,
   "metadata": {},
   "outputs": [],
   "source": [
    "from sklearn.preprocessing import MinMaxScaler\n",
    "from sklearn.preprocessing import minmax_scale\n",
    "from sklearn.preprocessing import MaxAbsScaler\n",
    "from sklearn.preprocessing import StandardScaler\n",
    "from sklearn.preprocessing import RobustScaler\n",
    "from sklearn.preprocessing import Normalizer\n",
    "from sklearn.preprocessing import QuantileTransformer\n",
    "from sklearn.preprocessing import PowerTransformer"
   ]
  },
  {
   "cell_type": "code",
   "execution_count": 133,
   "metadata": {},
   "outputs": [],
   "source": [
    "from sklearn.preprocessing import StandardScaler,MinMaxScaler"
   ]
  },
  {
   "cell_type": "code",
   "execution_count": 134,
   "metadata": {},
   "outputs": [],
   "source": [
    "scale = StandardScaler()\n",
    "X_train_transform = scale.fit_transform(X_train)"
   ]
  },
  {
   "cell_type": "code",
   "execution_count": 135,
   "metadata": {},
   "outputs": [],
   "source": [
    "X_test_transform = scale.transform(X_test)"
   ]
  },
  {
   "cell_type": "code",
   "execution_count": 136,
   "metadata": {},
   "outputs": [
    {
     "data": {
      "text/plain": [
       "array([[-0.44407548, -0.42215728, -0.34642688, -0.61058041, -0.37336942],\n",
       "       [ 1.17337506,  1.25574605,  1.26413207, -0.61058041,  1.68399839],\n",
       "       [ 1.17337506,  1.25574605,  1.26331532, -0.61058041,  1.39841339],\n",
       "       ...,\n",
       "       [ 0.0950747 , -0.56198255, -0.73701745, -0.61058041, -0.51028648],\n",
       "       [-0.17450039, -0.14250672, -0.07165187, -0.61058041, -0.07338478],\n",
       "       [-1.1180132 , -1.12128366, -1.0509782 , -0.61058041, -1.1221993 ]])"
      ]
     },
     "execution_count": 136,
     "metadata": {},
     "output_type": "execute_result"
    }
   ],
   "source": [
    "X_test_transform"
   ]
  },
  {
   "cell_type": "code",
   "execution_count": 137,
   "metadata": {},
   "outputs": [
    {
     "data": {
      "text/plain": [
       "array([[ 0.0950747 ,  0.13714383,  0.21721417, -0.61058041,  0.18725367],\n",
       "       [-0.44407548, -0.42215728, -0.34642688,  1.63778592, -0.58806385],\n",
       "       [-0.98322565, -0.98145838, -0.91006794, -0.61058041, -0.99067609],\n",
       "       ...,\n",
       "       [ 0.0950747 ,  0.13714383,  0.21273649, -0.61058041,  0.32412257],\n",
       "       [ 0.63422488,  0.69644494,  0.6208784 , -0.61058041,  0.76521414],\n",
       "       [-1.38758829, -1.40093422, -1.33279873,  1.63778592, -1.45454703]])"
      ]
     },
     "execution_count": 137,
     "metadata": {},
     "output_type": "execute_result"
    }
   ],
   "source": [
    "X_train_transform"
   ]
  },
  {
   "cell_type": "code",
   "execution_count": 138,
   "metadata": {},
   "outputs": [],
   "source": [
    "scale_min = MinMaxScaler()"
   ]
  },
  {
   "cell_type": "code",
   "execution_count": 139,
   "metadata": {},
   "outputs": [],
   "source": [
    "X_train_minmax = scale_min.fit_transform(X_train)"
   ]
  },
  {
   "cell_type": "code",
   "execution_count": 140,
   "metadata": {},
   "outputs": [],
   "source": [
    "X_test_minmax = scale_min.transform(X_test)"
   ]
  },
  {
   "cell_type": "code",
   "execution_count": 141,
   "metadata": {},
   "outputs": [
    {
     "data": {
      "text/plain": [
       "array([[0.33333333, 0.33333333, 0.34285714, 0.        , 0.27295896],\n",
       "       [0.2173913 , 0.2173913 , 0.22857143, 1.        , 0.14709998],\n",
       "       [0.10144928, 0.10144928, 0.11428571, 0.        , 0.08174306],\n",
       "       ...,\n",
       "       [0.33333333, 0.33333333, 0.34194923, 0.        , 0.29517719],\n",
       "       [0.44927536, 0.44927536, 0.42470543, 0.        , 0.36678055],\n",
       "       [0.01449275, 0.01449275, 0.02857143, 1.        , 0.00644188]])"
      ]
     },
     "execution_count": 141,
     "metadata": {},
     "output_type": "execute_result"
    }
   ],
   "source": [
    "X_train_minmax"
   ]
  },
  {
   "cell_type": "code",
   "execution_count": 142,
   "metadata": {},
   "outputs": [],
   "source": [
    "from sklearn.preprocessing import QuantileTransformer,PowerTransformer"
   ]
  },
  {
   "cell_type": "code",
   "execution_count": 143,
   "metadata": {},
   "outputs": [],
   "source": [
    "qt = QuantileTransformer()\n",
    "pt = PowerTransformer(method = 'yeo-johnson')\n",
    "X_temp_qt = qt.fit_transform(X_train)\n",
    "X_temp_qt_t = qt.transform(X_test)\n",
    "X_temp_pt = pt.fit_transform(X_train)\n",
    "X_temp_pt_t = pt.transform(X_test)"
   ]
  },
  {
   "cell_type": "markdown",
   "metadata": {},
   "source": [
    "## Unsupervised Learning"
   ]
  },
  {
   "cell_type": "code",
   "execution_count": 144,
   "metadata": {},
   "outputs": [],
   "source": [
    "from sklearn.mixture import GaussianMixture"
   ]
  },
  {
   "cell_type": "code",
   "execution_count": 145,
   "metadata": {},
   "outputs": [],
   "source": [
    "clust = GaussianMixture(n_components=2).fit(X_train)"
   ]
  },
  {
   "cell_type": "code",
   "execution_count": 146,
   "metadata": {},
   "outputs": [],
   "source": [
    "from sklearn.manifold import TSNE"
   ]
  },
  {
   "cell_type": "code",
   "execution_count": 147,
   "metadata": {},
   "outputs": [],
   "source": [
    "t1 = TSNE(n_components=3)\n",
    "X_train_trans = t1.fit_transform(X_train[:100])"
   ]
  },
  {
   "cell_type": "code",
   "execution_count": 148,
   "metadata": {},
   "outputs": [
    {
     "data": {
      "text/plain": [
       "{'angle': 0.5,\n",
       " 'early_exaggeration': 12.0,\n",
       " 'init': 'random',\n",
       " 'learning_rate': 200.0,\n",
       " 'method': 'barnes_hut',\n",
       " 'metric': 'euclidean',\n",
       " 'min_grad_norm': 1e-07,\n",
       " 'n_components': 3,\n",
       " 'n_iter': 1000,\n",
       " 'n_iter_without_progress': 300,\n",
       " 'n_jobs': None,\n",
       " 'perplexity': 30.0,\n",
       " 'random_state': None,\n",
       " 'verbose': 0}"
      ]
     },
     "execution_count": 148,
     "metadata": {},
     "output_type": "execute_result"
    }
   ],
   "source": [
    "t1.get_params()"
   ]
  },
  {
   "cell_type": "code",
   "execution_count": 149,
   "metadata": {},
   "outputs": [],
   "source": [
    "from sklearn.cluster import KMeans\n",
    "k1 = KMeans(n_clusters=3,init=\"k-means++\")"
   ]
  },
  {
   "cell_type": "code",
   "execution_count": 150,
   "metadata": {
    "scrolled": true
   },
   "outputs": [
    {
     "data": {
      "text/plain": [
       "array([[ 5329.05425007,  5267.91050189,  4891.90245771,    39.36988686,\n",
       "          164.50374311],\n",
       "       [24774.0915134 , 24046.23310437, 23323.66254031,    49.5395524 ,\n",
       "          680.00826723],\n",
       "       [13177.76263736, 12822.02197802, 12101.71388749,    43.54707692,\n",
       "          382.21059692]])"
      ]
     },
     "execution_count": 150,
     "metadata": {},
     "output_type": "execute_result"
    }
   ],
   "source": [
    "X_train_kmeans = k1.fit_transform(X_train)\n",
    "k1.cluster_centers_"
   ]
  },
  {
   "cell_type": "code",
   "execution_count": 151,
   "metadata": {},
   "outputs": [
    {
     "data": {
      "text/plain": [
       "array([2, 0, 0, ..., 2, 2, 0])"
      ]
     },
     "execution_count": 151,
     "metadata": {},
     "output_type": "execute_result"
    }
   ],
   "source": [
    "k1.labels_"
   ]
  },
  {
   "cell_type": "code",
   "execution_count": 152,
   "metadata": {},
   "outputs": [
    {
     "data": {
      "text/plain": [
       "array([[11848.53996348, 20895.30444864,  1439.97776937],\n",
       "       [ 4925.49887106, 27818.92955263,  8180.2886827 ],\n",
       "       [ 2042.40241348, 34743.7958495 , 15091.90653492],\n",
       "       ...,\n",
       "       [11830.02031008, 20912.1336415 ,  1442.51604831],\n",
       "       [18127.49855486, 14605.44016712,  5070.43167643],\n",
       "       [ 7219.60889356, 39938.85618451, 20283.84860224]])"
      ]
     },
     "execution_count": 152,
     "metadata": {},
     "output_type": "execute_result"
    }
   ],
   "source": [
    "X_train_kmeans"
   ]
  },
  {
   "cell_type": "code",
   "execution_count": 153,
   "metadata": {},
   "outputs": [],
   "source": [
    "from sklearn.cluster import DBSCAN"
   ]
  },
  {
   "cell_type": "code",
   "execution_count": 154,
   "metadata": {},
   "outputs": [],
   "source": [
    "d1 = DBSCAN(eps=10)\n",
    "X_traindb = d1.fit(X_train)"
   ]
  },
  {
   "cell_type": "code",
   "execution_count": 155,
   "metadata": {},
   "outputs": [
    {
     "data": {
      "text/plain": [
       "array([[12000.     , 12000.     , 12000.     ,    36.     ,   365.23   ],\n",
       "       [ 8000.     ,  8000.     ,  8000.     ,    60.     ,   204.24   ],\n",
       "       [ 4000.     ,  4000.     ,  4000.     ,    36.     ,   120.64   ],\n",
       "       ...,\n",
       "       [ 5000.     ,  5000.     ,  4700.     ,    36.     ,   159.74   ],\n",
       "       [12000.     , 12000.     , 11968.22318,    36.     ,   393.65   ],\n",
       "       [ 1000.     ,  1000.     ,  1000.     ,    60.     ,    24.32   ]])"
      ]
     },
     "execution_count": 155,
     "metadata": {},
     "output_type": "execute_result"
    }
   ],
   "source": [
    "d1.components_"
   ]
  },
  {
   "cell_type": "code",
   "execution_count": 156,
   "metadata": {},
   "outputs": [
    {
     "data": {
      "text/plain": [
       "(29676,)"
      ]
     },
     "execution_count": 156,
     "metadata": {},
     "output_type": "execute_result"
    }
   ],
   "source": [
    "d1.labels_.shape"
   ]
  },
  {
   "cell_type": "code",
   "execution_count": 157,
   "metadata": {},
   "outputs": [
    {
     "data": {
      "text/plain": [
       "-1      11723\n",
       " 11      1033\n",
       " 9       1012\n",
       " 8        931\n",
       " 0        761\n",
       " 43       678\n",
       " 20       498\n",
       " 2        486\n",
       " 39       437\n",
       " 25       344\n",
       " 35       310\n",
       " 3        302\n",
       " 86       227\n",
       " 13       212\n",
       " 41       187\n",
       " 17       184\n",
       " 89       168\n",
       " 68       161\n",
       " 153      161\n",
       " 75       153\n",
       "dtype: int64"
      ]
     },
     "execution_count": 157,
     "metadata": {},
     "output_type": "execute_result"
    }
   ],
   "source": [
    "pd.Series(d1.labels_).value_counts().head(20)"
   ]
  },
  {
   "cell_type": "code",
   "execution_count": 158,
   "metadata": {},
   "outputs": [],
   "source": [
    "from sklearn.decomposition import PCA,KernelPCA,NMF,TruncatedSVD"
   ]
  },
  {
   "cell_type": "code",
   "execution_count": 159,
   "metadata": {},
   "outputs": [
    {
     "data": {
      "text/plain": [
       "PCA(copy=True, iterated_power='auto', n_components=2, random_state=None,\n",
       "    svd_solver='auto', tol=0.0, whiten=False)"
      ]
     },
     "execution_count": 159,
     "metadata": {},
     "output_type": "execute_result"
    }
   ],
   "source": [
    "p1 = PCA(n_components=2)\n",
    "p1.fit(X_train)"
   ]
  },
  {
   "cell_type": "code",
   "execution_count": 160,
   "metadata": {
    "scrolled": true
   },
   "outputs": [
    {
     "data": {
      "text/plain": [
       "array([1.52293417e+08, 3.44817533e+06])"
      ]
     },
     "execution_count": 160,
     "metadata": {},
     "output_type": "execute_result"
    }
   ],
   "source": [
    "p1.explained_variance_"
   ]
  },
  {
   "cell_type": "code",
   "execution_count": 161,
   "metadata": {},
   "outputs": [
    {
     "data": {
      "text/plain": [
       "array([0.97248293, 0.02201863])"
      ]
     },
     "execution_count": 161,
     "metadata": {},
     "output_type": "execute_result"
    }
   ],
   "source": [
    "p1.explained_variance_ratio_"
   ]
  },
  {
   "cell_type": "code",
   "execution_count": 162,
   "metadata": {},
   "outputs": [
    {
     "data": {
      "text/plain": [
       "array([[  1850.37122534,   -639.5937345 ],\n",
       "       [ -5077.75029206,   -493.98001801],\n",
       "       [-12004.66011467,   -347.74697214],\n",
       "       ...,\n",
       "       [  1832.96241813,   -613.8262237 ],\n",
       "       [  8139.78321113,    127.06674994],\n",
       "       [-17200.36233659,   -238.34513409]])"
      ]
     },
     "execution_count": 162,
     "metadata": {},
     "output_type": "execute_result"
    }
   ],
   "source": [
    "p1.fit_transform(X_train)"
   ]
  },
  {
   "cell_type": "code",
   "execution_count": 163,
   "metadata": {},
   "outputs": [
    {
     "data": {
      "text/plain": [
       "array([[5.48517955e+07, 5.23231768e+07, 4.93108568e+07, 2.75581449e+04,\n",
       "        1.44425025e+06],\n",
       "       [5.23231768e+07, 5.07950130e+07, 4.86403147e+07, 2.69084636e+04,\n",
       "        1.39200491e+06],\n",
       "       [4.93108568e+07, 4.86403147e+07, 5.03434156e+07, 2.68602961e+04,\n",
       "        1.33391262e+06],\n",
       "       [2.75581449e+04, 2.69084636e+04, 2.68602961e+04, 2.87038203e+05,\n",
       "        7.39650226e+02],\n",
       "       [1.44425025e+06, 1.39200491e+06, 1.33391262e+06, 7.39650226e+02,\n",
       "        3.25401003e+05]])"
      ]
     },
     "execution_count": 163,
     "metadata": {},
     "output_type": "execute_result"
    }
   ],
   "source": [
    "p1.get_covariance()"
   ]
  },
  {
   "cell_type": "code",
   "execution_count": 164,
   "metadata": {},
   "outputs": [
    {
     "data": {
      "text/plain": [
       "array([2125866.21352911,  319882.17044014])"
      ]
     },
     "execution_count": 164,
     "metadata": {},
     "output_type": "execute_result"
    }
   ],
   "source": [
    "p1.singular_values_"
   ]
  },
  {
   "cell_type": "code",
   "execution_count": 165,
   "metadata": {},
   "outputs": [],
   "source": [
    "from sklearn.ensemble import IsolationForest\n",
    "i1 = IsolationForest(n_estimators=20)\n",
    "# i1.fit(X_train)"
   ]
  },
  {
   "cell_type": "code",
   "execution_count": 166,
   "metadata": {},
   "outputs": [],
   "source": [
    "temp_if = i1.fit_predict(X_train)"
   ]
  },
  {
   "cell_type": "code",
   "execution_count": 167,
   "metadata": {},
   "outputs": [
    {
     "data": {
      "text/plain": [
       "array([ 1, -1,  1, ...,  1,  1, -1])"
      ]
     },
     "execution_count": 167,
     "metadata": {},
     "output_type": "execute_result"
    }
   ],
   "source": [
    "temp_if"
   ]
  },
  {
   "cell_type": "code",
   "execution_count": 168,
   "metadata": {},
   "outputs": [
    {
     "data": {
      "text/plain": [
       "(29676,)"
      ]
     },
     "execution_count": 168,
     "metadata": {},
     "output_type": "execute_result"
    }
   ],
   "source": [
    "temp_if.shape"
   ]
  },
  {
   "cell_type": "code",
   "execution_count": 169,
   "metadata": {
    "scrolled": true
   },
   "outputs": [
    {
     "data": {
      "text/plain": [
       "(29676, 5)"
      ]
     },
     "execution_count": 169,
     "metadata": {},
     "output_type": "execute_result"
    }
   ],
   "source": [
    "X_train.shape"
   ]
  },
  {
   "cell_type": "code",
   "execution_count": 170,
   "metadata": {},
   "outputs": [
    {
     "data": {
      "text/html": [
       "<div>\n",
       "<style scoped>\n",
       "    .dataframe tbody tr th:only-of-type {\n",
       "        vertical-align: middle;\n",
       "    }\n",
       "\n",
       "    .dataframe tbody tr th {\n",
       "        vertical-align: top;\n",
       "    }\n",
       "\n",
       "    .dataframe thead th {\n",
       "        text-align: right;\n",
       "    }\n",
       "</style>\n",
       "<table border=\"1\" class=\"dataframe\">\n",
       "  <thead>\n",
       "    <tr style=\"text-align: right;\">\n",
       "      <th></th>\n",
       "      <th>index</th>\n",
       "      <th>loan_amnt</th>\n",
       "      <th>funded_amnt</th>\n",
       "      <th>funded_amnt_inv</th>\n",
       "      <th>term</th>\n",
       "      <th>installment</th>\n",
       "    </tr>\n",
       "  </thead>\n",
       "  <tbody>\n",
       "    <tr>\n",
       "      <th>0</th>\n",
       "      <td>6312</td>\n",
       "      <td>12000</td>\n",
       "      <td>12000</td>\n",
       "      <td>12000.00000</td>\n",
       "      <td>36</td>\n",
       "      <td>365.23</td>\n",
       "    </tr>\n",
       "    <tr>\n",
       "      <th>1</th>\n",
       "      <td>5474</td>\n",
       "      <td>8000</td>\n",
       "      <td>8000</td>\n",
       "      <td>8000.00000</td>\n",
       "      <td>60</td>\n",
       "      <td>204.24</td>\n",
       "    </tr>\n",
       "    <tr>\n",
       "      <th>2</th>\n",
       "      <td>16661</td>\n",
       "      <td>4000</td>\n",
       "      <td>4000</td>\n",
       "      <td>4000.00000</td>\n",
       "      <td>36</td>\n",
       "      <td>120.64</td>\n",
       "    </tr>\n",
       "    <tr>\n",
       "      <th>3</th>\n",
       "      <td>24250</td>\n",
       "      <td>2000</td>\n",
       "      <td>2000</td>\n",
       "      <td>2000.00000</td>\n",
       "      <td>36</td>\n",
       "      <td>68.70</td>\n",
       "    </tr>\n",
       "    <tr>\n",
       "      <th>4</th>\n",
       "      <td>6902</td>\n",
       "      <td>4500</td>\n",
       "      <td>4500</td>\n",
       "      <td>4475.00000</td>\n",
       "      <td>36</td>\n",
       "      <td>138.17</td>\n",
       "    </tr>\n",
       "    <tr>\n",
       "      <th>...</th>\n",
       "      <td>...</td>\n",
       "      <td>...</td>\n",
       "      <td>...</td>\n",
       "      <td>...</td>\n",
       "      <td>...</td>\n",
       "      <td>...</td>\n",
       "    </tr>\n",
       "    <tr>\n",
       "      <th>29671</th>\n",
       "      <td>8559</td>\n",
       "      <td>16000</td>\n",
       "      <td>16000</td>\n",
       "      <td>15975.00000</td>\n",
       "      <td>60</td>\n",
       "      <td>409.70</td>\n",
       "    </tr>\n",
       "    <tr>\n",
       "      <th>29672</th>\n",
       "      <td>34887</td>\n",
       "      <td>5000</td>\n",
       "      <td>5000</td>\n",
       "      <td>4700.00000</td>\n",
       "      <td>36</td>\n",
       "      <td>159.74</td>\n",
       "    </tr>\n",
       "    <tr>\n",
       "      <th>29673</th>\n",
       "      <td>32022</td>\n",
       "      <td>12000</td>\n",
       "      <td>12000</td>\n",
       "      <td>11968.22318</td>\n",
       "      <td>36</td>\n",
       "      <td>393.65</td>\n",
       "    </tr>\n",
       "    <tr>\n",
       "      <th>29674</th>\n",
       "      <td>22637</td>\n",
       "      <td>16000</td>\n",
       "      <td>16000</td>\n",
       "      <td>14864.69006</td>\n",
       "      <td>36</td>\n",
       "      <td>485.24</td>\n",
       "    </tr>\n",
       "    <tr>\n",
       "      <th>29675</th>\n",
       "      <td>14000</td>\n",
       "      <td>1000</td>\n",
       "      <td>1000</td>\n",
       "      <td>1000.00000</td>\n",
       "      <td>60</td>\n",
       "      <td>24.32</td>\n",
       "    </tr>\n",
       "  </tbody>\n",
       "</table>\n",
       "<p>29676 rows × 6 columns</p>\n",
       "</div>"
      ],
      "text/plain": [
       "       index  loan_amnt  funded_amnt  funded_amnt_inv  term  installment\n",
       "0       6312      12000        12000      12000.00000    36       365.23\n",
       "1       5474       8000         8000       8000.00000    60       204.24\n",
       "2      16661       4000         4000       4000.00000    36       120.64\n",
       "3      24250       2000         2000       2000.00000    36        68.70\n",
       "4       6902       4500         4500       4475.00000    36       138.17\n",
       "...      ...        ...          ...              ...   ...          ...\n",
       "29671   8559      16000        16000      15975.00000    60       409.70\n",
       "29672  34887       5000         5000       4700.00000    36       159.74\n",
       "29673  32022      12000        12000      11968.22318    36       393.65\n",
       "29674  22637      16000        16000      14864.69006    36       485.24\n",
       "29675  14000       1000         1000       1000.00000    60        24.32\n",
       "\n",
       "[29676 rows x 6 columns]"
      ]
     },
     "execution_count": 170,
     "metadata": {},
     "output_type": "execute_result"
    }
   ],
   "source": [
    "X_train.reset_index()"
   ]
  },
  {
   "cell_type": "code",
   "execution_count": 171,
   "metadata": {},
   "outputs": [
    {
     "data": {
      "text/plain": [
       " 1    18019\n",
       "-1    11657\n",
       "dtype: int64"
      ]
     },
     "execution_count": 171,
     "metadata": {},
     "output_type": "execute_result"
    }
   ],
   "source": [
    "pd.Series(temp_if).value_counts() # 9657 no of outlier."
   ]
  },
  {
   "cell_type": "code",
   "execution_count": 172,
   "metadata": {},
   "outputs": [
    {
     "data": {
      "text/html": [
       "<div>\n",
       "<style scoped>\n",
       "    .dataframe tbody tr th:only-of-type {\n",
       "        vertical-align: middle;\n",
       "    }\n",
       "\n",
       "    .dataframe tbody tr th {\n",
       "        vertical-align: top;\n",
       "    }\n",
       "\n",
       "    .dataframe thead th {\n",
       "        text-align: right;\n",
       "    }\n",
       "</style>\n",
       "<table border=\"1\" class=\"dataframe\">\n",
       "  <thead>\n",
       "    <tr style=\"text-align: right;\">\n",
       "      <th></th>\n",
       "      <th>index</th>\n",
       "      <th>loan_amnt</th>\n",
       "      <th>funded_amnt</th>\n",
       "      <th>funded_amnt_inv</th>\n",
       "      <th>term</th>\n",
       "      <th>installment</th>\n",
       "      <th>0</th>\n",
       "    </tr>\n",
       "  </thead>\n",
       "  <tbody>\n",
       "    <tr>\n",
       "      <th>0</th>\n",
       "      <td>6312</td>\n",
       "      <td>12000</td>\n",
       "      <td>12000</td>\n",
       "      <td>12000.00000</td>\n",
       "      <td>36</td>\n",
       "      <td>365.23</td>\n",
       "      <td>1</td>\n",
       "    </tr>\n",
       "    <tr>\n",
       "      <th>1</th>\n",
       "      <td>5474</td>\n",
       "      <td>8000</td>\n",
       "      <td>8000</td>\n",
       "      <td>8000.00000</td>\n",
       "      <td>60</td>\n",
       "      <td>204.24</td>\n",
       "      <td>-1</td>\n",
       "    </tr>\n",
       "    <tr>\n",
       "      <th>2</th>\n",
       "      <td>16661</td>\n",
       "      <td>4000</td>\n",
       "      <td>4000</td>\n",
       "      <td>4000.00000</td>\n",
       "      <td>36</td>\n",
       "      <td>120.64</td>\n",
       "      <td>1</td>\n",
       "    </tr>\n",
       "    <tr>\n",
       "      <th>3</th>\n",
       "      <td>24250</td>\n",
       "      <td>2000</td>\n",
       "      <td>2000</td>\n",
       "      <td>2000.00000</td>\n",
       "      <td>36</td>\n",
       "      <td>68.70</td>\n",
       "      <td>1</td>\n",
       "    </tr>\n",
       "    <tr>\n",
       "      <th>4</th>\n",
       "      <td>6902</td>\n",
       "      <td>4500</td>\n",
       "      <td>4500</td>\n",
       "      <td>4475.00000</td>\n",
       "      <td>36</td>\n",
       "      <td>138.17</td>\n",
       "      <td>1</td>\n",
       "    </tr>\n",
       "    <tr>\n",
       "      <th>5</th>\n",
       "      <td>29492</td>\n",
       "      <td>6000</td>\n",
       "      <td>6000</td>\n",
       "      <td>5875.00000</td>\n",
       "      <td>36</td>\n",
       "      <td>193.27</td>\n",
       "      <td>1</td>\n",
       "    </tr>\n",
       "    <tr>\n",
       "      <th>6</th>\n",
       "      <td>28106</td>\n",
       "      <td>7000</td>\n",
       "      <td>7000</td>\n",
       "      <td>6950.00000</td>\n",
       "      <td>36</td>\n",
       "      <td>218.97</td>\n",
       "      <td>1</td>\n",
       "    </tr>\n",
       "    <tr>\n",
       "      <th>7</th>\n",
       "      <td>14380</td>\n",
       "      <td>20000</td>\n",
       "      <td>20000</td>\n",
       "      <td>19975.00000</td>\n",
       "      <td>36</td>\n",
       "      <td>654.68</td>\n",
       "      <td>1</td>\n",
       "    </tr>\n",
       "    <tr>\n",
       "      <th>8</th>\n",
       "      <td>28287</td>\n",
       "      <td>4975</td>\n",
       "      <td>4975</td>\n",
       "      <td>4975.00000</td>\n",
       "      <td>36</td>\n",
       "      <td>154.77</td>\n",
       "      <td>1</td>\n",
       "    </tr>\n",
       "    <tr>\n",
       "      <th>9</th>\n",
       "      <td>30033</td>\n",
       "      <td>2100</td>\n",
       "      <td>2100</td>\n",
       "      <td>1075.00000</td>\n",
       "      <td>36</td>\n",
       "      <td>65.69</td>\n",
       "      <td>-1</td>\n",
       "    </tr>\n",
       "    <tr>\n",
       "      <th>10</th>\n",
       "      <td>15065</td>\n",
       "      <td>4000</td>\n",
       "      <td>4000</td>\n",
       "      <td>4000.00000</td>\n",
       "      <td>36</td>\n",
       "      <td>136.33</td>\n",
       "      <td>1</td>\n",
       "    </tr>\n",
       "    <tr>\n",
       "      <th>11</th>\n",
       "      <td>20041</td>\n",
       "      <td>6000</td>\n",
       "      <td>6000</td>\n",
       "      <td>6000.00000</td>\n",
       "      <td>36</td>\n",
       "      <td>183.00</td>\n",
       "      <td>1</td>\n",
       "    </tr>\n",
       "    <tr>\n",
       "      <th>12</th>\n",
       "      <td>11378</td>\n",
       "      <td>5000</td>\n",
       "      <td>5000</td>\n",
       "      <td>5000.00000</td>\n",
       "      <td>36</td>\n",
       "      <td>174.85</td>\n",
       "      <td>1</td>\n",
       "    </tr>\n",
       "    <tr>\n",
       "      <th>13</th>\n",
       "      <td>33654</td>\n",
       "      <td>5000</td>\n",
       "      <td>5000</td>\n",
       "      <td>5000.00000</td>\n",
       "      <td>36</td>\n",
       "      <td>156.69</td>\n",
       "      <td>1</td>\n",
       "    </tr>\n",
       "    <tr>\n",
       "      <th>14</th>\n",
       "      <td>21444</td>\n",
       "      <td>2800</td>\n",
       "      <td>2800</td>\n",
       "      <td>2800.00000</td>\n",
       "      <td>36</td>\n",
       "      <td>94.82</td>\n",
       "      <td>1</td>\n",
       "    </tr>\n",
       "    <tr>\n",
       "      <th>15</th>\n",
       "      <td>10673</td>\n",
       "      <td>10000</td>\n",
       "      <td>10000</td>\n",
       "      <td>10000.00000</td>\n",
       "      <td>36</td>\n",
       "      <td>327.34</td>\n",
       "      <td>1</td>\n",
       "    </tr>\n",
       "    <tr>\n",
       "      <th>16</th>\n",
       "      <td>36005</td>\n",
       "      <td>2000</td>\n",
       "      <td>2000</td>\n",
       "      <td>368.61549</td>\n",
       "      <td>36</td>\n",
       "      <td>64.91</td>\n",
       "      <td>-1</td>\n",
       "    </tr>\n",
       "    <tr>\n",
       "      <th>17</th>\n",
       "      <td>13292</td>\n",
       "      <td>4075</td>\n",
       "      <td>4075</td>\n",
       "      <td>4075.00000</td>\n",
       "      <td>36</td>\n",
       "      <td>122.91</td>\n",
       "      <td>1</td>\n",
       "    </tr>\n",
       "    <tr>\n",
       "      <th>18</th>\n",
       "      <td>28504</td>\n",
       "      <td>5000</td>\n",
       "      <td>5000</td>\n",
       "      <td>5000.00000</td>\n",
       "      <td>36</td>\n",
       "      <td>161.06</td>\n",
       "      <td>1</td>\n",
       "    </tr>\n",
       "    <tr>\n",
       "      <th>19</th>\n",
       "      <td>4099</td>\n",
       "      <td>7800</td>\n",
       "      <td>7800</td>\n",
       "      <td>7800.00000</td>\n",
       "      <td>36</td>\n",
       "      <td>261.65</td>\n",
       "      <td>1</td>\n",
       "    </tr>\n",
       "  </tbody>\n",
       "</table>\n",
       "</div>"
      ],
      "text/plain": [
       "    index  loan_amnt  funded_amnt  funded_amnt_inv  term  installment  0\n",
       "0    6312      12000        12000      12000.00000    36       365.23  1\n",
       "1    5474       8000         8000       8000.00000    60       204.24 -1\n",
       "2   16661       4000         4000       4000.00000    36       120.64  1\n",
       "3   24250       2000         2000       2000.00000    36        68.70  1\n",
       "4    6902       4500         4500       4475.00000    36       138.17  1\n",
       "5   29492       6000         6000       5875.00000    36       193.27  1\n",
       "6   28106       7000         7000       6950.00000    36       218.97  1\n",
       "7   14380      20000        20000      19975.00000    36       654.68  1\n",
       "8   28287       4975         4975       4975.00000    36       154.77  1\n",
       "9   30033       2100         2100       1075.00000    36        65.69 -1\n",
       "10  15065       4000         4000       4000.00000    36       136.33  1\n",
       "11  20041       6000         6000       6000.00000    36       183.00  1\n",
       "12  11378       5000         5000       5000.00000    36       174.85  1\n",
       "13  33654       5000         5000       5000.00000    36       156.69  1\n",
       "14  21444       2800         2800       2800.00000    36        94.82  1\n",
       "15  10673      10000        10000      10000.00000    36       327.34  1\n",
       "16  36005       2000         2000        368.61549    36        64.91 -1\n",
       "17  13292       4075         4075       4075.00000    36       122.91  1\n",
       "18  28504       5000         5000       5000.00000    36       161.06  1\n",
       "19   4099       7800         7800       7800.00000    36       261.65  1"
      ]
     },
     "execution_count": 172,
     "metadata": {},
     "output_type": "execute_result"
    }
   ],
   "source": [
    "pd.concat([X_train.reset_index(),pd.Series(temp_if)],axis=1).head(20)"
   ]
  },
  {
   "cell_type": "code",
   "execution_count": 173,
   "metadata": {},
   "outputs": [],
   "source": [
    "from sklearn.neighbors import LocalOutlierFactor\n",
    "lf = LocalOutlierFactor(n_neighbors=5)\n",
    "temp_lf = lf.fit_predict(X_train)"
   ]
  },
  {
   "cell_type": "code",
   "execution_count": 174,
   "metadata": {},
   "outputs": [
    {
     "data": {
      "text/plain": [
       " 1    23979\n",
       "-1     5697\n",
       "dtype: int64"
      ]
     },
     "execution_count": 174,
     "metadata": {},
     "output_type": "execute_result"
    }
   ],
   "source": [
    "pd.Series(temp_lf).value_counts()"
   ]
  },
  {
   "cell_type": "code",
   "execution_count": 175,
   "metadata": {},
   "outputs": [
    {
     "data": {
      "text/html": [
       "<div>\n",
       "<style scoped>\n",
       "    .dataframe tbody tr th:only-of-type {\n",
       "        vertical-align: middle;\n",
       "    }\n",
       "\n",
       "    .dataframe tbody tr th {\n",
       "        vertical-align: top;\n",
       "    }\n",
       "\n",
       "    .dataframe thead th {\n",
       "        text-align: right;\n",
       "    }\n",
       "</style>\n",
       "<table border=\"1\" class=\"dataframe\">\n",
       "  <thead>\n",
       "    <tr style=\"text-align: right;\">\n",
       "      <th></th>\n",
       "      <th>index</th>\n",
       "      <th>loan_amnt</th>\n",
       "      <th>funded_amnt</th>\n",
       "      <th>funded_amnt_inv</th>\n",
       "      <th>term</th>\n",
       "      <th>installment</th>\n",
       "      <th>0</th>\n",
       "    </tr>\n",
       "  </thead>\n",
       "  <tbody>\n",
       "    <tr>\n",
       "      <th>0</th>\n",
       "      <td>6312</td>\n",
       "      <td>12000</td>\n",
       "      <td>12000</td>\n",
       "      <td>12000.00000</td>\n",
       "      <td>36</td>\n",
       "      <td>365.23</td>\n",
       "      <td>1</td>\n",
       "    </tr>\n",
       "    <tr>\n",
       "      <th>1</th>\n",
       "      <td>5474</td>\n",
       "      <td>8000</td>\n",
       "      <td>8000</td>\n",
       "      <td>8000.00000</td>\n",
       "      <td>60</td>\n",
       "      <td>204.24</td>\n",
       "      <td>1</td>\n",
       "    </tr>\n",
       "    <tr>\n",
       "      <th>2</th>\n",
       "      <td>16661</td>\n",
       "      <td>4000</td>\n",
       "      <td>4000</td>\n",
       "      <td>4000.00000</td>\n",
       "      <td>36</td>\n",
       "      <td>120.64</td>\n",
       "      <td>1</td>\n",
       "    </tr>\n",
       "    <tr>\n",
       "      <th>3</th>\n",
       "      <td>24250</td>\n",
       "      <td>2000</td>\n",
       "      <td>2000</td>\n",
       "      <td>2000.00000</td>\n",
       "      <td>36</td>\n",
       "      <td>68.70</td>\n",
       "      <td>-1</td>\n",
       "    </tr>\n",
       "    <tr>\n",
       "      <th>4</th>\n",
       "      <td>6902</td>\n",
       "      <td>4500</td>\n",
       "      <td>4500</td>\n",
       "      <td>4475.00000</td>\n",
       "      <td>36</td>\n",
       "      <td>138.17</td>\n",
       "      <td>1</td>\n",
       "    </tr>\n",
       "    <tr>\n",
       "      <th>5</th>\n",
       "      <td>29492</td>\n",
       "      <td>6000</td>\n",
       "      <td>6000</td>\n",
       "      <td>5875.00000</td>\n",
       "      <td>36</td>\n",
       "      <td>193.27</td>\n",
       "      <td>1</td>\n",
       "    </tr>\n",
       "    <tr>\n",
       "      <th>6</th>\n",
       "      <td>28106</td>\n",
       "      <td>7000</td>\n",
       "      <td>7000</td>\n",
       "      <td>6950.00000</td>\n",
       "      <td>36</td>\n",
       "      <td>218.97</td>\n",
       "      <td>1</td>\n",
       "    </tr>\n",
       "    <tr>\n",
       "      <th>7</th>\n",
       "      <td>14380</td>\n",
       "      <td>20000</td>\n",
       "      <td>20000</td>\n",
       "      <td>19975.00000</td>\n",
       "      <td>36</td>\n",
       "      <td>654.68</td>\n",
       "      <td>1</td>\n",
       "    </tr>\n",
       "    <tr>\n",
       "      <th>8</th>\n",
       "      <td>28287</td>\n",
       "      <td>4975</td>\n",
       "      <td>4975</td>\n",
       "      <td>4975.00000</td>\n",
       "      <td>36</td>\n",
       "      <td>154.77</td>\n",
       "      <td>-1</td>\n",
       "    </tr>\n",
       "    <tr>\n",
       "      <th>9</th>\n",
       "      <td>30033</td>\n",
       "      <td>2100</td>\n",
       "      <td>2100</td>\n",
       "      <td>1075.00000</td>\n",
       "      <td>36</td>\n",
       "      <td>65.69</td>\n",
       "      <td>-1</td>\n",
       "    </tr>\n",
       "    <tr>\n",
       "      <th>10</th>\n",
       "      <td>15065</td>\n",
       "      <td>4000</td>\n",
       "      <td>4000</td>\n",
       "      <td>4000.00000</td>\n",
       "      <td>36</td>\n",
       "      <td>136.33</td>\n",
       "      <td>1</td>\n",
       "    </tr>\n",
       "    <tr>\n",
       "      <th>11</th>\n",
       "      <td>20041</td>\n",
       "      <td>6000</td>\n",
       "      <td>6000</td>\n",
       "      <td>6000.00000</td>\n",
       "      <td>36</td>\n",
       "      <td>183.00</td>\n",
       "      <td>-1</td>\n",
       "    </tr>\n",
       "    <tr>\n",
       "      <th>12</th>\n",
       "      <td>11378</td>\n",
       "      <td>5000</td>\n",
       "      <td>5000</td>\n",
       "      <td>5000.00000</td>\n",
       "      <td>36</td>\n",
       "      <td>174.85</td>\n",
       "      <td>1</td>\n",
       "    </tr>\n",
       "    <tr>\n",
       "      <th>13</th>\n",
       "      <td>33654</td>\n",
       "      <td>5000</td>\n",
       "      <td>5000</td>\n",
       "      <td>5000.00000</td>\n",
       "      <td>36</td>\n",
       "      <td>156.69</td>\n",
       "      <td>-1</td>\n",
       "    </tr>\n",
       "    <tr>\n",
       "      <th>14</th>\n",
       "      <td>21444</td>\n",
       "      <td>2800</td>\n",
       "      <td>2800</td>\n",
       "      <td>2800.00000</td>\n",
       "      <td>36</td>\n",
       "      <td>94.82</td>\n",
       "      <td>1</td>\n",
       "    </tr>\n",
       "    <tr>\n",
       "      <th>15</th>\n",
       "      <td>10673</td>\n",
       "      <td>10000</td>\n",
       "      <td>10000</td>\n",
       "      <td>10000.00000</td>\n",
       "      <td>36</td>\n",
       "      <td>327.34</td>\n",
       "      <td>1</td>\n",
       "    </tr>\n",
       "    <tr>\n",
       "      <th>16</th>\n",
       "      <td>36005</td>\n",
       "      <td>2000</td>\n",
       "      <td>2000</td>\n",
       "      <td>368.61549</td>\n",
       "      <td>36</td>\n",
       "      <td>64.91</td>\n",
       "      <td>1</td>\n",
       "    </tr>\n",
       "    <tr>\n",
       "      <th>17</th>\n",
       "      <td>13292</td>\n",
       "      <td>4075</td>\n",
       "      <td>4075</td>\n",
       "      <td>4075.00000</td>\n",
       "      <td>36</td>\n",
       "      <td>122.91</td>\n",
       "      <td>-1</td>\n",
       "    </tr>\n",
       "    <tr>\n",
       "      <th>18</th>\n",
       "      <td>28504</td>\n",
       "      <td>5000</td>\n",
       "      <td>5000</td>\n",
       "      <td>5000.00000</td>\n",
       "      <td>36</td>\n",
       "      <td>161.06</td>\n",
       "      <td>-1</td>\n",
       "    </tr>\n",
       "    <tr>\n",
       "      <th>19</th>\n",
       "      <td>4099</td>\n",
       "      <td>7800</td>\n",
       "      <td>7800</td>\n",
       "      <td>7800.00000</td>\n",
       "      <td>36</td>\n",
       "      <td>261.65</td>\n",
       "      <td>1</td>\n",
       "    </tr>\n",
       "  </tbody>\n",
       "</table>\n",
       "</div>"
      ],
      "text/plain": [
       "    index  loan_amnt  funded_amnt  funded_amnt_inv  term  installment  0\n",
       "0    6312      12000        12000      12000.00000    36       365.23  1\n",
       "1    5474       8000         8000       8000.00000    60       204.24  1\n",
       "2   16661       4000         4000       4000.00000    36       120.64  1\n",
       "3   24250       2000         2000       2000.00000    36        68.70 -1\n",
       "4    6902       4500         4500       4475.00000    36       138.17  1\n",
       "5   29492       6000         6000       5875.00000    36       193.27  1\n",
       "6   28106       7000         7000       6950.00000    36       218.97  1\n",
       "7   14380      20000        20000      19975.00000    36       654.68  1\n",
       "8   28287       4975         4975       4975.00000    36       154.77 -1\n",
       "9   30033       2100         2100       1075.00000    36        65.69 -1\n",
       "10  15065       4000         4000       4000.00000    36       136.33  1\n",
       "11  20041       6000         6000       6000.00000    36       183.00 -1\n",
       "12  11378       5000         5000       5000.00000    36       174.85  1\n",
       "13  33654       5000         5000       5000.00000    36       156.69 -1\n",
       "14  21444       2800         2800       2800.00000    36        94.82  1\n",
       "15  10673      10000        10000      10000.00000    36       327.34  1\n",
       "16  36005       2000         2000        368.61549    36        64.91  1\n",
       "17  13292       4075         4075       4075.00000    36       122.91 -1\n",
       "18  28504       5000         5000       5000.00000    36       161.06 -1\n",
       "19   4099       7800         7800       7800.00000    36       261.65  1"
      ]
     },
     "execution_count": 175,
     "metadata": {},
     "output_type": "execute_result"
    }
   ],
   "source": [
    "pd.concat([X_train.reset_index(),pd.Series(temp_lf)],axis=1).head(20)"
   ]
  },
  {
   "cell_type": "code",
   "execution_count": 176,
   "metadata": {},
   "outputs": [
    {
     "data": {
      "text/plain": [
       "array([  -1.        ,   -1.        ,   -1.        , ..., -208.23027067,\n",
       "         -1.14168098,   -1.27352062])"
      ]
     },
     "execution_count": 176,
     "metadata": {},
     "output_type": "execute_result"
    }
   ],
   "source": [
    "# lf.decision_function(X_train)\n",
    "lf.negative_outlier_factor_\n"
   ]
  },
  {
   "cell_type": "markdown",
   "metadata": {},
   "source": [
    "#### The opposite LOF of the training samples. The higher, the more normal. \n",
    "#### Inliers tend to have a LOF score close to 1 (negative_outlier_factor_ close to -1), while outliers tend to have a larger LOF score."
   ]
  },
  {
   "cell_type": "code",
   "execution_count": 177,
   "metadata": {},
   "outputs": [],
   "source": [
    "#C:\\Users\\I324158\\OneDrive - SAP SE\\Desktop\\ML\\Data_Rough\\Dataset\\fake-news\n",
    "text_data = pd.read_csv(r\"C:\\Users\\I324158\\OneDrive - SAP SE\\Desktop\\ML\\Data_Rough\\Dataset\\fake-news\\train.csv\")"
   ]
  },
  {
   "cell_type": "code",
   "execution_count": 178,
   "metadata": {},
   "outputs": [
    {
     "data": {
      "text/plain": [
       "(20800, 5)"
      ]
     },
     "execution_count": 178,
     "metadata": {},
     "output_type": "execute_result"
    }
   ],
   "source": [
    "text_data.shape"
   ]
  },
  {
   "cell_type": "code",
   "execution_count": 179,
   "metadata": {},
   "outputs": [],
   "source": [
    "text_data = text_data[:100]"
   ]
  },
  {
   "cell_type": "code",
   "execution_count": 180,
   "metadata": {
    "scrolled": false
   },
   "outputs": [
    {
     "data": {
      "text/plain": [
       "id        0\n",
       "title     0\n",
       "author    0\n",
       "text      0\n",
       "label     0\n",
       "dtype: int64"
      ]
     },
     "execution_count": 180,
     "metadata": {},
     "output_type": "execute_result"
    }
   ],
   "source": [
    "text_data.head()\n",
    "text_data.fillna(\"unknown\",inplace=True)\n",
    "text_data.isna().sum()"
   ]
  },
  {
   "cell_type": "code",
   "execution_count": 181,
   "metadata": {},
   "outputs": [
    {
     "data": {
      "text/html": [
       "<div>\n",
       "<style scoped>\n",
       "    .dataframe tbody tr th:only-of-type {\n",
       "        vertical-align: middle;\n",
       "    }\n",
       "\n",
       "    .dataframe tbody tr th {\n",
       "        vertical-align: top;\n",
       "    }\n",
       "\n",
       "    .dataframe thead th {\n",
       "        text-align: right;\n",
       "    }\n",
       "</style>\n",
       "<table border=\"1\" class=\"dataframe\">\n",
       "  <thead>\n",
       "    <tr style=\"text-align: right;\">\n",
       "      <th></th>\n",
       "      <th>id</th>\n",
       "      <th>title</th>\n",
       "      <th>author</th>\n",
       "      <th>text</th>\n",
       "      <th>label</th>\n",
       "    </tr>\n",
       "  </thead>\n",
       "  <tbody>\n",
       "    <tr>\n",
       "      <th>0</th>\n",
       "      <td>0</td>\n",
       "      <td>House Dem Aide: We Didn’t Even See Comey’s Let...</td>\n",
       "      <td>Darrell Lucus</td>\n",
       "      <td>House Dem Aide: We Didn’t Even See Comey’s Let...</td>\n",
       "      <td>1</td>\n",
       "    </tr>\n",
       "    <tr>\n",
       "      <th>1</th>\n",
       "      <td>1</td>\n",
       "      <td>FLYNN: Hillary Clinton, Big Woman on Campus - ...</td>\n",
       "      <td>Daniel J. Flynn</td>\n",
       "      <td>Ever get the feeling your life circles the rou...</td>\n",
       "      <td>0</td>\n",
       "    </tr>\n",
       "    <tr>\n",
       "      <th>2</th>\n",
       "      <td>2</td>\n",
       "      <td>Why the Truth Might Get You Fired</td>\n",
       "      <td>Consortiumnews.com</td>\n",
       "      <td>Why the Truth Might Get You Fired October 29, ...</td>\n",
       "      <td>1</td>\n",
       "    </tr>\n",
       "    <tr>\n",
       "      <th>3</th>\n",
       "      <td>3</td>\n",
       "      <td>15 Civilians Killed In Single US Airstrike Hav...</td>\n",
       "      <td>Jessica Purkiss</td>\n",
       "      <td>Videos 15 Civilians Killed In Single US Airstr...</td>\n",
       "      <td>1</td>\n",
       "    </tr>\n",
       "    <tr>\n",
       "      <th>4</th>\n",
       "      <td>4</td>\n",
       "      <td>Iranian woman jailed for fictional unpublished...</td>\n",
       "      <td>Howard Portnoy</td>\n",
       "      <td>Print \\nAn Iranian woman has been sentenced to...</td>\n",
       "      <td>1</td>\n",
       "    </tr>\n",
       "  </tbody>\n",
       "</table>\n",
       "</div>"
      ],
      "text/plain": [
       "   id                                              title              author  \\\n",
       "0   0  House Dem Aide: We Didn’t Even See Comey’s Let...       Darrell Lucus   \n",
       "1   1  FLYNN: Hillary Clinton, Big Woman on Campus - ...     Daniel J. Flynn   \n",
       "2   2                  Why the Truth Might Get You Fired  Consortiumnews.com   \n",
       "3   3  15 Civilians Killed In Single US Airstrike Hav...     Jessica Purkiss   \n",
       "4   4  Iranian woman jailed for fictional unpublished...      Howard Portnoy   \n",
       "\n",
       "                                                text  label  \n",
       "0  House Dem Aide: We Didn’t Even See Comey’s Let...      1  \n",
       "1  Ever get the feeling your life circles the rou...      0  \n",
       "2  Why the Truth Might Get You Fired October 29, ...      1  \n",
       "3  Videos 15 Civilians Killed In Single US Airstr...      1  \n",
       "4  Print \\nAn Iranian woman has been sentenced to...      1  "
      ]
     },
     "execution_count": 181,
     "metadata": {},
     "output_type": "execute_result"
    }
   ],
   "source": [
    "text_data.head()"
   ]
  },
  {
   "cell_type": "code",
   "execution_count": 182,
   "metadata": {},
   "outputs": [],
   "source": [
    "from sklearn.feature_extraction.text import CountVectorizer"
   ]
  },
  {
   "cell_type": "code",
   "execution_count": 183,
   "metadata": {},
   "outputs": [],
   "source": [
    "cv = CountVectorizer()\n",
    "temp_title = cv.fit_transform(text_data[\"title\"])"
   ]
  },
  {
   "cell_type": "code",
   "execution_count": 184,
   "metadata": {},
   "outputs": [
    {
     "data": {
      "text/plain": [
       "array([[0, 0, 0, ..., 0, 0, 0],\n",
       "       [0, 0, 0, ..., 0, 0, 0],\n",
       "       [0, 0, 0, ..., 0, 0, 0],\n",
       "       ...,\n",
       "       [0, 0, 0, ..., 0, 0, 0],\n",
       "       [0, 0, 0, ..., 0, 0, 0],\n",
       "       [0, 0, 0, ..., 0, 0, 0]], dtype=int64)"
      ]
     },
     "execution_count": 184,
     "metadata": {},
     "output_type": "execute_result"
    }
   ],
   "source": [
    "temp_title.toarray()"
   ]
  },
  {
   "cell_type": "code",
   "execution_count": 185,
   "metadata": {
    "scrolled": false
   },
   "outputs": [
    {
     "data": {
      "text/plain": [
       "{'house': 297,\n",
       " 'dem': 171,\n",
       " 'aide': 26,\n",
       " 'we': 662,\n",
       " 'didn': 180,\n",
       " 'even': 217,\n",
       " 'see': 551,\n",
       " 'comey': 146,\n",
       " 'letter': 362,\n",
       " 'until': 642,\n",
       " 'jason': 334,\n",
       " 'chaffetz': 121,\n",
       " 'tweeted': 633,\n",
       " 'it': 330,\n",
       " 'flynn': 246,\n",
       " 'hillary': 291,\n",
       " 'clinton': 136,\n",
       " 'big': 83,\n",
       " 'woman': 680,\n",
       " 'on': 447,\n",
       " 'campus': 113,\n",
       " 'breitbart': 97,\n",
       " 'why': 672,\n",
       " 'the': 605,\n",
       " 'truth': 628,\n",
       " 'might': 400,\n",
       " 'get': 264,\n",
       " 'you': 692,\n",
       " 'fired': 244,\n",
       " '15': 3,\n",
       " 'civilians': 133,\n",
       " 'killed': 346,\n",
       " 'in': 310,\n",
       " 'single': 560,\n",
       " 'us': 646,\n",
       " 'airstrike': 28,\n",
       " 'have': 281,\n",
       " 'been': 76,\n",
       " 'identified': 305,\n",
       " 'iranian': 324,\n",
       " 'jailed': 332,\n",
       " 'for': 249,\n",
       " 'fictional': 239,\n",
       " 'unpublished': 640,\n",
       " 'story': 583,\n",
       " 'about': 16,\n",
       " 'stoned': 582,\n",
       " 'to': 613,\n",
       " 'death': 168,\n",
       " 'adultery': 21,\n",
       " 'jackie': 331,\n",
       " 'mason': 389,\n",
       " 'hollywood': 294,\n",
       " 'would': 687,\n",
       " 'love': 378,\n",
       " 'trump': 627,\n",
       " 'if': 306,\n",
       " 'he': 284,\n",
       " 'bombed': 92,\n",
       " 'north': 431,\n",
       " 'korea': 349,\n",
       " 'over': 459,\n",
       " 'lack': 350,\n",
       " 'of': 442,\n",
       " 'trans': 615,\n",
       " 'bathrooms': 69,\n",
       " 'exclusive': 222,\n",
       " 'video': 650,\n",
       " 'life': 365,\n",
       " 'luxury': 380,\n",
       " 'elton': 210,\n",
       " 'john': 338,\n",
       " 'favorite': 233,\n",
       " 'shark': 557,\n",
       " 'pictures': 476,\n",
       " 'stare': 576,\n",
       " 'at': 55,\n",
       " 'during': 200,\n",
       " 'long': 375,\n",
       " 'transcontinental': 616,\n",
       " 'flights': 245,\n",
       " 'benoît': 79,\n",
       " 'hamon': 277,\n",
       " 'wins': 675,\n",
       " 'french': 256,\n",
       " 'socialist': 567,\n",
       " 'party': 466,\n",
       " 'presidential': 493,\n",
       " 'nomination': 430,\n",
       " 'new': 426,\n",
       " 'york': 691,\n",
       " 'times': 611,\n",
       " 'excerpts': 221,\n",
       " 'from': 257,\n",
       " 'draft': 192,\n",
       " 'script': 548,\n",
       " 'donald': 189,\n",
       " 'ampa': 36,\n",
       " 'with': 677,\n",
       " 'black': 89,\n",
       " 'church': 131,\n",
       " 'pastor': 468,\n",
       " 'back': 62,\n",
       " 'channel': 123,\n",
       " 'plan': 481,\n",
       " 'ukraine': 635,\n",
       " 'and': 38,\n",
       " 'russia': 540,\n",
       " 'courtesy': 154,\n",
       " 'associates': 54,\n",
       " 'obama': 440,\n",
       " 'organizing': 454,\n",
       " 'action': 20,\n",
       " 'partners': 465,\n",
       " 'soros': 568,\n",
       " 'linked': 369,\n",
       " 'indivisible': 314,\n",
       " 'disrupt': 184,\n",
       " 'agenda': 24,\n",
       " 'bbc': 71,\n",
       " 'comedy': 145,\n",
       " 'sketch': 561,\n",
       " 'real': 509,\n",
       " 'housewives': 298,\n",
       " 'isis': 326,\n",
       " 'causes': 119,\n",
       " 'outrage': 458,\n",
       " 'russian': 541,\n",
       " 'researchers': 521,\n",
       " 'discover': 183,\n",
       " 'secret': 550,\n",
       " 'nazi': 424,\n",
       " 'military': 404,\n",
       " 'base': 66,\n",
       " 'treasure': 621,\n",
       " 'hunter': 304,\n",
       " 'arctic': 44,\n",
       " 'photos': 475,\n",
       " 'officials': 444,\n",
       " 'no': 428,\n",
       " 'link': 368,\n",
       " 'between': 82,\n",
       " 're': 508,\n",
       " 'yes': 690,\n",
       " 'there': 606,\n",
       " 'are': 45,\n",
       " 'paid': 462,\n",
       " 'government': 270,\n",
       " 'trolls': 625,\n",
       " 'social': 566,\n",
       " 'media': 396,\n",
       " 'blogs': 91,\n",
       " 'forums': 253,\n",
       " 'websites': 664,\n",
       " 'major': 382,\n",
       " 'league': 357,\n",
       " 'soccer': 565,\n",
       " 'argentines': 47,\n",
       " 'find': 242,\n",
       " 'home': 295,\n",
       " 'success': 590,\n",
       " 'wells': 667,\n",
       " 'fargo': 229,\n",
       " 'chief': 128,\n",
       " 'abruptly': 17,\n",
       " 'steps': 580,\n",
       " 'down': 191,\n",
       " 'anonymous': 40,\n",
       " 'donor': 190,\n",
       " 'pays': 470,\n",
       " 'million': 406,\n",
       " 'release': 515,\n",
       " 'everyone': 220,\n",
       " 'arrested': 48,\n",
       " 'dakota': 163,\n",
       " 'access': 18,\n",
       " 'pipeline': 479,\n",
       " 'fbi': 234,\n",
       " 'closes': 138,\n",
       " 'chuck': 130,\n",
       " 'todd': 614,\n",
       " 'buzzfeed': 106,\n",
       " 'did': 179,\n",
       " 'political': 486,\n",
       " 'favor': 232,\n",
       " 'news': 427,\n",
       " 'hope': 296,\n",
       " 'gop': 269,\n",
       " 'nude': 436,\n",
       " 'paul': 469,\n",
       " 'ryan': 542,\n",
       " 'has': 280,\n",
       " 'just': 344,\n",
       " 'emerged': 212,\n",
       " 'an': 37,\n",
       " 'ayahuasca': 60,\n",
       " 'tent': 600,\n",
       " 'visions': 653,\n",
       " 'republican': 520,\n",
       " 'monica': 411,\n",
       " 'lewinsky': 363,\n",
       " 'sex': 555,\n",
       " 'scandal': 547,\n",
       " 'set': 554,\n",
       " 'american': 34,\n",
       " 'crime': 158,\n",
       " 'rob': 533,\n",
       " 'reiner': 514,\n",
       " 'is': 325,\n",
       " 'mentally': 398,\n",
       " 'unstable': 641,\n",
       " 'massachusetts': 390,\n",
       " 'cop': 152,\n",
       " 'wife': 673,\n",
       " 'busted': 104,\n",
       " 'pinning': 478,\n",
       " 'fake': 227,\n",
       " 'invasion': 320,\n",
       " 'robbery': 534,\n",
       " 'lives': 373,\n",
       " 'matter': 393,\n",
       " 'abortion': 15,\n",
       " 'pill': 477,\n",
       " 'orders': 451,\n",
       " 'rise': 532,\n",
       " 'latin': 353,\n",
       " 'nations': 422,\n",
       " 'zika': 695,\n",
       " 'alert': 29,\n",
       " 'nukes': 437,\n",
       " 'un': 636,\n",
       " 'historic': 292,\n",
       " 'treaty': 622,\n",
       " 'ban': 65,\n",
       " 'nuclear': 435,\n",
       " 'weapons': 663,\n",
       " 'islamic': 328,\n",
       " 'state': 579,\n",
       " 'supporters': 593,\n",
       " 'vow': 656,\n",
       " 'shake': 556,\n",
       " 'west': 668,\n",
       " 'following': 247,\n",
       " 'manchester': 387,\n",
       " 'terrorist': 601,\n",
       " 'massacre': 391,\n",
       " 'humiliated': 303,\n",
       " 'tries': 624,\n",
       " 'hide': 290,\n",
       " 'what': 669,\n",
       " 'camera': 110,\n",
       " 'caught': 118,\n",
       " 'mins': 408,\n",
       " 'before': 77,\n",
       " 'rally': 507,\n",
       " 'andrea': 39,\n",
       " 'tantaros': 596,\n",
       " 'fox': 254,\n",
       " 'claims': 134,\n",
       " 'retaliation': 526,\n",
       " 'harassment': 278,\n",
       " 'complaints': 147,\n",
       " 'how': 299,\n",
       " 'became': 73,\n",
       " 'hawk': 283,\n",
       " 'eic': 206,\n",
       " 'published': 502,\n",
       " 'israel': 329,\n",
       " 'becoming': 74,\n",
       " 'pivotal': 480,\n",
       " 'china': 129,\n",
       " 'mid': 399,\n",
       " 'eastern': 203,\n",
       " 'calculus': 108,\n",
       " 'http': 300,\n",
       " 'journal': 340,\n",
       " 'neo': 425,\n",
       " 'org': 453,\n",
       " '2016': 5,\n",
       " '11': 2,\n",
       " '07': 1,\n",
       " 'having': 282,\n",
       " 'won': 682,\n",
       " 'boris': 95,\n",
       " 'johnson': 339,\n",
       " 'brexit': 99,\n",
       " 'leaders': 355,\n",
       " 'fumble': 258,\n",
       " 'texas': 602,\n",
       " 'oil': 445,\n",
       " 'fields': 240,\n",
       " 'rebound': 510,\n",
       " 'price': 497,\n",
       " 'lull': 379,\n",
       " 'but': 105,\n",
       " 'jobs': 337,\n",
       " 'left': 360,\n",
       " 'behind': 78,\n",
       " 'bayer': 70,\n",
       " 'deal': 167,\n",
       " 'monsanto': 412,\n",
       " 'follows': 248,\n",
       " 'agribusiness': 25,\n",
       " 'trend': 623,\n",
       " 'raising': 506,\n",
       " 'worries': 685,\n",
       " 'farmers': 230,\n",
       " 'moves': 417,\n",
       " 'jehovah': 335,\n",
       " 'witnesses': 679,\n",
       " 'as': 49,\n",
       " 'extremist': 225,\n",
       " 'still': 581,\n",
       " 'danger': 164,\n",
       " 'zone': 696,\n",
       " 'january': 333,\n",
       " '20th': 9,\n",
       " '2017': 6,\n",
       " 'open': 449,\n",
       " 'thread': 608,\n",
       " 'not': 432,\n",
       " 'election': 208,\n",
       " '39': 10,\n",
       " 'democrat': 172,\n",
       " 'gutierrez': 273,\n",
       " 'blames': 90,\n",
       " 'chicago': 127,\n",
       " 'gun': 272,\n",
       " 'violence': 652,\n",
       " 'nra': 434,\n",
       " 'avoiding': 58,\n",
       " 'peanuts': 471,\n",
       " 'avoid': 57,\n",
       " 'allergy': 31,\n",
       " 'bad': 63,\n",
       " 'strategy': 585,\n",
       " 'most': 415,\n",
       " 'mri': 419,\n",
       " 'shows': 558,\n",
       " 'detailed': 177,\n",
       " 'images': 307,\n",
       " '20': 4,\n",
       " 'week': 665,\n",
       " 'unborn': 637,\n",
       " 'babies': 61,\n",
       " 'best': 81,\n",
       " 'kinds': 347,\n",
       " 'milk': 405,\n",
       " 'that': 604,\n",
       " 'aren': 46,\n",
       " 'dairy': 162,\n",
       " 'lochte': 374,\n",
       " 'dropped': 196,\n",
       " 'by': 107,\n",
       " 'speedo': 573,\n",
       " 'usa': 647,\n",
       " 'other': 456,\n",
       " 'retailers': 524,\n",
       " 'can': 114,\n",
       " 'one': 448,\n",
       " 'girlfriend': 265,\n",
       " 'without': 678,\n",
       " 'bastards': 68,\n",
       " 'king': 348,\n",
       " 'up': 644,\n",
       " 'asks': 52,\n",
       " 'harry': 279,\n",
       " 'conservatives': 150,\n",
       " 'urge': 645,\n",
       " 'sessions': 553,\n",
       " 'clean': 135,\n",
       " 'out': 457,\n",
       " 'civil': 132,\n",
       " 'rights': 531,\n",
       " 'division': 186,\n",
       " 'internal': 318,\n",
       " 'inquiry': 316,\n",
       " 'sealed': 549,\n",
       " 'fate': 231,\n",
       " 'roger': 535,\n",
       " 'ailes': 27,\n",
       " 'press': 494,\n",
       " 'tv': 631,\n",
       " 'debate': 169,\n",
       " 'duff': 199,\n",
       " 'lebanon': 359,\n",
       " 'hezbollah': 289,\n",
       " 'aoun': 43,\n",
       " 'presidency': 491,\n",
       " 'videos': 651,\n",
       " 'сми': 701,\n",
       " 'сербии': 700,\n",
       " 'приписали': 698,\n",
       " 'россиянам': 699,\n",
       " 'подготовку': 697,\n",
       " 'терактов': 702,\n",
       " 'черногории': 703,\n",
       " 'samsung': 544,\n",
       " 'after': 22,\n",
       " 'combustible': 143,\n",
       " 'galaxy': 260,\n",
       " 'note': 433,\n",
       " 'unveils': 643,\n",
       " 'smartphone': 564,\n",
       " 'poland': 484,\n",
       " 'vows': 657,\n",
       " 'referendum': 513,\n",
       " 'migrant': 401,\n",
       " 'quota': 504,\n",
       " 'amidst': 35,\n",
       " 'eu': 215,\n",
       " 'pressure': 496,\n",
       " 'public': 501,\n",
       " 'voice': 654,\n",
       " 'will': 674,\n",
       " 'be': 72,\n",
       " 'heard': 286,\n",
       " 'sparking': 571,\n",
       " 'inner': 315,\n",
       " 'revolution': 529,\n",
       " 'dueling': 198,\n",
       " 'drills': 194,\n",
       " 'further': 259,\n",
       " 'increase': 311,\n",
       " 'nato': 423,\n",
       " 'tensions': 599,\n",
       " 'study': 588,\n",
       " 'more': 414,\n",
       " 'than': 603,\n",
       " 'half': 276,\n",
       " 'car': 117,\n",
       " 'crashes': 157,\n",
       " 'involve': 323,\n",
       " 'drivers': 195,\n",
       " 'distracted': 185,\n",
       " 'cell': 120,\n",
       " 'phones': 474,\n",
       " 'unknown': 639,\n",
       " 'samantha': 543,\n",
       " 'bee': 75,\n",
       " 'explores': 224,\n",
       " 'dangerous': 165,\n",
       " 'alt': 32,\n",
       " 'right': 530,\n",
       " 'politics': 487,\n",
       " 'spark': 570,\n",
       " 'individual': 313,\n",
       " 'collective': 142,\n",
       " 'healing': 285,\n",
       " 'ep': 214,\n",
       " '544': 12,\n",
       " 'fade': 226,\n",
       " 'jimmy': 336,\n",
       " 'laura': 354,\n",
       " 'eisenhower': 207,\n",
       " 'restoring': 523,\n",
       " 'balance': 64,\n",
       " 'cognition': 139,\n",
       " 'true': 626,\n",
       " 'islam': 327,\n",
       " 'book': 93,\n",
       " 'review': 528,\n",
       " 'biggest': 84,\n",
       " 'miracle': 409,\n",
       " 'history': 293,\n",
       " 'mindful': 407,\n",
       " 'eating': 204,\n",
       " 'way': 661,\n",
       " 'fight': 241,\n",
       " 'bingeing': 86,\n",
       " 'potential': 489,\n",
       " 'impact': 309,\n",
       " 'corporate': 153,\n",
       " 'tax': 597,\n",
       " 'overhaul': 460,\n",
       " 'wonder': 683,\n",
       " 'glp': 267,\n",
       " 'like': 367,\n",
       " 'day': 166,\n",
       " 'makers': 384,\n",
       " 'world': 684,\n",
       " 'smallest': 563,\n",
       " 'machines': 381,\n",
       " 'awarded': 59,\n",
       " 'nobel': 429,\n",
       " 'prize': 498,\n",
       " 'chemistry': 126,\n",
       " 'massive': 392,\n",
       " 'anti': 41,\n",
       " 'protests': 500,\n",
       " 'union': 638,\n",
       " 'square': 574,\n",
       " 'nyc': 438,\n",
       " 'live': 372,\n",
       " 'stream': 586,\n",
       " 'lion': 370,\n",
       " 'brings': 101,\n",
       " 'tears': 598,\n",
       " 'lost': 376,\n",
       " 'boy': 96,\n",
       " 'wiped': 676,\n",
       " 'dry': 197,\n",
       " 'google': 268,\n",
       " 'general': 262,\n",
       " 'chemical': 125,\n",
       " 'attack': 56,\n",
       " 'had': 275,\n",
       " 'forces': 251,\n",
       " 'jury': 343,\n",
       " 'finds': 243,\n",
       " 'all': 30,\n",
       " 'oregon': 452,\n",
       " 'standoff': 575,\n",
       " 'defendants': 170,\n",
       " 'guilty': 271,\n",
       " 'federal': 235,\n",
       " 'conspiracy': 151,\n",
       " 'charges': 124,\n",
       " 'campaign': 112,\n",
       " 'stunned': 589,\n",
       " 'reportedly': 517,\n",
       " 'reopens': 516,\n",
       " 'probe': 499,\n",
       " 'into': 319,\n",
       " 'emails': 211,\n",
       " 'pence': 472,\n",
       " 'speak': 572,\n",
       " 'bernie': 80,\n",
       " 'sanders': 545,\n",
       " 'says': 546,\n",
       " 'gutless': 274,\n",
       " 'coward': 156,\n",
       " 'make': 383,\n",
       " 'briquettes': 102,\n",
       " 'daily': 161,\n",
       " 'waste': 660,\n",
       " 'treason': 620,\n",
       " 'nyt': 439,\n",
       " 'rededication': 511,\n",
       " 'reporting': 519,\n",
       " 'dress': 193,\n",
       " 'does': 187,\n",
       " 'mean': 395,\n",
       " '91': 14,\n",
       " 'ella': 209,\n",
       " 'brennan': 98,\n",
       " 'feeds': 236,\n",
       " 'leads': 356,\n",
       " 'orleans': 455,\n",
       " 'pressing': 495,\n",
       " 'asia': 51,\n",
       " 'treads': 619,\n",
       " 'lightly': 366,\n",
       " 'human': 302,\n",
       " 'democrats': 174,\n",
       " '60': 13,\n",
       " 'percent': 473,\n",
       " 'chance': 122,\n",
       " 'retake': 525,\n",
       " 'senate': 552,\n",
       " 'pr': 490,\n",
       " 'disaster': 182,\n",
       " 'president': 492,\n",
       " 'panasonic': 463,\n",
       " 'forced': 250,\n",
       " 'resign': 522,\n",
       " '000': 0,\n",
       " 'tvs': 632,\n",
       " 'ascended': 50,\n",
       " 'heaven': 287,\n",
       " 'warning': 659,\n",
       " 'judge': 341,\n",
       " 'spanks': 569,\n",
       " 'transgender': 618,\n",
       " 'obsessed': 441,\n",
       " 'lie': 364,\n",
       " 'redflag': 512,\n",
       " '51': 11,\n",
       " 'diplomats': 181,\n",
       " 'strikes': 587,\n",
       " 'against': 23,\n",
       " 'assad': 53,\n",
       " 'syria': 594,\n",
       " 'franken': 255,\n",
       " 'calls': 109,\n",
       " 'independent': 312,\n",
       " 'investigation': 321,\n",
       " 'putin': 503,\n",
       " 'crush': 159,\n",
       " 'louisiana': 377,\n",
       " 'simone': 559,\n",
       " 'biles': 85,\n",
       " 'race': 505,\n",
       " 'your': 693,\n",
       " 'tuesday': 629,\n",
       " 'evening': 218,\n",
       " 'briefing': 100,\n",
       " 'turkey': 630,\n",
       " 'threatens': 609,\n",
       " 'land': 351,\n",
       " 'passage': 467,\n",
       " 'europe': 216,\n",
       " 'row': 537,\n",
       " 'dutch': 201,\n",
       " 'huma': 301,\n",
       " 'weiner': 666,\n",
       " 'dogs': 188,\n",
       " 'colin': 140,\n",
       " 'kaepernick': 345,\n",
       " 'starts': 578,\n",
       " 'panther': 464,\n",
       " 'inspired': 317,\n",
       " 'youth': 694,\n",
       " 'camp': 111,\n",
       " 'wow': 688,\n",
       " 'immigration': 308,\n",
       " 'policies': 485,\n",
       " 'explained': 223,\n",
       " 'mary': 388,\n",
       " 'tyler': 634,\n",
       " 'moore': 413,\n",
       " 'mourned': 416,\n",
       " 'dick': 178,\n",
       " 'van': 648,\n",
       " 'dyke': 202,\n",
       " 'stars': 577,\n",
       " 'poison': 483,\n",
       " 'fans': 228,\n",
       " 'across': 19,\n",
       " 'nation': 421,\n",
       " 'support': 592,\n",
       " 'biz': 88,\n",
       " 'reporter': 518,\n",
       " 'help': 288,\n",
       " 'bash': 67,\n",
       " 'covering': 155,\n",
       " 'packed': 461,\n",
       " 'event': 219,\n",
       " 'fiction': 238,\n",
       " 'podcasts': 482,\n",
       " 'worth': 686,\n",
       " 'listen': 371,\n",
       " 'mike': 403,\n",
       " 'birbiglia': 87,\n",
       " 'tips': 612,\n",
       " 'making': 385,\n",
       " 'small': 562,\n",
       " 'or': 450,\n",
       " 'anywhere': 42,\n",
       " 'investment': 322,\n",
       " 'strategist': 584,\n",
       " 'forecasts': 252,\n",
       " 'collapse': 141,\n",
       " 'timeline': 610,\n",
       " 'last': 352,\n",
       " 'gasp': 261,\n",
       " 'this': 607,\n",
       " 'economic': 205,\n",
       " 'cycle': 160,\n",
       " 'come': 144,\n",
       " '2018': 7,\n",
       " 'venezuela': 649,\n",
       " 'muzzles': 420,\n",
       " 'legislature': 361,\n",
       " 'moving': 418,\n",
       " 'closer': 137,\n",
       " 'man': 386,\n",
       " 'rule': 538,\n",
       " 'whether': 670,\n",
       " 'mccain': 394,\n",
       " 'mitt': 410,\n",
       " 'romney': 536,\n",
       " 'always': 33,\n",
       " 'run': 539,\n",
       " 'war': 658,\n",
       " 'women': 681,\n",
       " 'tactic': 595,\n",
       " 'destroy': 176,\n",
       " 'candidate': 115,\n",
       " 'boom': 94,\n",
       " 'white': 671,\n",
       " 'confirms': 148,\n",
       " 'gitmo': 266,\n",
       " 'transfers': 617,\n",
       " 'leaves': 358,\n",
       " 'office': 443,\n",
       " 'geometry': 263,\n",
       " 'energy': 213,\n",
       " 'meditation': 397,\n",
       " 'buddha': 103,\n",
       " 'poll': 488,\n",
       " 'voters': 655,\n",
       " 'democratic': 173,\n",
       " '2020': 8,\n",
       " 'candidates': 116,\n",
       " 'migrants': 402,\n",
       " 'confront': 149,\n",
       " 'judgment': 342,\n",
       " 'old': 446,\n",
       " 'deportation': 175,\n",
       " 'yale': 689,\n",
       " 'sued': 591,\n",
       " 'retirement': 527,\n",
       " 'fees': 237}"
      ]
     },
     "execution_count": 185,
     "metadata": {},
     "output_type": "execute_result"
    }
   ],
   "source": [
    "cv.vocabulary_"
   ]
  },
  {
   "cell_type": "code",
   "execution_count": 186,
   "metadata": {
    "scrolled": false
   },
   "outputs": [
    {
     "data": {
      "text/plain": [
       "['000',\n",
       " '07',\n",
       " '11',\n",
       " '15',\n",
       " '20',\n",
       " '2016',\n",
       " '2017',\n",
       " '2018',\n",
       " '2020',\n",
       " '20th',\n",
       " '39',\n",
       " '51',\n",
       " '544',\n",
       " '60',\n",
       " '91',\n",
       " 'abortion',\n",
       " 'about',\n",
       " 'abruptly',\n",
       " 'access',\n",
       " 'across',\n",
       " 'action',\n",
       " 'adultery',\n",
       " 'after',\n",
       " 'against',\n",
       " 'agenda',\n",
       " 'agribusiness',\n",
       " 'aide',\n",
       " 'ailes',\n",
       " 'airstrike',\n",
       " 'alert',\n",
       " 'all',\n",
       " 'allergy',\n",
       " 'alt',\n",
       " 'always',\n",
       " 'american',\n",
       " 'amidst',\n",
       " 'ampa',\n",
       " 'an',\n",
       " 'and',\n",
       " 'andrea',\n",
       " 'anonymous',\n",
       " 'anti',\n",
       " 'anywhere',\n",
       " 'aoun',\n",
       " 'arctic',\n",
       " 'are',\n",
       " 'aren',\n",
       " 'argentines',\n",
       " 'arrested',\n",
       " 'as',\n",
       " 'ascended',\n",
       " 'asia',\n",
       " 'asks',\n",
       " 'assad',\n",
       " 'associates',\n",
       " 'at',\n",
       " 'attack',\n",
       " 'avoid',\n",
       " 'avoiding',\n",
       " 'awarded',\n",
       " 'ayahuasca',\n",
       " 'babies',\n",
       " 'back',\n",
       " 'bad',\n",
       " 'balance',\n",
       " 'ban',\n",
       " 'base',\n",
       " 'bash',\n",
       " 'bastards',\n",
       " 'bathrooms',\n",
       " 'bayer',\n",
       " 'bbc',\n",
       " 'be',\n",
       " 'became',\n",
       " 'becoming',\n",
       " 'bee',\n",
       " 'been',\n",
       " 'before',\n",
       " 'behind',\n",
       " 'benoît',\n",
       " 'bernie',\n",
       " 'best',\n",
       " 'between',\n",
       " 'big',\n",
       " 'biggest',\n",
       " 'biles',\n",
       " 'bingeing',\n",
       " 'birbiglia',\n",
       " 'biz',\n",
       " 'black',\n",
       " 'blames',\n",
       " 'blogs',\n",
       " 'bombed',\n",
       " 'book',\n",
       " 'boom',\n",
       " 'boris',\n",
       " 'boy',\n",
       " 'breitbart',\n",
       " 'brennan',\n",
       " 'brexit',\n",
       " 'briefing',\n",
       " 'brings',\n",
       " 'briquettes',\n",
       " 'buddha',\n",
       " 'busted',\n",
       " 'but',\n",
       " 'buzzfeed',\n",
       " 'by',\n",
       " 'calculus',\n",
       " 'calls',\n",
       " 'camera',\n",
       " 'camp',\n",
       " 'campaign',\n",
       " 'campus',\n",
       " 'can',\n",
       " 'candidate',\n",
       " 'candidates',\n",
       " 'car',\n",
       " 'caught',\n",
       " 'causes',\n",
       " 'cell',\n",
       " 'chaffetz',\n",
       " 'chance',\n",
       " 'channel',\n",
       " 'charges',\n",
       " 'chemical',\n",
       " 'chemistry',\n",
       " 'chicago',\n",
       " 'chief',\n",
       " 'china',\n",
       " 'chuck',\n",
       " 'church',\n",
       " 'civil',\n",
       " 'civilians',\n",
       " 'claims',\n",
       " 'clean',\n",
       " 'clinton',\n",
       " 'closer',\n",
       " 'closes',\n",
       " 'cognition',\n",
       " 'colin',\n",
       " 'collapse',\n",
       " 'collective',\n",
       " 'combustible',\n",
       " 'come',\n",
       " 'comedy',\n",
       " 'comey',\n",
       " 'complaints',\n",
       " 'confirms',\n",
       " 'confront',\n",
       " 'conservatives',\n",
       " 'conspiracy',\n",
       " 'cop',\n",
       " 'corporate',\n",
       " 'courtesy',\n",
       " 'covering',\n",
       " 'coward',\n",
       " 'crashes',\n",
       " 'crime',\n",
       " 'crush',\n",
       " 'cycle',\n",
       " 'daily',\n",
       " 'dairy',\n",
       " 'dakota',\n",
       " 'danger',\n",
       " 'dangerous',\n",
       " 'day',\n",
       " 'deal',\n",
       " 'death',\n",
       " 'debate',\n",
       " 'defendants',\n",
       " 'dem',\n",
       " 'democrat',\n",
       " 'democratic',\n",
       " 'democrats',\n",
       " 'deportation',\n",
       " 'destroy',\n",
       " 'detailed',\n",
       " 'dick',\n",
       " 'did',\n",
       " 'didn',\n",
       " 'diplomats',\n",
       " 'disaster',\n",
       " 'discover',\n",
       " 'disrupt',\n",
       " 'distracted',\n",
       " 'division',\n",
       " 'does',\n",
       " 'dogs',\n",
       " 'donald',\n",
       " 'donor',\n",
       " 'down',\n",
       " 'draft',\n",
       " 'dress',\n",
       " 'drills',\n",
       " 'drivers',\n",
       " 'dropped',\n",
       " 'dry',\n",
       " 'dueling',\n",
       " 'duff',\n",
       " 'during',\n",
       " 'dutch',\n",
       " 'dyke',\n",
       " 'eastern',\n",
       " 'eating',\n",
       " 'economic',\n",
       " 'eic',\n",
       " 'eisenhower',\n",
       " 'election',\n",
       " 'ella',\n",
       " 'elton',\n",
       " 'emails',\n",
       " 'emerged',\n",
       " 'energy',\n",
       " 'ep',\n",
       " 'eu',\n",
       " 'europe',\n",
       " 'even',\n",
       " 'evening',\n",
       " 'event',\n",
       " 'everyone',\n",
       " 'excerpts',\n",
       " 'exclusive',\n",
       " 'explained',\n",
       " 'explores',\n",
       " 'extremist',\n",
       " 'fade',\n",
       " 'fake',\n",
       " 'fans',\n",
       " 'fargo',\n",
       " 'farmers',\n",
       " 'fate',\n",
       " 'favor',\n",
       " 'favorite',\n",
       " 'fbi',\n",
       " 'federal',\n",
       " 'feeds',\n",
       " 'fees',\n",
       " 'fiction',\n",
       " 'fictional',\n",
       " 'fields',\n",
       " 'fight',\n",
       " 'find',\n",
       " 'finds',\n",
       " 'fired',\n",
       " 'flights',\n",
       " 'flynn',\n",
       " 'following',\n",
       " 'follows',\n",
       " 'for',\n",
       " 'forced',\n",
       " 'forces',\n",
       " 'forecasts',\n",
       " 'forums',\n",
       " 'fox',\n",
       " 'franken',\n",
       " 'french',\n",
       " 'from',\n",
       " 'fumble',\n",
       " 'further',\n",
       " 'galaxy',\n",
       " 'gasp',\n",
       " 'general',\n",
       " 'geometry',\n",
       " 'get',\n",
       " 'girlfriend',\n",
       " 'gitmo',\n",
       " 'glp',\n",
       " 'google',\n",
       " 'gop',\n",
       " 'government',\n",
       " 'guilty',\n",
       " 'gun',\n",
       " 'gutierrez',\n",
       " 'gutless',\n",
       " 'had',\n",
       " 'half',\n",
       " 'hamon',\n",
       " 'harassment',\n",
       " 'harry',\n",
       " 'has',\n",
       " 'have',\n",
       " 'having',\n",
       " 'hawk',\n",
       " 'he',\n",
       " 'healing',\n",
       " 'heard',\n",
       " 'heaven',\n",
       " 'help',\n",
       " 'hezbollah',\n",
       " 'hide',\n",
       " 'hillary',\n",
       " 'historic',\n",
       " 'history',\n",
       " 'hollywood',\n",
       " 'home',\n",
       " 'hope',\n",
       " 'house',\n",
       " 'housewives',\n",
       " 'how',\n",
       " 'http',\n",
       " 'huma',\n",
       " 'human',\n",
       " 'humiliated',\n",
       " 'hunter',\n",
       " 'identified',\n",
       " 'if',\n",
       " 'images',\n",
       " 'immigration',\n",
       " 'impact',\n",
       " 'in',\n",
       " 'increase',\n",
       " 'independent',\n",
       " 'individual',\n",
       " 'indivisible',\n",
       " 'inner',\n",
       " 'inquiry',\n",
       " 'inspired',\n",
       " 'internal',\n",
       " 'into',\n",
       " 'invasion',\n",
       " 'investigation',\n",
       " 'investment',\n",
       " 'involve',\n",
       " 'iranian',\n",
       " 'is',\n",
       " 'isis',\n",
       " 'islam',\n",
       " 'islamic',\n",
       " 'israel',\n",
       " 'it',\n",
       " 'jackie',\n",
       " 'jailed',\n",
       " 'january',\n",
       " 'jason',\n",
       " 'jehovah',\n",
       " 'jimmy',\n",
       " 'jobs',\n",
       " 'john',\n",
       " 'johnson',\n",
       " 'journal',\n",
       " 'judge',\n",
       " 'judgment',\n",
       " 'jury',\n",
       " 'just',\n",
       " 'kaepernick',\n",
       " 'killed',\n",
       " 'kinds',\n",
       " 'king',\n",
       " 'korea',\n",
       " 'lack',\n",
       " 'land',\n",
       " 'last',\n",
       " 'latin',\n",
       " 'laura',\n",
       " 'leaders',\n",
       " 'leads',\n",
       " 'league',\n",
       " 'leaves',\n",
       " 'lebanon',\n",
       " 'left',\n",
       " 'legislature',\n",
       " 'letter',\n",
       " 'lewinsky',\n",
       " 'lie',\n",
       " 'life',\n",
       " 'lightly',\n",
       " 'like',\n",
       " 'link',\n",
       " 'linked',\n",
       " 'lion',\n",
       " 'listen',\n",
       " 'live',\n",
       " 'lives',\n",
       " 'lochte',\n",
       " 'long',\n",
       " 'lost',\n",
       " 'louisiana',\n",
       " 'love',\n",
       " 'lull',\n",
       " 'luxury',\n",
       " 'machines',\n",
       " 'major',\n",
       " 'make',\n",
       " 'makers',\n",
       " 'making',\n",
       " 'man',\n",
       " 'manchester',\n",
       " 'mary',\n",
       " 'mason',\n",
       " 'massachusetts',\n",
       " 'massacre',\n",
       " 'massive',\n",
       " 'matter',\n",
       " 'mccain',\n",
       " 'mean',\n",
       " 'media',\n",
       " 'meditation',\n",
       " 'mentally',\n",
       " 'mid',\n",
       " 'might',\n",
       " 'migrant',\n",
       " 'migrants',\n",
       " 'mike',\n",
       " 'military',\n",
       " 'milk',\n",
       " 'million',\n",
       " 'mindful',\n",
       " 'mins',\n",
       " 'miracle',\n",
       " 'mitt',\n",
       " 'monica',\n",
       " 'monsanto',\n",
       " 'moore',\n",
       " 'more',\n",
       " 'most',\n",
       " 'mourned',\n",
       " 'moves',\n",
       " 'moving',\n",
       " 'mri',\n",
       " 'muzzles',\n",
       " 'nation',\n",
       " 'nations',\n",
       " 'nato',\n",
       " 'nazi',\n",
       " 'neo',\n",
       " 'new',\n",
       " 'news',\n",
       " 'no',\n",
       " 'nobel',\n",
       " 'nomination',\n",
       " 'north',\n",
       " 'not',\n",
       " 'note',\n",
       " 'nra',\n",
       " 'nuclear',\n",
       " 'nude',\n",
       " 'nukes',\n",
       " 'nyc',\n",
       " 'nyt',\n",
       " 'obama',\n",
       " 'obsessed',\n",
       " 'of',\n",
       " 'office',\n",
       " 'officials',\n",
       " 'oil',\n",
       " 'old',\n",
       " 'on',\n",
       " 'one',\n",
       " 'open',\n",
       " 'or',\n",
       " 'orders',\n",
       " 'oregon',\n",
       " 'org',\n",
       " 'organizing',\n",
       " 'orleans',\n",
       " 'other',\n",
       " 'out',\n",
       " 'outrage',\n",
       " 'over',\n",
       " 'overhaul',\n",
       " 'packed',\n",
       " 'paid',\n",
       " 'panasonic',\n",
       " 'panther',\n",
       " 'partners',\n",
       " 'party',\n",
       " 'passage',\n",
       " 'pastor',\n",
       " 'paul',\n",
       " 'pays',\n",
       " 'peanuts',\n",
       " 'pence',\n",
       " 'percent',\n",
       " 'phones',\n",
       " 'photos',\n",
       " 'pictures',\n",
       " 'pill',\n",
       " 'pinning',\n",
       " 'pipeline',\n",
       " 'pivotal',\n",
       " 'plan',\n",
       " 'podcasts',\n",
       " 'poison',\n",
       " 'poland',\n",
       " 'policies',\n",
       " 'political',\n",
       " 'politics',\n",
       " 'poll',\n",
       " 'potential',\n",
       " 'pr',\n",
       " 'presidency',\n",
       " 'president',\n",
       " 'presidential',\n",
       " 'press',\n",
       " 'pressing',\n",
       " 'pressure',\n",
       " 'price',\n",
       " 'prize',\n",
       " 'probe',\n",
       " 'protests',\n",
       " 'public',\n",
       " 'published',\n",
       " 'putin',\n",
       " 'quota',\n",
       " 'race',\n",
       " 'raising',\n",
       " 'rally',\n",
       " 're',\n",
       " 'real',\n",
       " 'rebound',\n",
       " 'rededication',\n",
       " 'redflag',\n",
       " 'referendum',\n",
       " 'reiner',\n",
       " 'release',\n",
       " 'reopens',\n",
       " 'reportedly',\n",
       " 'reporter',\n",
       " 'reporting',\n",
       " 'republican',\n",
       " 'researchers',\n",
       " 'resign',\n",
       " 'restoring',\n",
       " 'retailers',\n",
       " 'retake',\n",
       " 'retaliation',\n",
       " 'retirement',\n",
       " 'review',\n",
       " 'revolution',\n",
       " 'right',\n",
       " 'rights',\n",
       " 'rise',\n",
       " 'rob',\n",
       " 'robbery',\n",
       " 'roger',\n",
       " 'romney',\n",
       " 'row',\n",
       " 'rule',\n",
       " 'run',\n",
       " 'russia',\n",
       " 'russian',\n",
       " 'ryan',\n",
       " 'samantha',\n",
       " 'samsung',\n",
       " 'sanders',\n",
       " 'says',\n",
       " 'scandal',\n",
       " 'script',\n",
       " 'sealed',\n",
       " 'secret',\n",
       " 'see',\n",
       " 'senate',\n",
       " 'sessions',\n",
       " 'set',\n",
       " 'sex',\n",
       " 'shake',\n",
       " 'shark',\n",
       " 'shows',\n",
       " 'simone',\n",
       " 'single',\n",
       " 'sketch',\n",
       " 'small',\n",
       " 'smallest',\n",
       " 'smartphone',\n",
       " 'soccer',\n",
       " 'social',\n",
       " 'socialist',\n",
       " 'soros',\n",
       " 'spanks',\n",
       " 'spark',\n",
       " 'sparking',\n",
       " 'speak',\n",
       " 'speedo',\n",
       " 'square',\n",
       " 'standoff',\n",
       " 'stare',\n",
       " 'stars',\n",
       " 'starts',\n",
       " 'state',\n",
       " 'steps',\n",
       " 'still',\n",
       " 'stoned',\n",
       " 'story',\n",
       " 'strategist',\n",
       " 'strategy',\n",
       " 'stream',\n",
       " 'strikes',\n",
       " 'study',\n",
       " 'stunned',\n",
       " 'success',\n",
       " 'sued',\n",
       " 'support',\n",
       " 'supporters',\n",
       " 'syria',\n",
       " 'tactic',\n",
       " 'tantaros',\n",
       " 'tax',\n",
       " 'tears',\n",
       " 'tensions',\n",
       " 'tent',\n",
       " 'terrorist',\n",
       " 'texas',\n",
       " 'than',\n",
       " 'that',\n",
       " 'the',\n",
       " 'there',\n",
       " 'this',\n",
       " 'thread',\n",
       " 'threatens',\n",
       " 'timeline',\n",
       " 'times',\n",
       " 'tips',\n",
       " 'to',\n",
       " 'todd',\n",
       " 'trans',\n",
       " 'transcontinental',\n",
       " 'transfers',\n",
       " 'transgender',\n",
       " 'treads',\n",
       " 'treason',\n",
       " 'treasure',\n",
       " 'treaty',\n",
       " 'trend',\n",
       " 'tries',\n",
       " 'trolls',\n",
       " 'true',\n",
       " 'trump',\n",
       " 'truth',\n",
       " 'tuesday',\n",
       " 'turkey',\n",
       " 'tv',\n",
       " 'tvs',\n",
       " 'tweeted',\n",
       " 'tyler',\n",
       " 'ukraine',\n",
       " 'un',\n",
       " 'unborn',\n",
       " 'union',\n",
       " 'unknown',\n",
       " 'unpublished',\n",
       " 'unstable',\n",
       " 'until',\n",
       " 'unveils',\n",
       " 'up',\n",
       " 'urge',\n",
       " 'us',\n",
       " 'usa',\n",
       " 'van',\n",
       " 'venezuela',\n",
       " 'video',\n",
       " 'videos',\n",
       " 'violence',\n",
       " 'visions',\n",
       " 'voice',\n",
       " 'voters',\n",
       " 'vow',\n",
       " 'vows',\n",
       " 'war',\n",
       " 'warning',\n",
       " 'waste',\n",
       " 'way',\n",
       " 'we',\n",
       " 'weapons',\n",
       " 'websites',\n",
       " 'week',\n",
       " 'weiner',\n",
       " 'wells',\n",
       " 'west',\n",
       " 'what',\n",
       " 'whether',\n",
       " 'white',\n",
       " 'why',\n",
       " 'wife',\n",
       " 'will',\n",
       " 'wins',\n",
       " 'wiped',\n",
       " 'with',\n",
       " 'without',\n",
       " 'witnesses',\n",
       " 'woman',\n",
       " 'women',\n",
       " 'won',\n",
       " 'wonder',\n",
       " 'world',\n",
       " 'worries',\n",
       " 'worth',\n",
       " 'would',\n",
       " 'wow',\n",
       " 'yale',\n",
       " 'yes',\n",
       " 'york',\n",
       " 'you',\n",
       " 'your',\n",
       " 'youth',\n",
       " 'zika',\n",
       " 'zone',\n",
       " 'подготовку',\n",
       " 'приписали',\n",
       " 'россиянам',\n",
       " 'сербии',\n",
       " 'сми',\n",
       " 'терактов',\n",
       " 'черногории']"
      ]
     },
     "execution_count": 186,
     "metadata": {},
     "output_type": "execute_result"
    }
   ],
   "source": [
    "cv.get_feature_names()"
   ]
  },
  {
   "cell_type": "markdown",
   "metadata": {},
   "source": [
    "###  TfidfVectorizer that combines all the options of CountVectorizer and TfidfTransformer in a single model:"
   ]
  },
  {
   "cell_type": "code",
   "execution_count": 187,
   "metadata": {},
   "outputs": [],
   "source": [
    "from sklearn.feature_extraction.text import TfidfVectorizer\n",
    "tv1 = TfidfVectorizer()\n",
    "sp1 = tv1.fit_transform(text_data[\"title\"])"
   ]
  },
  {
   "cell_type": "code",
   "execution_count": 188,
   "metadata": {},
   "outputs": [
    {
     "data": {
      "text/plain": [
       "array([[0., 0., 0., ..., 0., 0., 0.],\n",
       "       [0., 0., 0., ..., 0., 0., 0.],\n",
       "       [0., 0., 0., ..., 0., 0., 0.],\n",
       "       ...,\n",
       "       [0., 0., 0., ..., 0., 0., 0.],\n",
       "       [0., 0., 0., ..., 0., 0., 0.],\n",
       "       [0., 0., 0., ..., 0., 0., 0.]])"
      ]
     },
     "execution_count": 188,
     "metadata": {},
     "output_type": "execute_result"
    }
   ],
   "source": [
    "sp1.toarray()"
   ]
  },
  {
   "cell_type": "code",
   "execution_count": 189,
   "metadata": {},
   "outputs": [],
   "source": [
    "tv2 = TfidfVectorizer()\n",
    "text_transform = tv2.fit_transform(text_data[\"text\"])"
   ]
  },
  {
   "cell_type": "code",
   "execution_count": null,
   "metadata": {},
   "outputs": [],
   "source": []
  },
  {
   "cell_type": "code",
   "execution_count": null,
   "metadata": {},
   "outputs": [],
   "source": [
    "from sklearn.datasets import fetch_20newsgroups"
   ]
  },
  {
   "cell_type": "code",
   "execution_count": null,
   "metadata": {},
   "outputs": [],
   "source": [
    "## Matrix decomposition \n",
    "\n",
    "- decomposition.DictionaryLearning([…])\n",
    "\n",
    "- Dictionary learning\n",
    "\n",
    "- decomposition.FactorAnalysis([n_components, …])\n",
    "\n",
    "- Factor Analysis (FA)\n",
    "\n",
    "- decomposition.FastICA([n_components, …])\n",
    "\n",
    "- FastICA: a fast algorithm for Independent Component Analysis.\n",
    "\n",
    "- decomposition.IncrementalPCA([n_components, …])\n",
    "\n",
    "- Incremental principal components analysis (IPCA).\n",
    "\n",
    "- decomposition.KernelPCA([n_components, …])\n",
    "\n",
    "- Kernel Principal component analysis (KPCA)\n",
    "\n",
    "- decomposition.LatentDirichletAllocation([…])\n",
    "\n",
    "- Latent Dirichlet Allocation with online variational Bayes algorithm\n",
    "\n",
    "- decomposition.MiniBatchDictionaryLearning([…])\n",
    "\n",
    "- Mini-batch dictionary learning\n",
    "\n",
    "- decomposition.MiniBatchSparsePCA([…])\n",
    "\n",
    "- Mini-batch Sparse Principal Components Analysis\n",
    "\n",
    "- decomposition.NMF([n_components, init, …])\n",
    "\n",
    "- Non-Negative Matrix Factorization (NMF)\n",
    "\n",
    "- decomposition.PCA([n_components, copy, …])\n",
    "\n",
    "- Principal component analysis (PCA).\n",
    "\n",
    "- decomposition.SparsePCA([n_components, …])\n",
    "\n",
    "- Sparse Principal Components Analysis (SparsePCA)\n",
    "\n",
    "- decomposition.SparseCoder(dictionary, *[, …])\n",
    "\n",
    "- Sparse coding\n",
    "\n",
    "- decomposition.TruncatedSVD([n_components, …])\n",
    "\n",
    "Dimensionality reduction using truncated SVD (aka LSA).\n",
    "\n",
    "decomposition.dict_learning(X, n_components, …)\n",
    "\n",
    "Solves a dictionary learning matrix factorization problem.\n",
    "\n",
    "decomposition.dict_learning_online(X[, …])\n",
    "\n",
    "Solves a dictionary learning matrix factorization problem online.\n",
    "\n",
    "decomposition.fastica(X[, n_components, …])\n",
    "\n",
    "Perform Fast Independent Component Analysis.\n",
    "\n",
    "decomposition.non_negative_factorization(X)\n",
    "\n",
    "Compute Non-negative Matrix Factorization (NMF)\n",
    "\n",
    "decomposition.sparse_encode(X, dictionary, *)\n",
    "\n",
    "Sparse coding"
   ]
  }
 ],
 "metadata": {
  "kernelspec": {
   "display_name": "Python 3",
   "language": "python",
   "name": "python3"
  },
  "language_info": {
   "codemirror_mode": {
    "name": "ipython",
    "version": 3
   },
   "file_extension": ".py",
   "mimetype": "text/x-python",
   "name": "python",
   "nbconvert_exporter": "python",
   "pygments_lexer": "ipython3",
   "version": "3.7.6"
  }
 },
 "nbformat": 4,
 "nbformat_minor": 4
}
